{
 "cells": [
  {
   "cell_type": "code",
   "execution_count": 3,
   "id": "2a61f3e8",
   "metadata": {},
   "outputs": [],
   "source": [
    "import pandas as pd\n",
    "from datetime import datetime\n",
    "import matplotlib.pyplot as plt"
   ]
  },
  {
   "cell_type": "code",
   "execution_count": 4,
   "id": "b61a26ae",
   "metadata": {},
   "outputs": [],
   "source": [
    "# read the data from the csv file\n",
    "data = pd.read_csv(\"/Users/leonardogorelli/Downloads/AA_22_Team_14/Boston_Data_Clean.csv\")"
   ]
  },
  {
   "cell_type": "code",
   "execution_count": 5,
   "id": "b8096b22",
   "metadata": {},
   "outputs": [
    {
     "data": {
      "text/plain": [
       "Index(['Unnamed: 0', 'start_time', 'end_time', 'start_station_id',\n",
       "       'end_station_id', 'start_station_name', 'end_station_name', 'bike_id',\n",
       "       'user_type'],\n",
       "      dtype='object')"
      ]
     },
     "execution_count": 5,
     "metadata": {},
     "output_type": "execute_result"
    }
   ],
   "source": [
    "data.columns"
   ]
  },
  {
   "cell_type": "markdown",
   "id": "71f698a1",
   "metadata": {},
   "source": [
    "# §1) Average Utilization Rate"
   ]
  },
  {
   "cell_type": "code",
   "execution_count": 6,
   "id": "ff9eceea",
   "metadata": {},
   "outputs": [],
   "source": [
    "# convert date columns to datetime\n",
    "data['start_time'] = pd.to_datetime(data['start_time'])\n",
    "data['end_time'] = pd.to_datetime(data['end_time'])"
   ]
  },
  {
   "cell_type": "code",
   "execution_count": 7,
   "id": "a4034599",
   "metadata": {},
   "outputs": [],
   "source": [
    "# empty list to store the result\n",
    "utilization = []"
   ]
  },
  {
   "cell_type": "code",
   "execution_count": 8,
   "id": "6040e52d",
   "metadata": {},
   "outputs": [],
   "source": [
    "# loop through each row of the dataset\n",
    "for i, row in data.iterrows():\n",
    "    difference = row['end_time'] - row['start_time']\n",
    "    utilization.append(difference)"
   ]
  },
  {
   "cell_type": "code",
   "execution_count": 9,
   "id": "c506f8b3",
   "metadata": {},
   "outputs": [],
   "source": [
    "# convert the list in numeric value\n",
    "numeric_utilization = []\n",
    "for td in utilization:\n",
    "    numeric_utilization.append(td.seconds)\n"
   ]
  },
  {
   "cell_type": "code",
   "execution_count": 10,
   "id": "c832f70f",
   "metadata": {},
   "outputs": [
    {
     "name": "stdout",
     "output_type": "stream",
     "text": [
      "16.475964606341456\n"
     ]
    }
   ],
   "source": [
    "# calculate the average utilization in seconds\n",
    "average_utilization_sec = sum(numeric_utilization)/len(numeric_utilization)\n",
    "\n",
    "# calculate the average utilization in minutes\n",
    "average_utilization_min = average_utilization_sec/60\n",
    "\n",
    "print(average_utilization_min )"
   ]
  },
  {
   "cell_type": "markdown",
   "id": "469a7ee3",
   "metadata": {},
   "source": [
    "### Average Utilization Rate per Month"
   ]
  },
  {
   "cell_type": "code",
   "execution_count": 11,
   "id": "8d2ff942",
   "metadata": {},
   "outputs": [],
   "source": [
    "# convert numeric values to datetime\n",
    "data['start_time'] = pd.to_datetime(data['start_time'],unit='m')\n",
    "data['end_time'] = pd.to_datetime(data['end_time'],unit='m')"
   ]
  },
  {
   "cell_type": "code",
   "execution_count": 12,
   "id": "07011266",
   "metadata": {},
   "outputs": [],
   "source": [
    "# extract the month from the datetime objects\n",
    "data['start_month'] = data['start_time'].dt.month\n",
    "\n",
    "# calculate the utilization for each row\n",
    "data['utilization'] = data['end_time'] - data['start_time']\n",
    "\n",
    "# convert timedelta to seconds\n",
    "data['utilization'] = data['utilization'].dt.total_seconds()"
   ]
  },
  {
   "cell_type": "code",
   "execution_count": 13,
   "id": "3540919d",
   "metadata": {},
   "outputs": [
    {
     "name": "stdout",
     "output_type": "stream",
     "text": [
      "start_month\n",
      "1     13.120641\n",
      "2     11.356841\n",
      "3     15.849879\n",
      "4     24.460077\n",
      "5     20.214343\n",
      "6     20.497892\n",
      "7     21.714208\n",
      "8     18.710743\n",
      "9     17.715617\n",
      "10    18.101139\n",
      "11    14.151782\n",
      "12    14.257984\n",
      "Name: utilization, dtype: float64\n"
     ]
    }
   ],
   "source": [
    "# group the data by the start month\n",
    "monthly_utilization_sec = data.groupby('start_month')['utilization'].mean()\n",
    "\n",
    "# calculate the average utilization in minutes per each month\n",
    "monthly_utilization_min = monthly_utilization_sec/60\n",
    "\n",
    "print(monthly_utilization_min)"
   ]
  },
  {
   "cell_type": "code",
   "execution_count": 14,
   "id": "e6a4e914",
   "metadata": {},
   "outputs": [
    {
     "data": {
      "image/png": "[encoded data removed]",
      "text/plain": [
       "<Figure size 432x288 with 1 Axes>"
      ]
     },
     "metadata": {
      "needs_background": "light"
     },
     "output_type": "display_data"
    }
   ],
   "source": [
    "# create a visual representation of the \"monthly_utilization_min\" data\n",
    "monthly_utilization_min.plot(kind='bar')\n",
    "plt.xlabel(\"Month\")\n",
    "plt.ylabel(\"Percentage (%)\")\n",
    "plt.title(\"Average Monthly Utilization (in Min)\")\n",
    "plt.show()"
   ]
  },
  {
   "cell_type": "markdown",
   "id": "ee1fb52b",
   "metadata": {},
   "source": [
    "The **Average Utilization Rate in minutes** in Boston in 2017 is 16.48 min.\n",
    "\n",
    "The **Average Utilization Rate** change each Month. In particular, the **Highest Average Utilization** was recorded in April 2017 with 24.46 min, while the **Lowest Average Utilization** was recorded in February 2017 with only 11.36 min."
   ]
  },
  {
   "cell_type": "markdown",
   "id": "b16a46fb",
   "metadata": {},
   "source": [
    "# §2) Shares of Customers and Subscribers "
   ]
  },
  {
   "cell_type": "code",
   "execution_count": 15,
   "id": "99ab682c",
   "metadata": {},
   "outputs": [
    {
     "name": "stdout",
     "output_type": "stream",
     "text": [
      "Subscriber    84.089295\n",
      "Customer      15.910705\n",
      "Name: user_type, dtype: float64\n"
     ]
    }
   ],
   "source": [
    "# calculate the share of customers and subscribers\n",
    "user_type_counts = data[\"user_type\"].value_counts(normalize = True) * 100\n",
    "\n",
    "print(user_type_counts)"
   ]
  },
  {
   "cell_type": "code",
   "execution_count": 16,
   "id": "d0912586",
   "metadata": {},
   "outputs": [
    {
     "data": {
      "image/png": "[encoded data removed]",
      "text/plain": [
       "<Figure size 432x288 with 1 Axes>"
      ]
     },
     "metadata": {},
     "output_type": "display_data"
    }
   ],
   "source": [
    "# pie chart\n",
    "labels = ['Customers', 'Subscribers']\n",
    "sizes = [user_type_counts['Customer'], user_type_counts['Subscriber']]\n",
    "\n",
    "# plot\n",
    "plt.pie(sizes, labels=labels, autopct='%1.1f%%', shadow=True, startangle=90)\n",
    "plt.axis('equal')\n",
    "plt.title(\"Percentage of Customers and Subscribers\")\n",
    "plt.show()"
   ]
  },
  {
   "cell_type": "markdown",
   "id": "0a26c6c9",
   "metadata": {},
   "source": [
    "## Shares of Customers and Subscribers per Month"
   ]
  },
  {
   "cell_type": "code",
   "execution_count": 17,
   "id": "52bc16bd",
   "metadata": {},
   "outputs": [],
   "source": [
    "# convert start_time and end_time columns to datetime objects\n",
    "data[\"start_time\"] = pd.to_datetime(data[\"start_time\"])\n",
    "data[\"end_time\"] = pd.to_datetime(data[\"end_time\"])"
   ]
  },
  {
   "cell_type": "code",
   "execution_count": 18,
   "id": "4473bfa4",
   "metadata": {},
   "outputs": [],
   "source": [
    "# extract the month from the start_time and end_time columns\n",
    "data[\"start_month\"] = data[\"start_time\"].dt.month\n",
    "data[\"end_month\"] = data[\"end_time\"].dt.month"
   ]
  },
  {
   "cell_type": "code",
   "execution_count": 19,
   "id": "cea6369f",
   "metadata": {},
   "outputs": [
    {
     "data": {
      "text/plain": [
       "start_month  user_type \n",
       "1            Customer       5.539329\n",
       "             Subscriber    94.460671\n",
       "2            Customer       6.137456\n",
       "             Subscriber    93.862544\n",
       "3            Customer       6.095415\n",
       "             Subscriber    93.904585\n",
       "4            Customer      22.569597\n",
       "             Subscriber    77.430403\n",
       "5            Customer      17.430059\n",
       "             Subscriber    82.569941\n",
       "6            Customer      19.179791\n",
       "             Subscriber    80.820209\n",
       "7            Customer      22.930849\n",
       "             Subscriber    77.069151\n",
       "8            Customer      17.988366\n",
       "             Subscriber    82.011634\n",
       "9            Customer      13.882842\n",
       "             Subscriber    86.117158\n",
       "10           Customer      12.970420\n",
       "             Subscriber    87.029580\n",
       "11           Customer       7.885679\n",
       "             Subscriber    92.114321\n",
       "12           Customer       3.595293\n",
       "             Subscriber    96.404707\n",
       "dtype: float64"
      ]
     },
     "execution_count": 19,
     "metadata": {},
     "output_type": "execute_result"
    }
   ],
   "source": [
    "# group the data by month and user_type and calculate the percentage\n",
    "monthly_user_type = data.groupby([\"start_month\", \"user_type\"]).size().groupby(level=0).apply(lambda x: 100 * x / x.sum())\n",
    "monthly_user_type"
   ]
  },
  {
   "cell_type": "code",
   "execution_count": 20,
   "id": "9e1b7d3d",
   "metadata": {},
   "outputs": [
    {
     "data": {
      "image/png": "[encoded data removed]",
      "text/plain": [
       "<Figure size 432x288 with 1 Axes>"
      ]
     },
     "metadata": {
      "needs_background": "light"
     },
     "output_type": "display_data"
    }
   ],
   "source": [
    "# create a visual representation of the \"monthly_user_type\" data\n",
    "monthly_user_type.unstack().plot(kind='bar', stacked=True)\n",
    "plt.xlabel(\"Month\")\n",
    "plt.ylabel(\"Percentage (%)\")\n",
    "plt.title(\"Monthly User Type Percentage\")\n",
    "plt.show()"
   ]
  },
  {
   "cell_type": "markdown",
   "id": "64924f9a",
   "metadata": {},
   "source": [
    "The **Shares of Customers and Subscribers** in Boston in 2017 is 84.09% for Subscribers and only 15.91% for Customers.\n",
    "\n",
    "However, the Shares change each month. In particular, the **Highest Percentage of Subscribers** was recorded in December (96.40%), while the **Lowest Percentage of Subscribers** was recorded in July (77.07%).\n",
    "\n",
    "On the other hand, the **Highest Percentage of Customers** was recorded in July (22.93%), while the **Lowest Percentage of Subscribers** was recorded in December (3.60%)."
   ]
  },
  {
   "cell_type": "markdown",
   "id": "e58d87b5",
   "metadata": {},
   "source": [
    "# §3) Ratio of Customers to Subscribers"
   ]
  },
  {
   "cell_type": "code",
   "execution_count": 21,
   "id": "b49f2ad8",
   "metadata": {},
   "outputs": [
    {
     "name": "stdout",
     "output_type": "stream",
     "text": [
      "0.1892120148923401\n"
     ]
    }
   ],
   "source": [
    "# calculate the ratio of customers to subscribers\n",
    "user_type_counts = data[\"user_type\"].value_counts()\n",
    "\n",
    "# divide the count of customers by count of subscribers\n",
    "overall_ratio = user_type_counts['Customer']/user_type_counts['Subscriber']\n",
    "\n",
    "print(overall_ratio)"
   ]
  },
  {
   "cell_type": "markdown",
   "id": "234b26e2",
   "metadata": {},
   "source": [
    "## Ratio of Customers to Subscribers per Month"
   ]
  },
  {
   "cell_type": "code",
   "execution_count": 22,
   "id": "2a25fffa",
   "metadata": {},
   "outputs": [
    {
     "data": {
      "text/plain": [
       "start_month\n",
       "1     0.058642\n",
       "2     0.065388\n",
       "3     0.064911\n",
       "4     0.291482\n",
       "5     0.211094\n",
       "6     0.237314\n",
       "7     0.297536\n",
       "8     0.219339\n",
       "9     0.161209\n",
       "10    0.149035\n",
       "11    0.085608\n",
       "12    0.037294\n",
       "dtype: float64"
      ]
     },
     "execution_count": 22,
     "metadata": {},
     "output_type": "execute_result"
    }
   ],
   "source": [
    "# calculate the monthly ratio of customers to subscribers\n",
    "monthly_ratio = monthly_user_type.loc[:,'Customer'] / monthly_user_type.loc[:,'Subscriber']\n",
    "monthly_ratio"
   ]
  },
  {
   "cell_type": "code",
   "execution_count": 23,
   "id": "4d096efb",
   "metadata": {},
   "outputs": [
    {
     "data": {
      "image/png": "[encoded data removed]",
      "text/plain": [
       "<Figure size 432x288 with 1 Axes>"
      ]
     },
     "metadata": {
      "needs_background": "light"
     },
     "output_type": "display_data"
    }
   ],
   "source": [
    "# create a visual representation of the \"monthly_ratio\" data\n",
    "monthly_ratio.plot(kind='bar')\n",
    "plt.xlabel(\"Month\")\n",
    "plt.ylabel(\"Ratio\")\n",
    "plt.title(\"Monthly Ratio of Customers to Subscribers\")\n",
    "plt.show()"
   ]
  },
  {
   "cell_type": "markdown",
   "id": "2f55cf76",
   "metadata": {},
   "source": [
    "The **Overal Ratio of Customers to Subscribers** in Boston in 2017 is 0.1892.\n",
    "\n",
    "However, the Ratio change each month. In particular, the **Highest Ratio of Customers to Subscribers** was recorded in July (0.2975), while the **Lowest Ratio of Customers to Subscribers** was recorded in December (0.0373)."
   ]
  }
 ],
 "metadata": {
  "kernelspec": {
   "display_name": "Python 3 (ipykernel)",
   "language": "python",
   "name": "python3"
  },
  "language_info": {
   "codemirror_mode": {
    "name": "ipython",
    "version": 3
   },
   "file_extension": ".py",
   "mimetype": "text/x-python",
   "name": "python",
   "nbconvert_exporter": "python",
   "pygments_lexer": "ipython3",
   "version": "3.9.12"
  }
 },
 "nbformat": 4,
 "nbformat_minor": 5
}
