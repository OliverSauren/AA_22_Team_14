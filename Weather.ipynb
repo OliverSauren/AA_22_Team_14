{
 "cells": [
  {
   "cell_type": "code",
   "execution_count": 2,
   "id": "becee42f",
   "metadata": {},
   "outputs": [
    {
     "data": {
      "text/html": [
       "<div>\n",
       "<style scoped>\n",
       "    .dataframe tbody tr th:only-of-type {\n",
       "        vertical-align: middle;\n",
       "    }\n",
       "\n",
       "    .dataframe tbody tr th {\n",
       "        vertical-align: top;\n",
       "    }\n",
       "\n",
       "    .dataframe thead th {\n",
       "        text-align: right;\n",
       "    }\n",
       "</style>\n",
       "<table border=\"1\" class=\"dataframe\">\n",
       "  <thead>\n",
       "    <tr style=\"text-align: right;\">\n",
       "      <th></th>\n",
       "      <th>date_time</th>\n",
       "      <th>max_temp</th>\n",
       "      <th>min_temp</th>\n",
       "      <th>precip</th>\n",
       "    </tr>\n",
       "  </thead>\n",
       "  <tbody>\n",
       "    <tr>\n",
       "      <th>0</th>\n",
       "      <td>2015-01-02 01:00:00</td>\n",
       "      <td>-1.1</td>\n",
       "      <td>-1.1</td>\n",
       "      <td>0.0</td>\n",
       "    </tr>\n",
       "    <tr>\n",
       "      <th>1</th>\n",
       "      <td>2015-01-02 02:00:00</td>\n",
       "      <td>-1.1</td>\n",
       "      <td>-1.1</td>\n",
       "      <td>0.0</td>\n",
       "    </tr>\n",
       "    <tr>\n",
       "      <th>2</th>\n",
       "      <td>2015-01-02 03:00:00</td>\n",
       "      <td>-0.6</td>\n",
       "      <td>-0.6</td>\n",
       "      <td>0.0</td>\n",
       "    </tr>\n",
       "    <tr>\n",
       "      <th>3</th>\n",
       "      <td>2015-01-02 04:00:00</td>\n",
       "      <td>-0.6</td>\n",
       "      <td>-0.6</td>\n",
       "      <td>0.0</td>\n",
       "    </tr>\n",
       "    <tr>\n",
       "      <th>4</th>\n",
       "      <td>2015-01-02 05:00:00</td>\n",
       "      <td>-0.6</td>\n",
       "      <td>-0.6</td>\n",
       "      <td>0.0</td>\n",
       "    </tr>\n",
       "    <tr>\n",
       "      <th>...</th>\n",
       "      <td>...</td>\n",
       "      <td>...</td>\n",
       "      <td>...</td>\n",
       "      <td>...</td>\n",
       "    </tr>\n",
       "    <tr>\n",
       "      <th>43843</th>\n",
       "      <td>2020-01-01 20:00:00</td>\n",
       "      <td>5.0</td>\n",
       "      <td>5.0</td>\n",
       "      <td>0.0</td>\n",
       "    </tr>\n",
       "    <tr>\n",
       "      <th>43844</th>\n",
       "      <td>2020-01-01 21:00:00</td>\n",
       "      <td>4.4</td>\n",
       "      <td>4.4</td>\n",
       "      <td>0.0</td>\n",
       "    </tr>\n",
       "    <tr>\n",
       "      <th>43845</th>\n",
       "      <td>2020-01-01 22:00:00</td>\n",
       "      <td>4.4</td>\n",
       "      <td>4.4</td>\n",
       "      <td>0.0</td>\n",
       "    </tr>\n",
       "    <tr>\n",
       "      <th>43846</th>\n",
       "      <td>2020-01-01 23:00:00</td>\n",
       "      <td>3.9</td>\n",
       "      <td>3.9</td>\n",
       "      <td>0.0</td>\n",
       "    </tr>\n",
       "    <tr>\n",
       "      <th>43847</th>\n",
       "      <td>2020-01-02 00:00:00</td>\n",
       "      <td>3.3</td>\n",
       "      <td>3.3</td>\n",
       "      <td>0.0</td>\n",
       "    </tr>\n",
       "  </tbody>\n",
       "</table>\n",
       "<p>43848 rows × 4 columns</p>\n",
       "</div>"
      ],
      "text/plain": [
       "                date_time  max_temp  min_temp  precip\n",
       "0     2015-01-02 01:00:00      -1.1      -1.1     0.0\n",
       "1     2015-01-02 02:00:00      -1.1      -1.1     0.0\n",
       "2     2015-01-02 03:00:00      -0.6      -0.6     0.0\n",
       "3     2015-01-02 04:00:00      -0.6      -0.6     0.0\n",
       "4     2015-01-02 05:00:00      -0.6      -0.6     0.0\n",
       "...                   ...       ...       ...     ...\n",
       "43843 2020-01-01 20:00:00       5.0       5.0     0.0\n",
       "43844 2020-01-01 21:00:00       4.4       4.4     0.0\n",
       "43845 2020-01-01 22:00:00       4.4       4.4     0.0\n",
       "43846 2020-01-01 23:00:00       3.9       3.9     0.0\n",
       "43847 2020-01-02 00:00:00       3.3       3.3     0.0\n",
       "\n",
       "[43848 rows x 4 columns]"
      ]
     },
     "execution_count": 2,
     "metadata": {},
     "output_type": "execute_result"
    }
   ],
   "source": [
    "import pandas as pd\n",
    "df = pd.read_csv(\"weather_hourly_boston.csv\",  parse_dates=[\n",
    "                          \"date_time\"]\n",
    "    ) ## load data\n",
    "df ## Present data"
   ]
  },
  {
   "cell_type": "code",
   "execution_count": 4,
   "id": "1769ab76",
   "metadata": {},
   "outputs": [],
   "source": [
    "missing_values = df.isna().sum() ## Check for missing values\n",
    "missing_values\n",
    "\n",
    "new_df= df.fillna(method='bfill') ## Fill the missing data with data from the next rows\n",
    "\n",
    "new_df.to_csv('cleaned_weather_fixed.csv') ## Save cleaned file\n"
   ]
  },
  {
   "cell_type": "code",
   "execution_count": 5,
   "id": "325340c8",
   "metadata": {},
   "outputs": [],
   "source": [
    "weatherData = new_df[(new_df[\"date_time\"].dt.year > 2016) & (\n",
    "    new_df[\"date_time\"].dt.year < 2018)] ## Cut off data from other years, so we only have data for 2017\n",
    "\n",
    "weatherData.to_csv('cleaned_weather_2017_fix.csv') ## Save data for 2017\n",
    "\n",
    "\n"
   ]
  },
  {
   "cell_type": "code",
   "execution_count": 8,
   "id": "900f5944",
   "metadata": {},
   "outputs": [
    {
     "data": {
      "text/plain": [
       "date_time    0\n",
       "max_temp     0\n",
       "min_temp     0\n",
       "precip       0\n",
       "dtype: int64"
      ]
     },
     "execution_count": 8,
     "metadata": {},
     "output_type": "execute_result"
    }
   ],
   "source": [
    "new_df.isna().sum() ## check for any missing variables"
   ]
  }
 ],
 "metadata": {
  "kernelspec": {
   "display_name": "Python 3 (ipykernel)",
   "language": "python",
   "name": "python3"
  },
  "language_info": {
   "codemirror_mode": {
    "name": "ipython",
    "version": 3
   },
   "file_extension": ".py",
   "mimetype": "text/x-python",
   "name": "python",
   "nbconvert_exporter": "python",
   "pygments_lexer": "ipython3",
   "version": "3.9.12"
  }
 },
 "nbformat": 4,
 "nbformat_minor": 5
}
