{
 "cells": [
  {
   "cell_type": "code",
   "execution_count": 48,
   "metadata": {
    "collapsed": true
   },
   "outputs": [],
   "source": [
    "import pandas as pd\n",
    "from datetime import timedelta\n",
    "import numpy as np"
   ]
  },
  {
   "cell_type": "code",
   "execution_count": 49,
   "outputs": [],
   "source": [
    "data = pd.read_csv(\"boston_2017.csv\")"
   ],
   "metadata": {
    "collapsed": false
   }
  },
  {
   "cell_type": "code",
   "execution_count": 50,
   "outputs": [
    {
     "data": {
      "text/plain": "Index(['start_time', 'end_time', 'start_station_id', 'end_station_id',\n       'start_station_name', 'end_station_name', 'bike_id', 'user_type'],\n      dtype='object')"
     },
     "execution_count": 50,
     "metadata": {},
     "output_type": "execute_result"
    }
   ],
   "source": [
    "data.columns"
   ],
   "metadata": {
    "collapsed": false
   }
  },
  {
   "cell_type": "code",
   "execution_count": 51,
   "outputs": [
    {
     "data": {
      "text/plain": "                  start_time             end_time  start_station_id  \\\n1313769  2017-12-31 23:46:18  2017-12-31 23:50:27               117   \n1313770  2017-12-29 16:11:56  2017-12-29 16:16:18                54   \n1313771  2017-12-30 08:09:44  2017-12-30 08:26:08                54   \n1313772  2017-12-30 12:20:01  2017-12-30 12:49:12                54   \n1313773  2017-12-30 18:27:39  2017-12-30 18:53:54                54   \n\n         end_station_id     start_station_name  \\\n1313769             141   Binney St / Sixth St   \n1313770              42  Tremont St at West St   \n1313771              58  Tremont St at West St   \n1313772              46  Tremont St at West St   \n1313773              21  Tremont St at West St   \n\n                                          end_station_name  bike_id  \\\n1313769                                     Kendall Street     1846   \n1313770  Boylston St at Arlington St TEMPORARY WINTER L...        2   \n1313771                          Beacon St at Arlington St     1534   \n1313772  Christian Science Plaza - Massachusetts Ave at...     1978   \n1313773                   Prudential Center - Belvedere St       15   \n\n          user_type  \n1313769  Subscriber  \n1313770  Subscriber  \n1313771  Subscriber  \n1313772  Subscriber  \n1313773  Subscriber  ",
      "text/html": "<div>\n<style scoped>\n    .dataframe tbody tr th:only-of-type {\n        vertical-align: middle;\n    }\n\n    .dataframe tbody tr th {\n        vertical-align: top;\n    }\n\n    .dataframe thead th {\n        text-align: right;\n    }\n</style>\n<table border=\"1\" class=\"dataframe\">\n  <thead>\n    <tr style=\"text-align: right;\">\n      <th></th>\n      <th>start_time</th>\n      <th>end_time</th>\n      <th>start_station_id</th>\n      <th>end_station_id</th>\n      <th>start_station_name</th>\n      <th>end_station_name</th>\n      <th>bike_id</th>\n      <th>user_type</th>\n    </tr>\n  </thead>\n  <tbody>\n    <tr>\n      <th>1313769</th>\n      <td>2017-12-31 23:46:18</td>\n      <td>2017-12-31 23:50:27</td>\n      <td>117</td>\n      <td>141</td>\n      <td>Binney St / Sixth St</td>\n      <td>Kendall Street</td>\n      <td>1846</td>\n      <td>Subscriber</td>\n    </tr>\n    <tr>\n      <th>1313770</th>\n      <td>2017-12-29 16:11:56</td>\n      <td>2017-12-29 16:16:18</td>\n      <td>54</td>\n      <td>42</td>\n      <td>Tremont St at West St</td>\n      <td>Boylston St at Arlington St TEMPORARY WINTER L...</td>\n      <td>2</td>\n      <td>Subscriber</td>\n    </tr>\n    <tr>\n      <th>1313771</th>\n      <td>2017-12-30 08:09:44</td>\n      <td>2017-12-30 08:26:08</td>\n      <td>54</td>\n      <td>58</td>\n      <td>Tremont St at West St</td>\n      <td>Beacon St at Arlington St</td>\n      <td>1534</td>\n      <td>Subscriber</td>\n    </tr>\n    <tr>\n      <th>1313772</th>\n      <td>2017-12-30 12:20:01</td>\n      <td>2017-12-30 12:49:12</td>\n      <td>54</td>\n      <td>46</td>\n      <td>Tremont St at West St</td>\n      <td>Christian Science Plaza - Massachusetts Ave at...</td>\n      <td>1978</td>\n      <td>Subscriber</td>\n    </tr>\n    <tr>\n      <th>1313773</th>\n      <td>2017-12-30 18:27:39</td>\n      <td>2017-12-30 18:53:54</td>\n      <td>54</td>\n      <td>21</td>\n      <td>Tremont St at West St</td>\n      <td>Prudential Center - Belvedere St</td>\n      <td>15</td>\n      <td>Subscriber</td>\n    </tr>\n  </tbody>\n</table>\n</div>"
     },
     "execution_count": 51,
     "metadata": {},
     "output_type": "execute_result"
    }
   ],
   "source": [
    "data.tail()"
   ],
   "metadata": {
    "collapsed": false
   }
  },
  {
   "cell_type": "markdown",
   "source": [
    "# Check for null values"
   ],
   "metadata": {
    "collapsed": false
   }
  },
  {
   "cell_type": "code",
   "execution_count": 52,
   "outputs": [
    {
     "name": "stdout",
     "output_type": "stream",
     "text": [
      "<class 'pandas.core.frame.DataFrame'>\n",
      "RangeIndex: 1313774 entries, 0 to 1313773\n",
      "Data columns (total 8 columns):\n",
      " #   Column              Non-Null Count    Dtype \n",
      "---  ------              --------------    ----- \n",
      " 0   start_time          1313774 non-null  object\n",
      " 1   end_time            1313774 non-null  object\n",
      " 2   start_station_id    1313774 non-null  int64 \n",
      " 3   end_station_id      1313774 non-null  int64 \n",
      " 4   start_station_name  1313774 non-null  object\n",
      " 5   end_station_name    1313774 non-null  object\n",
      " 6   bike_id             1313774 non-null  int64 \n",
      " 7   user_type           1313774 non-null  object\n",
      "dtypes: int64(3), object(5)\n",
      "memory usage: 80.2+ MB\n"
     ]
    }
   ],
   "source": [
    "data.info()"
   ],
   "metadata": {
    "collapsed": false
   }
  },
  {
   "cell_type": "code",
   "execution_count": 53,
   "outputs": [
    {
     "data": {
      "text/plain": "0"
     },
     "execution_count": 53,
     "metadata": {},
     "output_type": "execute_result"
    }
   ],
   "source": [
    "len(data) - len(data.dropna())"
   ],
   "metadata": {
    "collapsed": false
   }
  },
  {
   "cell_type": "code",
   "execution_count": 77,
   "outputs": [
    {
     "data": {
      "text/plain": "                                                   start_station_id         \\\n                                                              count   mean   \nstart_station_name                                                           \n175 N Harvard St                                             6914.0  149.0   \n18 Dorrance Warehouse                                          71.0    1.0   \n359 Broadway - Broadway at Fayette Street                    9279.0  116.0   \n8D OPS 03                                                       1.0  153.0   \n8D QC Station 01                                                4.0  229.0   \n...                                                             ...    ...   \nWentworth Institute of Technology - Huntington ...           4329.0  160.0   \nWest Broadway at D Street                                      12.0  161.0   \nWest Broadway at Dorchester St                                 30.0  121.0   \nWilson Square                                                3003.0   99.0   \nYawkey Way at Boylston St.                                  12010.0   45.0   \n\n                                                                              \\\n                                                    std    min    25%    50%   \nstart_station_name                                                             \n175 N Harvard St                                    0.0  149.0  149.0  149.0   \n18 Dorrance Warehouse                               0.0    1.0    1.0    1.0   \n359 Broadway - Broadway at Fayette Street           0.0  116.0  116.0  116.0   \n8D OPS 03                                           NaN  153.0  153.0  153.0   \n8D QC Station 01                                    0.0  229.0  229.0  229.0   \n...                                                 ...    ...    ...    ...   \nWentworth Institute of Technology - Huntington ...  0.0  160.0  160.0  160.0   \nWest Broadway at D Street                           0.0  161.0  161.0  161.0   \nWest Broadway at Dorchester St                      0.0  121.0  121.0  121.0   \nWilson Square                                       0.0   99.0   99.0   99.0   \nYawkey Way at Boylston St.                          0.0   45.0   45.0   45.0   \n\n                                                                  \\\n                                                      75%    max   \nstart_station_name                                                 \n175 N Harvard St                                    149.0  149.0   \n18 Dorrance Warehouse                                 1.0    1.0   \n359 Broadway - Broadway at Fayette Street           116.0  116.0   \n8D OPS 03                                           153.0  153.0   \n8D QC Station 01                                    229.0  229.0   \n...                                                   ...    ...   \nWentworth Institute of Technology - Huntington ...  160.0  160.0   \nWest Broadway at D Street                           161.0  161.0   \nWest Broadway at Dorchester St                      121.0  121.0   \nWilson Square                                        99.0   99.0   \nYawkey Way at Boylston St.                           45.0   45.0   \n\n                                                   end_station_id              \\\n                                                            count        mean   \nstart_station_name                                                              \n175 N Harvard St                                           6914.0   78.761932   \n18 Dorrance Warehouse                                        71.0   73.887324   \n359 Broadway - Broadway at Fayette Street                  9279.0   94.085677   \n8D OPS 03                                                     1.0  153.000000   \n8D QC Station 01                                              4.0  229.000000   \n...                                                           ...         ...   \nWentworth Institute of Technology - Huntington ...         4329.0   68.520906   \nWest Broadway at D Street                                    12.0  109.000000   \nWest Broadway at Dorchester St                               30.0   95.133333   \nWilson Square                                              3003.0   94.076257   \nYawkey Way at Boylston St.                                12010.0   63.309242   \n\n                                                    ...                 \\\n                                                    ...     75%    max   \nstart_station_name                                  ...                  \n175 N Harvard St                                    ...  103.00  227.0   \n18 Dorrance Warehouse                               ...  116.00  218.0   \n359 Broadway - Broadway at Fayette Street           ...  108.00  228.0   \n8D OPS 03                                           ...  153.00  153.0   \n8D QC Station 01                                    ...  229.00  229.0   \n...                                                 ...     ...    ...   \nWentworth Institute of Technology - Huntington ...  ...   98.00  228.0   \nWest Broadway at D Street                           ...  150.25  218.0   \nWest Broadway at Dorchester St                      ...  160.00  218.0   \nWilson Square                                       ...  115.00  228.0   \nYawkey Way at Boylston St.                          ...   80.00  228.0   \n\n                                                    bike_id               \\\n                                                      count         mean   \nstart_station_name                                                         \n175 N Harvard St                                     6914.0   993.648539   \n18 Dorrance Warehouse                                  71.0  1265.802817   \n359 Broadway - Broadway at Fayette Street            9279.0   972.919927   \n8D OPS 03                                               1.0  1583.000000   \n8D QC Station 01                                        4.0  1583.000000   \n...                                                     ...          ...   \nWentworth Institute of Technology - Huntington ...   4329.0  1003.287364   \nWest Broadway at D Street                              12.0   739.250000   \nWest Broadway at Dorchester St                         30.0  1134.866667   \nWilson Square                                        3003.0   959.341658   \nYawkey Way at Boylston St.                          12010.0  1013.340799   \n\n                                                                        \\\n                                                           std     min   \nstart_station_name                                                       \n175 N Harvard St                                    577.358344     1.0   \n18 Dorrance Warehouse                               546.255660    69.0   \n359 Broadway - Broadway at Fayette Street           547.304936     1.0   \n8D OPS 03                                                  NaN  1583.0   \n8D QC Station 01                                      0.000000  1583.0   \n...                                                        ...     ...   \nWentworth Institute of Technology - Huntington ...  580.740071     1.0   \nWest Broadway at D Street                           295.677074   251.0   \nWest Broadway at Dorchester St                      501.797990   259.0   \nWilson Square                                       566.213114     1.0   \nYawkey Way at Boylston St.                          579.886317     1.0   \n\n                                                                              \\\n                                                        25%     50%      75%   \nstart_station_name                                                             \n175 N Harvard St                                     496.00   985.5  1518.00   \n18 Dorrance Warehouse                                777.00  1385.0  1770.50   \n359 Broadway - Broadway at Fayette Street            541.00   956.0  1420.00   \n8D OPS 03                                           1583.00  1583.0  1583.00   \n8D QC Station 01                                    1583.00  1583.0  1583.00   \n...                                                     ...     ...      ...   \nWentworth Institute of Technology - Huntington ...   498.00   991.0  1538.00   \nWest Broadway at D Street                            529.75   766.0   853.25   \nWest Broadway at Dorchester St                       702.00  1276.5  1565.00   \nWilson Square                                        485.00   924.0  1427.00   \nYawkey Way at Boylston St.                           517.00  1013.0  1537.00   \n\n                                                            \n                                                       max  \nstart_station_name                                          \n175 N Harvard St                                    1979.0  \n18 Dorrance Warehouse                               1957.0  \n359 Broadway - Broadway at Fayette Street           1981.0  \n8D OPS 03                                           1583.0  \n8D QC Station 01                                    1583.0  \n...                                                    ...  \nWentworth Institute of Technology - Huntington ...  1981.0  \nWest Broadway at D Street                           1228.0  \nWest Broadway at Dorchester St                      1899.0  \nWilson Square                                       1976.0  \nYawkey Way at Boylston St.                          1979.0  \n\n[285 rows x 24 columns]",
      "text/html": "<div>\n<style scoped>\n    .dataframe tbody tr th:only-of-type {\n        vertical-align: middle;\n    }\n\n    .dataframe tbody tr th {\n        vertical-align: top;\n    }\n\n    .dataframe thead tr th {\n        text-align: left;\n    }\n\n    .dataframe thead tr:last-of-type th {\n        text-align: right;\n    }\n</style>\n<table border=\"1\" class=\"dataframe\">\n  <thead>\n    <tr>\n      <th></th>\n      <th colspan=\"8\" halign=\"left\">start_station_id</th>\n      <th colspan=\"5\" halign=\"left\">end_station_id</th>\n      <th colspan=\"8\" halign=\"left\">bike_id</th>\n    </tr>\n    <tr>\n      <th></th>\n      <th>count</th>\n      <th>mean</th>\n      <th>std</th>\n      <th>min</th>\n      <th>25%</th>\n      <th>50%</th>\n      <th>75%</th>\n      <th>max</th>\n      <th>count</th>\n      <th>mean</th>\n      <th>...</th>\n      <th>75%</th>\n      <th>max</th>\n      <th>count</th>\n      <th>mean</th>\n      <th>std</th>\n      <th>min</th>\n      <th>25%</th>\n      <th>50%</th>\n      <th>75%</th>\n      <th>max</th>\n    </tr>\n    <tr>\n      <th>start_station_name</th>\n      <th></th>\n      <th></th>\n      <th></th>\n      <th></th>\n      <th></th>\n      <th></th>\n      <th></th>\n      <th></th>\n      <th></th>\n      <th></th>\n      <th></th>\n      <th></th>\n      <th></th>\n      <th></th>\n      <th></th>\n      <th></th>\n      <th></th>\n      <th></th>\n      <th></th>\n      <th></th>\n      <th></th>\n    </tr>\n  </thead>\n  <tbody>\n    <tr>\n      <th>175 N Harvard St</th>\n      <td>6914.0</td>\n      <td>149.0</td>\n      <td>0.0</td>\n      <td>149.0</td>\n      <td>149.0</td>\n      <td>149.0</td>\n      <td>149.0</td>\n      <td>149.0</td>\n      <td>6914.0</td>\n      <td>78.761932</td>\n      <td>...</td>\n      <td>103.00</td>\n      <td>227.0</td>\n      <td>6914.0</td>\n      <td>993.648539</td>\n      <td>577.358344</td>\n      <td>1.0</td>\n      <td>496.00</td>\n      <td>985.5</td>\n      <td>1518.00</td>\n      <td>1979.0</td>\n    </tr>\n    <tr>\n      <th>18 Dorrance Warehouse</th>\n      <td>71.0</td>\n      <td>1.0</td>\n      <td>0.0</td>\n      <td>1.0</td>\n      <td>1.0</td>\n      <td>1.0</td>\n      <td>1.0</td>\n      <td>1.0</td>\n      <td>71.0</td>\n      <td>73.887324</td>\n      <td>...</td>\n      <td>116.00</td>\n      <td>218.0</td>\n      <td>71.0</td>\n      <td>1265.802817</td>\n      <td>546.255660</td>\n      <td>69.0</td>\n      <td>777.00</td>\n      <td>1385.0</td>\n      <td>1770.50</td>\n      <td>1957.0</td>\n    </tr>\n    <tr>\n      <th>359 Broadway - Broadway at Fayette Street</th>\n      <td>9279.0</td>\n      <td>116.0</td>\n      <td>0.0</td>\n      <td>116.0</td>\n      <td>116.0</td>\n      <td>116.0</td>\n      <td>116.0</td>\n      <td>116.0</td>\n      <td>9279.0</td>\n      <td>94.085677</td>\n      <td>...</td>\n      <td>108.00</td>\n      <td>228.0</td>\n      <td>9279.0</td>\n      <td>972.919927</td>\n      <td>547.304936</td>\n      <td>1.0</td>\n      <td>541.00</td>\n      <td>956.0</td>\n      <td>1420.00</td>\n      <td>1981.0</td>\n    </tr>\n    <tr>\n      <th>8D OPS 03</th>\n      <td>1.0</td>\n      <td>153.0</td>\n      <td>NaN</td>\n      <td>153.0</td>\n      <td>153.0</td>\n      <td>153.0</td>\n      <td>153.0</td>\n      <td>153.0</td>\n      <td>1.0</td>\n      <td>153.000000</td>\n      <td>...</td>\n      <td>153.00</td>\n      <td>153.0</td>\n      <td>1.0</td>\n      <td>1583.000000</td>\n      <td>NaN</td>\n      <td>1583.0</td>\n      <td>1583.00</td>\n      <td>1583.0</td>\n      <td>1583.00</td>\n      <td>1583.0</td>\n    </tr>\n    <tr>\n      <th>8D QC Station 01</th>\n      <td>4.0</td>\n      <td>229.0</td>\n      <td>0.0</td>\n      <td>229.0</td>\n      <td>229.0</td>\n      <td>229.0</td>\n      <td>229.0</td>\n      <td>229.0</td>\n      <td>4.0</td>\n      <td>229.000000</td>\n      <td>...</td>\n      <td>229.00</td>\n      <td>229.0</td>\n      <td>4.0</td>\n      <td>1583.000000</td>\n      <td>0.000000</td>\n      <td>1583.0</td>\n      <td>1583.00</td>\n      <td>1583.0</td>\n      <td>1583.00</td>\n      <td>1583.0</td>\n    </tr>\n    <tr>\n      <th>...</th>\n      <td>...</td>\n      <td>...</td>\n      <td>...</td>\n      <td>...</td>\n      <td>...</td>\n      <td>...</td>\n      <td>...</td>\n      <td>...</td>\n      <td>...</td>\n      <td>...</td>\n      <td>...</td>\n      <td>...</td>\n      <td>...</td>\n      <td>...</td>\n      <td>...</td>\n      <td>...</td>\n      <td>...</td>\n      <td>...</td>\n      <td>...</td>\n      <td>...</td>\n      <td>...</td>\n    </tr>\n    <tr>\n      <th>Wentworth Institute of Technology - Huntington Ave at Vancouver St</th>\n      <td>4329.0</td>\n      <td>160.0</td>\n      <td>0.0</td>\n      <td>160.0</td>\n      <td>160.0</td>\n      <td>160.0</td>\n      <td>160.0</td>\n      <td>160.0</td>\n      <td>4329.0</td>\n      <td>68.520906</td>\n      <td>...</td>\n      <td>98.00</td>\n      <td>228.0</td>\n      <td>4329.0</td>\n      <td>1003.287364</td>\n      <td>580.740071</td>\n      <td>1.0</td>\n      <td>498.00</td>\n      <td>991.0</td>\n      <td>1538.00</td>\n      <td>1981.0</td>\n    </tr>\n    <tr>\n      <th>West Broadway at D Street</th>\n      <td>12.0</td>\n      <td>161.0</td>\n      <td>0.0</td>\n      <td>161.0</td>\n      <td>161.0</td>\n      <td>161.0</td>\n      <td>161.0</td>\n      <td>161.0</td>\n      <td>12.0</td>\n      <td>109.000000</td>\n      <td>...</td>\n      <td>150.25</td>\n      <td>218.0</td>\n      <td>12.0</td>\n      <td>739.250000</td>\n      <td>295.677074</td>\n      <td>251.0</td>\n      <td>529.75</td>\n      <td>766.0</td>\n      <td>853.25</td>\n      <td>1228.0</td>\n    </tr>\n    <tr>\n      <th>West Broadway at Dorchester St</th>\n      <td>30.0</td>\n      <td>121.0</td>\n      <td>0.0</td>\n      <td>121.0</td>\n      <td>121.0</td>\n      <td>121.0</td>\n      <td>121.0</td>\n      <td>121.0</td>\n      <td>30.0</td>\n      <td>95.133333</td>\n      <td>...</td>\n      <td>160.00</td>\n      <td>218.0</td>\n      <td>30.0</td>\n      <td>1134.866667</td>\n      <td>501.797990</td>\n      <td>259.0</td>\n      <td>702.00</td>\n      <td>1276.5</td>\n      <td>1565.00</td>\n      <td>1899.0</td>\n    </tr>\n    <tr>\n      <th>Wilson Square</th>\n      <td>3003.0</td>\n      <td>99.0</td>\n      <td>0.0</td>\n      <td>99.0</td>\n      <td>99.0</td>\n      <td>99.0</td>\n      <td>99.0</td>\n      <td>99.0</td>\n      <td>3003.0</td>\n      <td>94.076257</td>\n      <td>...</td>\n      <td>115.00</td>\n      <td>228.0</td>\n      <td>3003.0</td>\n      <td>959.341658</td>\n      <td>566.213114</td>\n      <td>1.0</td>\n      <td>485.00</td>\n      <td>924.0</td>\n      <td>1427.00</td>\n      <td>1976.0</td>\n    </tr>\n    <tr>\n      <th>Yawkey Way at Boylston St.</th>\n      <td>12010.0</td>\n      <td>45.0</td>\n      <td>0.0</td>\n      <td>45.0</td>\n      <td>45.0</td>\n      <td>45.0</td>\n      <td>45.0</td>\n      <td>45.0</td>\n      <td>12010.0</td>\n      <td>63.309242</td>\n      <td>...</td>\n      <td>80.00</td>\n      <td>228.0</td>\n      <td>12010.0</td>\n      <td>1013.340799</td>\n      <td>579.886317</td>\n      <td>1.0</td>\n      <td>517.00</td>\n      <td>1013.0</td>\n      <td>1537.00</td>\n      <td>1979.0</td>\n    </tr>\n  </tbody>\n</table>\n<p>285 rows × 24 columns</p>\n</div>"
     },
     "execution_count": 77,
     "metadata": {},
     "output_type": "execute_result"
    }
   ],
   "source": [
    "groupByStationName = data.groupby(\"start_station_name\").describe()\n",
    "groupByStationName"
   ],
   "metadata": {
    "collapsed": false
   }
  },
  {
   "cell_type": "markdown",
   "source": [
    "# Wrong station names\n",
    "\"8D OPS 03\"\n",
    "\"8D QC Station 01\"\n",
    "\"8D QC Station 02\"\n",
    "They also have 0 hours or NaN.\n",
    "Maybe test data?\n",
    "\n",
    "There a also some rows with NaN values; Drop them"
   ],
   "metadata": {
    "collapsed": false
   }
  },
  {
   "cell_type": "code",
   "execution_count": 55,
   "outputs": [
    {
     "name": "stdout",
     "output_type": "stream",
     "text": [
      "<class 'pandas.core.frame.DataFrame'>\n",
      "Index: 285 entries, 175 N Harvard St to Yawkey Way at Boylston St.\n",
      "Data columns (total 24 columns):\n",
      " #   Column                     Non-Null Count  Dtype  \n",
      "---  ------                     --------------  -----  \n",
      " 0   (start_station_id, count)  285 non-null    float64\n",
      " 1   (start_station_id, mean)   285 non-null    float64\n",
      " 2   (start_station_id, std)    281 non-null    float64\n",
      " 3   (start_station_id, min)    285 non-null    float64\n",
      " 4   (start_station_id, 25%)    285 non-null    float64\n",
      " 5   (start_station_id, 50%)    285 non-null    float64\n",
      " 6   (start_station_id, 75%)    285 non-null    float64\n",
      " 7   (start_station_id, max)    285 non-null    float64\n",
      " 8   (end_station_id, count)    285 non-null    float64\n",
      " 9   (end_station_id, mean)     285 non-null    float64\n",
      " 10  (end_station_id, std)      281 non-null    float64\n",
      " 11  (end_station_id, min)      285 non-null    float64\n",
      " 12  (end_station_id, 25%)      285 non-null    float64\n",
      " 13  (end_station_id, 50%)      285 non-null    float64\n",
      " 14  (end_station_id, 75%)      285 non-null    float64\n",
      " 15  (end_station_id, max)      285 non-null    float64\n",
      " 16  (bike_id, count)           285 non-null    float64\n",
      " 17  (bike_id, mean)            285 non-null    float64\n",
      " 18  (bike_id, std)             281 non-null    float64\n",
      " 19  (bike_id, min)             285 non-null    float64\n",
      " 20  (bike_id, 25%)             285 non-null    float64\n",
      " 21  (bike_id, 50%)             285 non-null    float64\n",
      " 22  (bike_id, 75%)             285 non-null    float64\n",
      " 23  (bike_id, max)             285 non-null    float64\n",
      "dtypes: float64(24)\n",
      "memory usage: 55.7+ KB\n"
     ]
    }
   ],
   "source": [
    "groupByStationName.info()"
   ],
   "metadata": {
    "collapsed": false
   }
  },
  {
   "cell_type": "code",
   "execution_count": 56,
   "outputs": [
    {
     "name": "stdout",
     "output_type": "stream",
     "text": [
      "<class 'pandas.core.frame.DataFrame'>\n",
      "Index: 281 entries, 175 N Harvard St to Yawkey Way at Boylston St.\n",
      "Data columns (total 24 columns):\n",
      " #   Column                     Non-Null Count  Dtype  \n",
      "---  ------                     --------------  -----  \n",
      " 0   (start_station_id, count)  281 non-null    float64\n",
      " 1   (start_station_id, mean)   281 non-null    float64\n",
      " 2   (start_station_id, std)    281 non-null    float64\n",
      " 3   (start_station_id, min)    281 non-null    float64\n",
      " 4   (start_station_id, 25%)    281 non-null    float64\n",
      " 5   (start_station_id, 50%)    281 non-null    float64\n",
      " 6   (start_station_id, 75%)    281 non-null    float64\n",
      " 7   (start_station_id, max)    281 non-null    float64\n",
      " 8   (end_station_id, count)    281 non-null    float64\n",
      " 9   (end_station_id, mean)     281 non-null    float64\n",
      " 10  (end_station_id, std)      281 non-null    float64\n",
      " 11  (end_station_id, min)      281 non-null    float64\n",
      " 12  (end_station_id, 25%)      281 non-null    float64\n",
      " 13  (end_station_id, 50%)      281 non-null    float64\n",
      " 14  (end_station_id, 75%)      281 non-null    float64\n",
      " 15  (end_station_id, max)      281 non-null    float64\n",
      " 16  (bike_id, count)           281 non-null    float64\n",
      " 17  (bike_id, mean)            281 non-null    float64\n",
      " 18  (bike_id, std)             281 non-null    float64\n",
      " 19  (bike_id, min)             281 non-null    float64\n",
      " 20  (bike_id, 25%)             281 non-null    float64\n",
      " 21  (bike_id, 50%)             281 non-null    float64\n",
      " 22  (bike_id, 75%)             281 non-null    float64\n",
      " 23  (bike_id, max)             281 non-null    float64\n",
      "dtypes: float64(24)\n",
      "memory usage: 54.9+ KB\n"
     ]
    }
   ],
   "source": [
    "groupByStationNameC = groupByStationName.dropna(how='any')\n",
    "groupByStationNameC.info()"
   ],
   "metadata": {
    "collapsed": false
   }
  },
  {
   "cell_type": "markdown",
   "source": [
    "# Grouping to find outliners"
   ],
   "metadata": {
    "collapsed": false
   }
  },
  {
   "cell_type": "code",
   "execution_count": 57,
   "outputs": [
    {
     "data": {
      "text/plain": "                 end_station_id                                              \\\n                          count        mean        std    min    25%    50%   \nstart_station_id                                                              \n1                          71.0   73.887324  57.651799    1.0    6.0   73.0   \n3                        4554.0   62.941809  53.447420    3.0   21.0   46.0   \n4                        9092.0   66.418940  54.111746    3.0   25.0   49.0   \n5                        7378.0   61.831120  52.862216    3.0   25.0   46.0   \n6                       11704.0   78.907980  54.001011    3.0   43.0   61.0   \n...                         ...         ...        ...    ...    ...    ...   \n227                      5836.0   82.193283  66.186993    3.0   36.0   67.0   \n228                      1491.0   95.340040  64.666125    4.0   53.0   76.0   \n229                         4.0  229.000000   0.000000  229.0  229.0  229.0   \n230                         3.0  230.000000   0.000000  230.0  230.0  230.0   \n232                         4.0  136.750000  93.990691   56.0   56.0  129.5   \n\n                                 bike_id                                   \\\n                     75%    max    count         mean         std     min   \nstart_station_id                                                            \n1                 116.00  218.0     71.0  1265.802817  546.255660    69.0   \n3                  90.00  227.0   4554.0   962.453448  567.314545     1.0   \n4                  81.00  228.0   9092.0  1001.114276  575.887832     1.0   \n5                  76.00  228.0   7378.0   986.893332  575.771504     1.0   \n6                 102.00  228.0  11704.0   991.795882  577.576324     1.0   \n...                  ...    ...      ...          ...         ...     ...   \n227               108.00  228.0   5836.0   964.648561  573.090053     1.0   \n228               144.00  228.0   1491.0   953.961100  587.827323     1.0   \n229               229.00  229.0      4.0  1583.000000    0.000000  1583.0   \n230               230.00  230.0      3.0  1583.000000    0.000000  1583.0   \n232               210.25  232.0      4.0   565.750000  486.534257    59.0   \n\n                                                   \n                     25%     50%      75%     max  \nstart_station_id                                   \n1                  777.0  1385.0  1770.50  1957.0  \n3                  486.0   933.0  1430.00  1980.0  \n4                  522.0   987.0  1520.00  1980.0  \n5                  502.0   968.0  1513.00  1981.0  \n6                  501.0   978.0  1515.00  1980.0  \n...                  ...     ...      ...     ...  \n227                476.0   932.0  1461.00  1981.0  \n228                458.0   888.0  1531.00  1980.0  \n229               1583.0  1583.0  1583.00  1583.0  \n230               1583.0  1583.0  1583.00  1583.0  \n232                201.5   571.5   935.75  1061.0  \n\n[200 rows x 16 columns]",
      "text/html": "<div>\n<style scoped>\n    .dataframe tbody tr th:only-of-type {\n        vertical-align: middle;\n    }\n\n    .dataframe tbody tr th {\n        vertical-align: top;\n    }\n\n    .dataframe thead tr th {\n        text-align: left;\n    }\n\n    .dataframe thead tr:last-of-type th {\n        text-align: right;\n    }\n</style>\n<table border=\"1\" class=\"dataframe\">\n  <thead>\n    <tr>\n      <th></th>\n      <th colspan=\"8\" halign=\"left\">end_station_id</th>\n      <th colspan=\"8\" halign=\"left\">bike_id</th>\n    </tr>\n    <tr>\n      <th></th>\n      <th>count</th>\n      <th>mean</th>\n      <th>std</th>\n      <th>min</th>\n      <th>25%</th>\n      <th>50%</th>\n      <th>75%</th>\n      <th>max</th>\n      <th>count</th>\n      <th>mean</th>\n      <th>std</th>\n      <th>min</th>\n      <th>25%</th>\n      <th>50%</th>\n      <th>75%</th>\n      <th>max</th>\n    </tr>\n    <tr>\n      <th>start_station_id</th>\n      <th></th>\n      <th></th>\n      <th></th>\n      <th></th>\n      <th></th>\n      <th></th>\n      <th></th>\n      <th></th>\n      <th></th>\n      <th></th>\n      <th></th>\n      <th></th>\n      <th></th>\n      <th></th>\n      <th></th>\n      <th></th>\n    </tr>\n  </thead>\n  <tbody>\n    <tr>\n      <th>1</th>\n      <td>71.0</td>\n      <td>73.887324</td>\n      <td>57.651799</td>\n      <td>1.0</td>\n      <td>6.0</td>\n      <td>73.0</td>\n      <td>116.00</td>\n      <td>218.0</td>\n      <td>71.0</td>\n      <td>1265.802817</td>\n      <td>546.255660</td>\n      <td>69.0</td>\n      <td>777.0</td>\n      <td>1385.0</td>\n      <td>1770.50</td>\n      <td>1957.0</td>\n    </tr>\n    <tr>\n      <th>3</th>\n      <td>4554.0</td>\n      <td>62.941809</td>\n      <td>53.447420</td>\n      <td>3.0</td>\n      <td>21.0</td>\n      <td>46.0</td>\n      <td>90.00</td>\n      <td>227.0</td>\n      <td>4554.0</td>\n      <td>962.453448</td>\n      <td>567.314545</td>\n      <td>1.0</td>\n      <td>486.0</td>\n      <td>933.0</td>\n      <td>1430.00</td>\n      <td>1980.0</td>\n    </tr>\n    <tr>\n      <th>4</th>\n      <td>9092.0</td>\n      <td>66.418940</td>\n      <td>54.111746</td>\n      <td>3.0</td>\n      <td>25.0</td>\n      <td>49.0</td>\n      <td>81.00</td>\n      <td>228.0</td>\n      <td>9092.0</td>\n      <td>1001.114276</td>\n      <td>575.887832</td>\n      <td>1.0</td>\n      <td>522.0</td>\n      <td>987.0</td>\n      <td>1520.00</td>\n      <td>1980.0</td>\n    </tr>\n    <tr>\n      <th>5</th>\n      <td>7378.0</td>\n      <td>61.831120</td>\n      <td>52.862216</td>\n      <td>3.0</td>\n      <td>25.0</td>\n      <td>46.0</td>\n      <td>76.00</td>\n      <td>228.0</td>\n      <td>7378.0</td>\n      <td>986.893332</td>\n      <td>575.771504</td>\n      <td>1.0</td>\n      <td>502.0</td>\n      <td>968.0</td>\n      <td>1513.00</td>\n      <td>1981.0</td>\n    </tr>\n    <tr>\n      <th>6</th>\n      <td>11704.0</td>\n      <td>78.907980</td>\n      <td>54.001011</td>\n      <td>3.0</td>\n      <td>43.0</td>\n      <td>61.0</td>\n      <td>102.00</td>\n      <td>228.0</td>\n      <td>11704.0</td>\n      <td>991.795882</td>\n      <td>577.576324</td>\n      <td>1.0</td>\n      <td>501.0</td>\n      <td>978.0</td>\n      <td>1515.00</td>\n      <td>1980.0</td>\n    </tr>\n    <tr>\n      <th>...</th>\n      <td>...</td>\n      <td>...</td>\n      <td>...</td>\n      <td>...</td>\n      <td>...</td>\n      <td>...</td>\n      <td>...</td>\n      <td>...</td>\n      <td>...</td>\n      <td>...</td>\n      <td>...</td>\n      <td>...</td>\n      <td>...</td>\n      <td>...</td>\n      <td>...</td>\n      <td>...</td>\n    </tr>\n    <tr>\n      <th>227</th>\n      <td>5836.0</td>\n      <td>82.193283</td>\n      <td>66.186993</td>\n      <td>3.0</td>\n      <td>36.0</td>\n      <td>67.0</td>\n      <td>108.00</td>\n      <td>228.0</td>\n      <td>5836.0</td>\n      <td>964.648561</td>\n      <td>573.090053</td>\n      <td>1.0</td>\n      <td>476.0</td>\n      <td>932.0</td>\n      <td>1461.00</td>\n      <td>1981.0</td>\n    </tr>\n    <tr>\n      <th>228</th>\n      <td>1491.0</td>\n      <td>95.340040</td>\n      <td>64.666125</td>\n      <td>4.0</td>\n      <td>53.0</td>\n      <td>76.0</td>\n      <td>144.00</td>\n      <td>228.0</td>\n      <td>1491.0</td>\n      <td>953.961100</td>\n      <td>587.827323</td>\n      <td>1.0</td>\n      <td>458.0</td>\n      <td>888.0</td>\n      <td>1531.00</td>\n      <td>1980.0</td>\n    </tr>\n    <tr>\n      <th>229</th>\n      <td>4.0</td>\n      <td>229.000000</td>\n      <td>0.000000</td>\n      <td>229.0</td>\n      <td>229.0</td>\n      <td>229.0</td>\n      <td>229.00</td>\n      <td>229.0</td>\n      <td>4.0</td>\n      <td>1583.000000</td>\n      <td>0.000000</td>\n      <td>1583.0</td>\n      <td>1583.0</td>\n      <td>1583.0</td>\n      <td>1583.00</td>\n      <td>1583.0</td>\n    </tr>\n    <tr>\n      <th>230</th>\n      <td>3.0</td>\n      <td>230.000000</td>\n      <td>0.000000</td>\n      <td>230.0</td>\n      <td>230.0</td>\n      <td>230.0</td>\n      <td>230.00</td>\n      <td>230.0</td>\n      <td>3.0</td>\n      <td>1583.000000</td>\n      <td>0.000000</td>\n      <td>1583.0</td>\n      <td>1583.0</td>\n      <td>1583.0</td>\n      <td>1583.00</td>\n      <td>1583.0</td>\n    </tr>\n    <tr>\n      <th>232</th>\n      <td>4.0</td>\n      <td>136.750000</td>\n      <td>93.990691</td>\n      <td>56.0</td>\n      <td>56.0</td>\n      <td>129.5</td>\n      <td>210.25</td>\n      <td>232.0</td>\n      <td>4.0</td>\n      <td>565.750000</td>\n      <td>486.534257</td>\n      <td>59.0</td>\n      <td>201.5</td>\n      <td>571.5</td>\n      <td>935.75</td>\n      <td>1061.0</td>\n    </tr>\n  </tbody>\n</table>\n<p>200 rows × 16 columns</p>\n</div>"
     },
     "execution_count": 57,
     "metadata": {},
     "output_type": "execute_result"
    }
   ],
   "source": [
    "groupByStartStation = data.groupby(\"start_station_id\")\n",
    "groupByStartStation.describe()"
   ],
   "metadata": {
    "collapsed": false
   }
  },
  {
   "cell_type": "code",
   "execution_count": 58,
   "outputs": [
    {
     "data": {
      "text/plain": "           start_station_id                                                \\\n                      count       mean        std  min   25%   50%    75%   \nuser_type                                                                   \nCustomer           209036.0  79.787400  53.038360  3.0  43.0  67.0  107.0   \nSubscriber        1104738.0  86.831294  56.882883  1.0  43.0  74.0  119.0   \n\n                  end_station_id             ...                  bike_id  \\\n              max          count       mean  ...    75%    max      count   \nuser_type                                    ...                            \nCustomer    230.0       209036.0  79.515595  ...  105.0  230.0   209036.0   \nSubscriber  232.0      1104738.0  86.684203  ...  118.0  232.0  1104738.0   \n\n                                                                       \n                  mean         std  min    25%    50%     75%     max  \nuser_type                                                              \nCustomer    971.644334  566.439833  1.0  494.0  953.0  1463.0  1981.0  \nSubscriber  997.203960  570.746276  1.0  521.0  981.0  1517.0  1981.0  \n\n[2 rows x 24 columns]",
      "text/html": "<div>\n<style scoped>\n    .dataframe tbody tr th:only-of-type {\n        vertical-align: middle;\n    }\n\n    .dataframe tbody tr th {\n        vertical-align: top;\n    }\n\n    .dataframe thead tr th {\n        text-align: left;\n    }\n\n    .dataframe thead tr:last-of-type th {\n        text-align: right;\n    }\n</style>\n<table border=\"1\" class=\"dataframe\">\n  <thead>\n    <tr>\n      <th></th>\n      <th colspan=\"8\" halign=\"left\">start_station_id</th>\n      <th colspan=\"5\" halign=\"left\">end_station_id</th>\n      <th colspan=\"8\" halign=\"left\">bike_id</th>\n    </tr>\n    <tr>\n      <th></th>\n      <th>count</th>\n      <th>mean</th>\n      <th>std</th>\n      <th>min</th>\n      <th>25%</th>\n      <th>50%</th>\n      <th>75%</th>\n      <th>max</th>\n      <th>count</th>\n      <th>mean</th>\n      <th>...</th>\n      <th>75%</th>\n      <th>max</th>\n      <th>count</th>\n      <th>mean</th>\n      <th>std</th>\n      <th>min</th>\n      <th>25%</th>\n      <th>50%</th>\n      <th>75%</th>\n      <th>max</th>\n    </tr>\n    <tr>\n      <th>user_type</th>\n      <th></th>\n      <th></th>\n      <th></th>\n      <th></th>\n      <th></th>\n      <th></th>\n      <th></th>\n      <th></th>\n      <th></th>\n      <th></th>\n      <th></th>\n      <th></th>\n      <th></th>\n      <th></th>\n      <th></th>\n      <th></th>\n      <th></th>\n      <th></th>\n      <th></th>\n      <th></th>\n      <th></th>\n    </tr>\n  </thead>\n  <tbody>\n    <tr>\n      <th>Customer</th>\n      <td>209036.0</td>\n      <td>79.787400</td>\n      <td>53.038360</td>\n      <td>3.0</td>\n      <td>43.0</td>\n      <td>67.0</td>\n      <td>107.0</td>\n      <td>230.0</td>\n      <td>209036.0</td>\n      <td>79.515595</td>\n      <td>...</td>\n      <td>105.0</td>\n      <td>230.0</td>\n      <td>209036.0</td>\n      <td>971.644334</td>\n      <td>566.439833</td>\n      <td>1.0</td>\n      <td>494.0</td>\n      <td>953.0</td>\n      <td>1463.0</td>\n      <td>1981.0</td>\n    </tr>\n    <tr>\n      <th>Subscriber</th>\n      <td>1104738.0</td>\n      <td>86.831294</td>\n      <td>56.882883</td>\n      <td>1.0</td>\n      <td>43.0</td>\n      <td>74.0</td>\n      <td>119.0</td>\n      <td>232.0</td>\n      <td>1104738.0</td>\n      <td>86.684203</td>\n      <td>...</td>\n      <td>118.0</td>\n      <td>232.0</td>\n      <td>1104738.0</td>\n      <td>997.203960</td>\n      <td>570.746276</td>\n      <td>1.0</td>\n      <td>521.0</td>\n      <td>981.0</td>\n      <td>1517.0</td>\n      <td>1981.0</td>\n    </tr>\n  </tbody>\n</table>\n<p>2 rows × 24 columns</p>\n</div>"
     },
     "execution_count": 58,
     "metadata": {},
     "output_type": "execute_result"
    }
   ],
   "source": [
    "groupByUserType = data.groupby(\"user_type\").describe()\n",
    "groupByUserType"
   ],
   "metadata": {
    "collapsed": false
   }
  },
  {
   "cell_type": "code",
   "execution_count": 59,
   "outputs": [
    {
     "data": {
      "text/plain": "               start_station_id                                              \\\n                          count        mean        std    min    25%    50%   \nend_station_id                                                                \n1                         265.0   90.720755  53.108855    1.0   52.0   84.0   \n3                        4581.0   64.964418  57.953142    3.0   16.0   46.0   \n4                        8944.0   67.378131  53.127751    3.0   25.0   52.0   \n5                        7534.0   66.677197  55.466542    3.0   27.0   50.0   \n6                       11554.0   78.446772  54.007849    3.0   40.0   64.0   \n...                         ...         ...        ...    ...    ...    ...   \n227                      5955.0   78.967758  65.973557    3.0   32.0   60.0   \n228                      1489.0   95.292814  65.078119    4.0   52.0   74.0   \n229                         4.0  229.000000   0.000000  229.0  229.0  229.0   \n230                         3.0  230.000000   0.000000  230.0  230.0  230.0   \n232                         1.0  232.000000        NaN  232.0  232.0  232.0   \n\n                              bike_id                                   \\\n                  75%    max    count         mean         std     min   \nend_station_id                                                           \n1               149.0  194.0    265.0   955.505660  588.938665     2.0   \n3                98.0  227.0   4581.0   965.900022  565.473352     1.0   \n4                81.0  228.0   8944.0   997.767218  574.413827     1.0   \n5                85.0  228.0   7534.0   985.443589  574.695886     1.0   \n6               102.0  228.0  11554.0   992.070106  577.624746     1.0   \n...               ...    ...      ...          ...         ...     ...   \n227             107.0  228.0   5955.0   963.599832  572.768798     1.0   \n228             177.0  228.0   1489.0   944.772330  582.593801     1.0   \n229             229.0  229.0      4.0  1583.000000    0.000000  1583.0   \n230             230.0  230.0      3.0  1583.000000    0.000000  1583.0   \n232             232.0  232.0      1.0   249.000000         NaN   249.0   \n\n                                                \n                   25%     50%     75%     max  \nend_station_id                                  \n1                444.0   924.0  1488.0  1957.0  \n3                491.0   939.0  1433.0  1980.0  \n4                520.0   986.0  1514.0  1980.0  \n5                504.0   967.0  1508.0  1981.0  \n6                501.0   980.0  1515.0  1980.0  \n...                ...     ...     ...     ...  \n227              474.0   932.0  1460.0  1981.0  \n228              452.0   881.0  1461.0  1980.0  \n229             1583.0  1583.0  1583.0  1583.0  \n230             1583.0  1583.0  1583.0  1583.0  \n232              249.0   249.0   249.0   249.0  \n\n[200 rows x 16 columns]",
      "text/html": "<div>\n<style scoped>\n    .dataframe tbody tr th:only-of-type {\n        vertical-align: middle;\n    }\n\n    .dataframe tbody tr th {\n        vertical-align: top;\n    }\n\n    .dataframe thead tr th {\n        text-align: left;\n    }\n\n    .dataframe thead tr:last-of-type th {\n        text-align: right;\n    }\n</style>\n<table border=\"1\" class=\"dataframe\">\n  <thead>\n    <tr>\n      <th></th>\n      <th colspan=\"8\" halign=\"left\">start_station_id</th>\n      <th colspan=\"8\" halign=\"left\">bike_id</th>\n    </tr>\n    <tr>\n      <th></th>\n      <th>count</th>\n      <th>mean</th>\n      <th>std</th>\n      <th>min</th>\n      <th>25%</th>\n      <th>50%</th>\n      <th>75%</th>\n      <th>max</th>\n      <th>count</th>\n      <th>mean</th>\n      <th>std</th>\n      <th>min</th>\n      <th>25%</th>\n      <th>50%</th>\n      <th>75%</th>\n      <th>max</th>\n    </tr>\n    <tr>\n      <th>end_station_id</th>\n      <th></th>\n      <th></th>\n      <th></th>\n      <th></th>\n      <th></th>\n      <th></th>\n      <th></th>\n      <th></th>\n      <th></th>\n      <th></th>\n      <th></th>\n      <th></th>\n      <th></th>\n      <th></th>\n      <th></th>\n      <th></th>\n    </tr>\n  </thead>\n  <tbody>\n    <tr>\n      <th>1</th>\n      <td>265.0</td>\n      <td>90.720755</td>\n      <td>53.108855</td>\n      <td>1.0</td>\n      <td>52.0</td>\n      <td>84.0</td>\n      <td>149.0</td>\n      <td>194.0</td>\n      <td>265.0</td>\n      <td>955.505660</td>\n      <td>588.938665</td>\n      <td>2.0</td>\n      <td>444.0</td>\n      <td>924.0</td>\n      <td>1488.0</td>\n      <td>1957.0</td>\n    </tr>\n    <tr>\n      <th>3</th>\n      <td>4581.0</td>\n      <td>64.964418</td>\n      <td>57.953142</td>\n      <td>3.0</td>\n      <td>16.0</td>\n      <td>46.0</td>\n      <td>98.0</td>\n      <td>227.0</td>\n      <td>4581.0</td>\n      <td>965.900022</td>\n      <td>565.473352</td>\n      <td>1.0</td>\n      <td>491.0</td>\n      <td>939.0</td>\n      <td>1433.0</td>\n      <td>1980.0</td>\n    </tr>\n    <tr>\n      <th>4</th>\n      <td>8944.0</td>\n      <td>67.378131</td>\n      <td>53.127751</td>\n      <td>3.0</td>\n      <td>25.0</td>\n      <td>52.0</td>\n      <td>81.0</td>\n      <td>228.0</td>\n      <td>8944.0</td>\n      <td>997.767218</td>\n      <td>574.413827</td>\n      <td>1.0</td>\n      <td>520.0</td>\n      <td>986.0</td>\n      <td>1514.0</td>\n      <td>1980.0</td>\n    </tr>\n    <tr>\n      <th>5</th>\n      <td>7534.0</td>\n      <td>66.677197</td>\n      <td>55.466542</td>\n      <td>3.0</td>\n      <td>27.0</td>\n      <td>50.0</td>\n      <td>85.0</td>\n      <td>228.0</td>\n      <td>7534.0</td>\n      <td>985.443589</td>\n      <td>574.695886</td>\n      <td>1.0</td>\n      <td>504.0</td>\n      <td>967.0</td>\n      <td>1508.0</td>\n      <td>1981.0</td>\n    </tr>\n    <tr>\n      <th>6</th>\n      <td>11554.0</td>\n      <td>78.446772</td>\n      <td>54.007849</td>\n      <td>3.0</td>\n      <td>40.0</td>\n      <td>64.0</td>\n      <td>102.0</td>\n      <td>228.0</td>\n      <td>11554.0</td>\n      <td>992.070106</td>\n      <td>577.624746</td>\n      <td>1.0</td>\n      <td>501.0</td>\n      <td>980.0</td>\n      <td>1515.0</td>\n      <td>1980.0</td>\n    </tr>\n    <tr>\n      <th>...</th>\n      <td>...</td>\n      <td>...</td>\n      <td>...</td>\n      <td>...</td>\n      <td>...</td>\n      <td>...</td>\n      <td>...</td>\n      <td>...</td>\n      <td>...</td>\n      <td>...</td>\n      <td>...</td>\n      <td>...</td>\n      <td>...</td>\n      <td>...</td>\n      <td>...</td>\n      <td>...</td>\n    </tr>\n    <tr>\n      <th>227</th>\n      <td>5955.0</td>\n      <td>78.967758</td>\n      <td>65.973557</td>\n      <td>3.0</td>\n      <td>32.0</td>\n      <td>60.0</td>\n      <td>107.0</td>\n      <td>228.0</td>\n      <td>5955.0</td>\n      <td>963.599832</td>\n      <td>572.768798</td>\n      <td>1.0</td>\n      <td>474.0</td>\n      <td>932.0</td>\n      <td>1460.0</td>\n      <td>1981.0</td>\n    </tr>\n    <tr>\n      <th>228</th>\n      <td>1489.0</td>\n      <td>95.292814</td>\n      <td>65.078119</td>\n      <td>4.0</td>\n      <td>52.0</td>\n      <td>74.0</td>\n      <td>177.0</td>\n      <td>228.0</td>\n      <td>1489.0</td>\n      <td>944.772330</td>\n      <td>582.593801</td>\n      <td>1.0</td>\n      <td>452.0</td>\n      <td>881.0</td>\n      <td>1461.0</td>\n      <td>1980.0</td>\n    </tr>\n    <tr>\n      <th>229</th>\n      <td>4.0</td>\n      <td>229.000000</td>\n      <td>0.000000</td>\n      <td>229.0</td>\n      <td>229.0</td>\n      <td>229.0</td>\n      <td>229.0</td>\n      <td>229.0</td>\n      <td>4.0</td>\n      <td>1583.000000</td>\n      <td>0.000000</td>\n      <td>1583.0</td>\n      <td>1583.0</td>\n      <td>1583.0</td>\n      <td>1583.0</td>\n      <td>1583.0</td>\n    </tr>\n    <tr>\n      <th>230</th>\n      <td>3.0</td>\n      <td>230.000000</td>\n      <td>0.000000</td>\n      <td>230.0</td>\n      <td>230.0</td>\n      <td>230.0</td>\n      <td>230.0</td>\n      <td>230.0</td>\n      <td>3.0</td>\n      <td>1583.000000</td>\n      <td>0.000000</td>\n      <td>1583.0</td>\n      <td>1583.0</td>\n      <td>1583.0</td>\n      <td>1583.0</td>\n      <td>1583.0</td>\n    </tr>\n    <tr>\n      <th>232</th>\n      <td>1.0</td>\n      <td>232.000000</td>\n      <td>NaN</td>\n      <td>232.0</td>\n      <td>232.0</td>\n      <td>232.0</td>\n      <td>232.0</td>\n      <td>232.0</td>\n      <td>1.0</td>\n      <td>249.000000</td>\n      <td>NaN</td>\n      <td>249.0</td>\n      <td>249.0</td>\n      <td>249.0</td>\n      <td>249.0</td>\n      <td>249.0</td>\n    </tr>\n  </tbody>\n</table>\n<p>200 rows × 16 columns</p>\n</div>"
     },
     "execution_count": 59,
     "metadata": {},
     "output_type": "execute_result"
    }
   ],
   "source": [
    "groupByEndStation = data.groupby(\"end_station_id\").describe()\n",
    "groupByEndStation"
   ],
   "metadata": {
    "collapsed": false
   }
  },
  {
   "cell_type": "code",
   "execution_count": 60,
   "outputs": [
    {
     "data": {
      "text/plain": "0.0"
     },
     "execution_count": 60,
     "metadata": {},
     "output_type": "execute_result"
    }
   ],
   "source": [
    "groupByStartName = data.groupby(\"start_station_name\").describe()\n",
    "groupByStartName[\"start_station_id\"][\"std\"].max()"
   ],
   "metadata": {
    "collapsed": false
   }
  },
  {
   "cell_type": "code",
   "execution_count": 61,
   "outputs": [
    {
     "data": {
      "text/plain": "0.0"
     },
     "execution_count": 61,
     "metadata": {},
     "output_type": "execute_result"
    }
   ],
   "source": [
    "groupByEndName = data.groupby(\"end_station_name\").describe()\n",
    "groupByEndName[\"end_station_id\"][\"std\"].max()"
   ],
   "metadata": {
    "collapsed": false
   }
  },
  {
   "cell_type": "code",
   "execution_count": 62,
   "outputs": [
    {
     "data": {
      "text/plain": "      start_station_id                                                         \\\n                 count        mean    std         min         25%         50%   \ncount       285.000000  285.000000  281.0  285.000000  285.000000  285.000000   \nmean       4609.733333  105.108772    0.0  105.108772  105.108772  105.108772   \nstd        5945.551619   68.061375    0.0   68.061375   68.061375   68.061375   \nmin           1.000000    1.000000    0.0    1.000000    1.000000    1.000000   \n25%          69.000000   44.000000    0.0   44.000000   44.000000   44.000000   \n50%        2466.000000   98.000000    0.0   98.000000   98.000000   98.000000   \n75%        7500.000000  163.000000    0.0  163.000000  163.000000  163.000000   \nmax       42320.000000  232.000000    0.0  232.000000  232.000000  232.000000   \n\n                              end_station_id              ...              \\\n              75%         max          count        mean  ...         75%   \ncount  285.000000  285.000000     285.000000  285.000000  ...  285.000000   \nmean   105.108772  105.108772    4609.733333   87.338278  ...  118.527193   \nstd     68.061375   68.061375    5945.551619   35.959283  ...   41.477318   \nmin      1.000000    1.000000       1.000000   11.000000  ...   11.000000   \n25%     44.000000   44.000000      69.000000   69.056085  ...   91.000000   \n50%     98.000000   98.000000    2466.000000   80.890411  ...  114.000000   \n75%    163.000000  163.000000    7500.000000   96.108004  ...  143.000000   \nmax    232.000000  232.000000   42320.000000  230.000000  ...  230.000000   \n\n                        bike_id                                         \\\n              max         count         mean          std          min   \ncount  285.000000    285.000000   285.000000   281.000000   285.000000   \nmean   210.677193   4609.733333   998.316102   559.336303    68.368421   \nstd     36.925043   5945.551619   131.525189    79.633583   237.243979   \nmin     11.000000      1.000000   447.000000     0.000000     1.000000   \n25%    218.000000     69.000000   972.337405   556.644141     1.000000   \n50%    227.000000   2466.000000   994.860465   571.200235     1.000000   \n75%    228.000000   7500.000000  1019.920455   580.651534    17.000000   \nmax    232.000000  42320.000000  1891.000000  1083.994696  1891.000000   \n\n                                                           \n               25%          50%          75%          max  \ncount   285.000000   285.000000   285.000000   285.000000  \nmean    549.478947   990.185965  1471.600000  1900.259649  \nstd     180.522747   159.751150   175.238311   203.120973  \nmin     110.000000   447.000000   448.000000   448.000000  \n25%     492.000000   943.000000  1456.000000  1912.000000  \n50%     517.000000   979.000000  1513.000000  1979.000000  \n75%     547.250000  1016.000000  1547.000000  1981.000000  \nmax    1891.000000  1891.000000  1891.000000  1981.000000  \n\n[8 rows x 24 columns]",
      "text/html": "<div>\n<style scoped>\n    .dataframe tbody tr th:only-of-type {\n        vertical-align: middle;\n    }\n\n    .dataframe tbody tr th {\n        vertical-align: top;\n    }\n\n    .dataframe thead tr th {\n        text-align: left;\n    }\n</style>\n<table border=\"1\" class=\"dataframe\">\n  <thead>\n    <tr>\n      <th></th>\n      <th colspan=\"8\" halign=\"left\">start_station_id</th>\n      <th colspan=\"5\" halign=\"left\">end_station_id</th>\n      <th colspan=\"8\" halign=\"left\">bike_id</th>\n    </tr>\n    <tr>\n      <th></th>\n      <th>count</th>\n      <th>mean</th>\n      <th>std</th>\n      <th>min</th>\n      <th>25%</th>\n      <th>50%</th>\n      <th>75%</th>\n      <th>max</th>\n      <th>count</th>\n      <th>mean</th>\n      <th>...</th>\n      <th>75%</th>\n      <th>max</th>\n      <th>count</th>\n      <th>mean</th>\n      <th>std</th>\n      <th>min</th>\n      <th>25%</th>\n      <th>50%</th>\n      <th>75%</th>\n      <th>max</th>\n    </tr>\n  </thead>\n  <tbody>\n    <tr>\n      <th>count</th>\n      <td>285.000000</td>\n      <td>285.000000</td>\n      <td>281.0</td>\n      <td>285.000000</td>\n      <td>285.000000</td>\n      <td>285.000000</td>\n      <td>285.000000</td>\n      <td>285.000000</td>\n      <td>285.000000</td>\n      <td>285.000000</td>\n      <td>...</td>\n      <td>285.000000</td>\n      <td>285.000000</td>\n      <td>285.000000</td>\n      <td>285.000000</td>\n      <td>281.000000</td>\n      <td>285.000000</td>\n      <td>285.000000</td>\n      <td>285.000000</td>\n      <td>285.000000</td>\n      <td>285.000000</td>\n    </tr>\n    <tr>\n      <th>mean</th>\n      <td>4609.733333</td>\n      <td>105.108772</td>\n      <td>0.0</td>\n      <td>105.108772</td>\n      <td>105.108772</td>\n      <td>105.108772</td>\n      <td>105.108772</td>\n      <td>105.108772</td>\n      <td>4609.733333</td>\n      <td>87.338278</td>\n      <td>...</td>\n      <td>118.527193</td>\n      <td>210.677193</td>\n      <td>4609.733333</td>\n      <td>998.316102</td>\n      <td>559.336303</td>\n      <td>68.368421</td>\n      <td>549.478947</td>\n      <td>990.185965</td>\n      <td>1471.600000</td>\n      <td>1900.259649</td>\n    </tr>\n    <tr>\n      <th>std</th>\n      <td>5945.551619</td>\n      <td>68.061375</td>\n      <td>0.0</td>\n      <td>68.061375</td>\n      <td>68.061375</td>\n      <td>68.061375</td>\n      <td>68.061375</td>\n      <td>68.061375</td>\n      <td>5945.551619</td>\n      <td>35.959283</td>\n      <td>...</td>\n      <td>41.477318</td>\n      <td>36.925043</td>\n      <td>5945.551619</td>\n      <td>131.525189</td>\n      <td>79.633583</td>\n      <td>237.243979</td>\n      <td>180.522747</td>\n      <td>159.751150</td>\n      <td>175.238311</td>\n      <td>203.120973</td>\n    </tr>\n    <tr>\n      <th>min</th>\n      <td>1.000000</td>\n      <td>1.000000</td>\n      <td>0.0</td>\n      <td>1.000000</td>\n      <td>1.000000</td>\n      <td>1.000000</td>\n      <td>1.000000</td>\n      <td>1.000000</td>\n      <td>1.000000</td>\n      <td>11.000000</td>\n      <td>...</td>\n      <td>11.000000</td>\n      <td>11.000000</td>\n      <td>1.000000</td>\n      <td>447.000000</td>\n      <td>0.000000</td>\n      <td>1.000000</td>\n      <td>110.000000</td>\n      <td>447.000000</td>\n      <td>448.000000</td>\n      <td>448.000000</td>\n    </tr>\n    <tr>\n      <th>25%</th>\n      <td>69.000000</td>\n      <td>44.000000</td>\n      <td>0.0</td>\n      <td>44.000000</td>\n      <td>44.000000</td>\n      <td>44.000000</td>\n      <td>44.000000</td>\n      <td>44.000000</td>\n      <td>69.000000</td>\n      <td>69.056085</td>\n      <td>...</td>\n      <td>91.000000</td>\n      <td>218.000000</td>\n      <td>69.000000</td>\n      <td>972.337405</td>\n      <td>556.644141</td>\n      <td>1.000000</td>\n      <td>492.000000</td>\n      <td>943.000000</td>\n      <td>1456.000000</td>\n      <td>1912.000000</td>\n    </tr>\n    <tr>\n      <th>50%</th>\n      <td>2466.000000</td>\n      <td>98.000000</td>\n      <td>0.0</td>\n      <td>98.000000</td>\n      <td>98.000000</td>\n      <td>98.000000</td>\n      <td>98.000000</td>\n      <td>98.000000</td>\n      <td>2466.000000</td>\n      <td>80.890411</td>\n      <td>...</td>\n      <td>114.000000</td>\n      <td>227.000000</td>\n      <td>2466.000000</td>\n      <td>994.860465</td>\n      <td>571.200235</td>\n      <td>1.000000</td>\n      <td>517.000000</td>\n      <td>979.000000</td>\n      <td>1513.000000</td>\n      <td>1979.000000</td>\n    </tr>\n    <tr>\n      <th>75%</th>\n      <td>7500.000000</td>\n      <td>163.000000</td>\n      <td>0.0</td>\n      <td>163.000000</td>\n      <td>163.000000</td>\n      <td>163.000000</td>\n      <td>163.000000</td>\n      <td>163.000000</td>\n      <td>7500.000000</td>\n      <td>96.108004</td>\n      <td>...</td>\n      <td>143.000000</td>\n      <td>228.000000</td>\n      <td>7500.000000</td>\n      <td>1019.920455</td>\n      <td>580.651534</td>\n      <td>17.000000</td>\n      <td>547.250000</td>\n      <td>1016.000000</td>\n      <td>1547.000000</td>\n      <td>1981.000000</td>\n    </tr>\n    <tr>\n      <th>max</th>\n      <td>42320.000000</td>\n      <td>232.000000</td>\n      <td>0.0</td>\n      <td>232.000000</td>\n      <td>232.000000</td>\n      <td>232.000000</td>\n      <td>232.000000</td>\n      <td>232.000000</td>\n      <td>42320.000000</td>\n      <td>230.000000</td>\n      <td>...</td>\n      <td>230.000000</td>\n      <td>232.000000</td>\n      <td>42320.000000</td>\n      <td>1891.000000</td>\n      <td>1083.994696</td>\n      <td>1891.000000</td>\n      <td>1891.000000</td>\n      <td>1891.000000</td>\n      <td>1891.000000</td>\n      <td>1981.000000</td>\n    </tr>\n  </tbody>\n</table>\n<p>8 rows × 24 columns</p>\n</div>"
     },
     "execution_count": 62,
     "metadata": {},
     "output_type": "execute_result"
    }
   ],
   "source": [
    "groupByStartName.describe()"
   ],
   "metadata": {
    "collapsed": false
   }
  },
  {
   "cell_type": "markdown",
   "source": [
    "# Looking for wrong dates"
   ],
   "metadata": {
    "collapsed": false
   }
  },
  {
   "cell_type": "code",
   "execution_count": 63,
   "outputs": [],
   "source": [
    "data['start_time'] = pd.to_datetime(data[\"start_time\"])\n",
    "data['end_time'] = pd.to_datetime(data[\"end_time\"])"
   ],
   "metadata": {
    "collapsed": false
   }
  },
  {
   "cell_type": "code",
   "execution_count": 64,
   "outputs": [
    {
     "name": "stdout",
     "output_type": "stream",
     "text": [
      "                 start_time            end_time  start_station_id  \\\n",
      "1175230 2017-11-05 01:52:32 2017-11-05 01:00:38                55   \n",
      "1175233 2017-11-05 01:55:32 2017-11-05 01:06:34                48   \n",
      "1175235 2017-11-05 01:57:53 2017-11-05 01:08:30                90   \n",
      "1175236 2017-11-05 01:58:28 2017-11-05 01:16:59                49   \n",
      "1175237 2017-11-05 01:58:50 2017-11-05 01:04:57                49   \n",
      "1175238 2017-11-05 01:59:59 2017-11-05 01:21:46                49   \n",
      "\n",
      "         end_station_id                           start_station_name  \\\n",
      "1175230             178             Boylston St at Massachusetts Ave   \n",
      "1175233              39     Post Office Square - Pearl St at Milk St   \n",
      "1175235              80  Lechmere Station at Cambridge St / First St   \n",
      "1175236             178                      Stuart St at Charles St   \n",
      "1175237              60                      Stuart St at Charles St   \n",
      "1175238             130                      Stuart St at Charles St   \n",
      "\n",
      "                                    end_station_name  bike_id   user_type  \n",
      "1175230              MIT Pacific St at Purrington St     1038  Subscriber  \n",
      "1175233                  Washington St at Rutland St     1916  Subscriber  \n",
      "1175235      MIT Stata Center at Vassar St / Main St     1021  Subscriber  \n",
      "1175236              MIT Pacific St at Purrington St     1139  Subscriber  \n",
      "1175237  Charles Circle - Charles St at Cambridge St      847  Subscriber  \n",
      "1175238                               Upham's Corner     1645  Subscriber  \n"
     ]
    }
   ],
   "source": [
    "x = data[\"end_time\"] - data[\"start_time\"]\n",
    "# x.min()\n",
    "print(data[data.end_time - data.start_time <= timedelta(minutes=0)])"
   ],
   "metadata": {
    "collapsed": false
   }
  },
  {
   "cell_type": "markdown",
   "source": [
    "# Daylight savings was on the 5th Nov, therefore could explain the wrong data"
   ],
   "metadata": {
    "collapsed": false
   }
  },
  {
   "cell_type": "markdown",
   "source": [
    "# Find false IDs"
   ],
   "metadata": {
    "collapsed": false
   }
  },
  {
   "cell_type": "code",
   "execution_count": 65,
   "outputs": [
    {
     "data": {
      "text/plain": "        count unique                                      top freq\nbike_id                                                           \n1         774    157             MIT at Mass Ave / Amherst St   27\n2         245    107  MIT Stata Center at Vassar St / Main St    9\n3         965    159             MIT at Mass Ave / Amherst St   26\n4         957    160         South Station - 700 Atlantic Ave   28\n5         573    140    Central Square at Mass Ave / Essex St   23\n...       ...    ...                                      ...  ...\n1977       58     36         Prudential Center - Belvedere St    5\n1978      126     79         South Station - 700 Atlantic Ave    9\n1979      190     96             MIT at Mass Ave / Amherst St   12\n1980      167     85           Boston City Hall - 28 State St    9\n1981      140     81             MIT at Mass Ave / Amherst St    8\n\n[1799 rows x 4 columns]",
      "text/html": "<div>\n<style scoped>\n    .dataframe tbody tr th:only-of-type {\n        vertical-align: middle;\n    }\n\n    .dataframe tbody tr th {\n        vertical-align: top;\n    }\n\n    .dataframe thead th {\n        text-align: right;\n    }\n</style>\n<table border=\"1\" class=\"dataframe\">\n  <thead>\n    <tr style=\"text-align: right;\">\n      <th></th>\n      <th>count</th>\n      <th>unique</th>\n      <th>top</th>\n      <th>freq</th>\n    </tr>\n    <tr>\n      <th>bike_id</th>\n      <th></th>\n      <th></th>\n      <th></th>\n      <th></th>\n    </tr>\n  </thead>\n  <tbody>\n    <tr>\n      <th>1</th>\n      <td>774</td>\n      <td>157</td>\n      <td>MIT at Mass Ave / Amherst St</td>\n      <td>27</td>\n    </tr>\n    <tr>\n      <th>2</th>\n      <td>245</td>\n      <td>107</td>\n      <td>MIT Stata Center at Vassar St / Main St</td>\n      <td>9</td>\n    </tr>\n    <tr>\n      <th>3</th>\n      <td>965</td>\n      <td>159</td>\n      <td>MIT at Mass Ave / Amherst St</td>\n      <td>26</td>\n    </tr>\n    <tr>\n      <th>4</th>\n      <td>957</td>\n      <td>160</td>\n      <td>South Station - 700 Atlantic Ave</td>\n      <td>28</td>\n    </tr>\n    <tr>\n      <th>5</th>\n      <td>573</td>\n      <td>140</td>\n      <td>Central Square at Mass Ave / Essex St</td>\n      <td>23</td>\n    </tr>\n    <tr>\n      <th>...</th>\n      <td>...</td>\n      <td>...</td>\n      <td>...</td>\n      <td>...</td>\n    </tr>\n    <tr>\n      <th>1977</th>\n      <td>58</td>\n      <td>36</td>\n      <td>Prudential Center - Belvedere St</td>\n      <td>5</td>\n    </tr>\n    <tr>\n      <th>1978</th>\n      <td>126</td>\n      <td>79</td>\n      <td>South Station - 700 Atlantic Ave</td>\n      <td>9</td>\n    </tr>\n    <tr>\n      <th>1979</th>\n      <td>190</td>\n      <td>96</td>\n      <td>MIT at Mass Ave / Amherst St</td>\n      <td>12</td>\n    </tr>\n    <tr>\n      <th>1980</th>\n      <td>167</td>\n      <td>85</td>\n      <td>Boston City Hall - 28 State St</td>\n      <td>9</td>\n    </tr>\n    <tr>\n      <th>1981</th>\n      <td>140</td>\n      <td>81</td>\n      <td>MIT at Mass Ave / Amherst St</td>\n      <td>8</td>\n    </tr>\n  </tbody>\n</table>\n<p>1799 rows × 4 columns</p>\n</div>"
     },
     "execution_count": 65,
     "metadata": {},
     "output_type": "execute_result"
    }
   ],
   "source": [
    "groupByBike = data.groupby(\"bike_id\")[\n",
    "    'start_station_name'].describe()\n",
    "groupByBike"
   ],
   "metadata": {
    "collapsed": false
   }
  },
  {
   "cell_type": "markdown",
   "source": [
    "# Drop end date before start date"
   ],
   "metadata": {
    "collapsed": false
   }
  },
  {
   "cell_type": "code",
   "execution_count": 66,
   "outputs": [],
   "source": [
    "dataCleaned1 = data[data.end_time - data.start_time >= timedelta(minutes=0)]"
   ],
   "metadata": {
    "collapsed": false
   }
  },
  {
   "cell_type": "code",
   "execution_count": 67,
   "outputs": [],
   "source": [
    "dataCleaned2 = dataCleaned1.drop_duplicates()"
   ],
   "metadata": {
    "collapsed": false
   }
  },
  {
   "cell_type": "code",
   "execution_count": 68,
   "outputs": [
    {
     "data": {
      "text/plain": "                 start_time            end_time  start_station_id  \\\n0       2017-01-01 00:06:58 2017-01-01 00:12:49                67   \n1       2017-01-01 00:13:16 2017-01-01 00:28:07                36   \n2       2017-01-01 00:16:17 2017-01-01 00:44:10                36   \n3       2017-01-01 00:21:22 2017-01-01 00:33:50                46   \n4       2017-01-01 00:30:06 2017-01-01 00:40:28                10   \n...                     ...                 ...               ...   \n1313769 2017-12-31 23:46:18 2017-12-31 23:50:27               117   \n1313770 2017-12-29 16:11:56 2017-12-29 16:16:18                54   \n1313771 2017-12-30 08:09:44 2017-12-30 08:26:08                54   \n1313772 2017-12-30 12:20:01 2017-12-30 12:49:12                54   \n1313773 2017-12-30 18:27:39 2017-12-30 18:53:54                54   \n\n         end_station_id                        start_station_name  \\\n0                   139              MIT at Mass Ave / Amherst St   \n1                    10  Boston Public Library - 700 Boylston St.   \n2                     9  Boston Public Library - 700 Boylston St.   \n3                    19                   Christian Science Plaza   \n4                     8             B.U. Central - 725 Comm. Ave.   \n...                 ...                                       ...   \n1313769             141                      Binney St / Sixth St   \n1313770              42                     Tremont St at West St   \n1313771              58                     Tremont St at West St   \n1313772              46                     Tremont St at West St   \n1313773              21                     Tremont St at West St   \n\n                                          end_station_name  bike_id  \\\n0                                                Dana Park      644   \n1                            B.U. Central - 725 Comm. Ave.      230   \n2                            Agganis Arena - 925 Comm Ave.      980   \n3                                  Buswell St. at Park Dr.     1834   \n4            Union Square - Brighton Ave. at Cambridge St.      230   \n...                                                    ...      ...   \n1313769                                     Kendall Street     1846   \n1313770  Boylston St at Arlington St TEMPORARY WINTER L...        2   \n1313771                          Beacon St at Arlington St     1534   \n1313772  Christian Science Plaza - Massachusetts Ave at...     1978   \n1313773                   Prudential Center - Belvedere St       15   \n\n          user_type  \n0        Subscriber  \n1        Subscriber  \n2          Customer  \n3        Subscriber  \n4        Subscriber  \n...             ...  \n1313769  Subscriber  \n1313770  Subscriber  \n1313771  Subscriber  \n1313772  Subscriber  \n1313773  Subscriber  \n\n[1313768 rows x 8 columns]",
      "text/html": "<div>\n<style scoped>\n    .dataframe tbody tr th:only-of-type {\n        vertical-align: middle;\n    }\n\n    .dataframe tbody tr th {\n        vertical-align: top;\n    }\n\n    .dataframe thead th {\n        text-align: right;\n    }\n</style>\n<table border=\"1\" class=\"dataframe\">\n  <thead>\n    <tr style=\"text-align: right;\">\n      <th></th>\n      <th>start_time</th>\n      <th>end_time</th>\n      <th>start_station_id</th>\n      <th>end_station_id</th>\n      <th>start_station_name</th>\n      <th>end_station_name</th>\n      <th>bike_id</th>\n      <th>user_type</th>\n    </tr>\n  </thead>\n  <tbody>\n    <tr>\n      <th>0</th>\n      <td>2017-01-01 00:06:58</td>\n      <td>2017-01-01 00:12:49</td>\n      <td>67</td>\n      <td>139</td>\n      <td>MIT at Mass Ave / Amherst St</td>\n      <td>Dana Park</td>\n      <td>644</td>\n      <td>Subscriber</td>\n    </tr>\n    <tr>\n      <th>1</th>\n      <td>2017-01-01 00:13:16</td>\n      <td>2017-01-01 00:28:07</td>\n      <td>36</td>\n      <td>10</td>\n      <td>Boston Public Library - 700 Boylston St.</td>\n      <td>B.U. Central - 725 Comm. Ave.</td>\n      <td>230</td>\n      <td>Subscriber</td>\n    </tr>\n    <tr>\n      <th>2</th>\n      <td>2017-01-01 00:16:17</td>\n      <td>2017-01-01 00:44:10</td>\n      <td>36</td>\n      <td>9</td>\n      <td>Boston Public Library - 700 Boylston St.</td>\n      <td>Agganis Arena - 925 Comm Ave.</td>\n      <td>980</td>\n      <td>Customer</td>\n    </tr>\n    <tr>\n      <th>3</th>\n      <td>2017-01-01 00:21:22</td>\n      <td>2017-01-01 00:33:50</td>\n      <td>46</td>\n      <td>19</td>\n      <td>Christian Science Plaza</td>\n      <td>Buswell St. at Park Dr.</td>\n      <td>1834</td>\n      <td>Subscriber</td>\n    </tr>\n    <tr>\n      <th>4</th>\n      <td>2017-01-01 00:30:06</td>\n      <td>2017-01-01 00:40:28</td>\n      <td>10</td>\n      <td>8</td>\n      <td>B.U. Central - 725 Comm. Ave.</td>\n      <td>Union Square - Brighton Ave. at Cambridge St.</td>\n      <td>230</td>\n      <td>Subscriber</td>\n    </tr>\n    <tr>\n      <th>...</th>\n      <td>...</td>\n      <td>...</td>\n      <td>...</td>\n      <td>...</td>\n      <td>...</td>\n      <td>...</td>\n      <td>...</td>\n      <td>...</td>\n    </tr>\n    <tr>\n      <th>1313769</th>\n      <td>2017-12-31 23:46:18</td>\n      <td>2017-12-31 23:50:27</td>\n      <td>117</td>\n      <td>141</td>\n      <td>Binney St / Sixth St</td>\n      <td>Kendall Street</td>\n      <td>1846</td>\n      <td>Subscriber</td>\n    </tr>\n    <tr>\n      <th>1313770</th>\n      <td>2017-12-29 16:11:56</td>\n      <td>2017-12-29 16:16:18</td>\n      <td>54</td>\n      <td>42</td>\n      <td>Tremont St at West St</td>\n      <td>Boylston St at Arlington St TEMPORARY WINTER L...</td>\n      <td>2</td>\n      <td>Subscriber</td>\n    </tr>\n    <tr>\n      <th>1313771</th>\n      <td>2017-12-30 08:09:44</td>\n      <td>2017-12-30 08:26:08</td>\n      <td>54</td>\n      <td>58</td>\n      <td>Tremont St at West St</td>\n      <td>Beacon St at Arlington St</td>\n      <td>1534</td>\n      <td>Subscriber</td>\n    </tr>\n    <tr>\n      <th>1313772</th>\n      <td>2017-12-30 12:20:01</td>\n      <td>2017-12-30 12:49:12</td>\n      <td>54</td>\n      <td>46</td>\n      <td>Tremont St at West St</td>\n      <td>Christian Science Plaza - Massachusetts Ave at...</td>\n      <td>1978</td>\n      <td>Subscriber</td>\n    </tr>\n    <tr>\n      <th>1313773</th>\n      <td>2017-12-30 18:27:39</td>\n      <td>2017-12-30 18:53:54</td>\n      <td>54</td>\n      <td>21</td>\n      <td>Tremont St at West St</td>\n      <td>Prudential Center - Belvedere St</td>\n      <td>15</td>\n      <td>Subscriber</td>\n    </tr>\n  </tbody>\n</table>\n<p>1313768 rows × 8 columns</p>\n</div>"
     },
     "execution_count": 68,
     "metadata": {},
     "output_type": "execute_result"
    }
   ],
   "source": [
    "dataCleaned3 = dataCleaned2[np.isfinite(\n",
    "    pd.to_numeric(dataCleaned2.bike_id, errors=\"coerce\"))]\n",
    "dataCleaned3"
   ],
   "metadata": {
    "collapsed": false
   }
  },
  {
   "cell_type": "code",
   "execution_count": 69,
   "outputs": [],
   "source": [
    "dataCleaned4a = dataCleaned3[dataCleaned3.start_station_name != '8D OPS 03']\n",
    "dataCleaned4b = dataCleaned4a[dataCleaned4a.start_station_name != '8D QC Station 01']\n",
    "dataCleaned4c = dataCleaned4b[dataCleaned4b.start_station_name != '8D QC Station 02']"
   ],
   "metadata": {
    "collapsed": false
   }
  },
  {
   "cell_type": "code",
   "execution_count": 70,
   "outputs": [
    {
     "data": {
      "text/plain": "       start_station_id  end_station_id       bike_id\ncount      1.313760e+06    1.313760e+06  1.313760e+06\nmean       8.570985e+01    8.554266e+01  9.931323e+02\nstd        5.634691e+01    5.648232e+01  5.701400e+02\nmin        1.000000e+00    1.000000e+00  1.000000e+00\n25%        4.300000e+01    4.300000e+01  5.160000e+02\n50%        7.400000e+01    7.400000e+01  9.780000e+02\n75%        1.170000e+02    1.170000e+02  1.512000e+03\nmax        2.320000e+02    2.320000e+02  1.981000e+03",
      "text/html": "<div>\n<style scoped>\n    .dataframe tbody tr th:only-of-type {\n        vertical-align: middle;\n    }\n\n    .dataframe tbody tr th {\n        vertical-align: top;\n    }\n\n    .dataframe thead th {\n        text-align: right;\n    }\n</style>\n<table border=\"1\" class=\"dataframe\">\n  <thead>\n    <tr style=\"text-align: right;\">\n      <th></th>\n      <th>start_station_id</th>\n      <th>end_station_id</th>\n      <th>bike_id</th>\n    </tr>\n  </thead>\n  <tbody>\n    <tr>\n      <th>count</th>\n      <td>1.313760e+06</td>\n      <td>1.313760e+06</td>\n      <td>1.313760e+06</td>\n    </tr>\n    <tr>\n      <th>mean</th>\n      <td>8.570985e+01</td>\n      <td>8.554266e+01</td>\n      <td>9.931323e+02</td>\n    </tr>\n    <tr>\n      <th>std</th>\n      <td>5.634691e+01</td>\n      <td>5.648232e+01</td>\n      <td>5.701400e+02</td>\n    </tr>\n    <tr>\n      <th>min</th>\n      <td>1.000000e+00</td>\n      <td>1.000000e+00</td>\n      <td>1.000000e+00</td>\n    </tr>\n    <tr>\n      <th>25%</th>\n      <td>4.300000e+01</td>\n      <td>4.300000e+01</td>\n      <td>5.160000e+02</td>\n    </tr>\n    <tr>\n      <th>50%</th>\n      <td>7.400000e+01</td>\n      <td>7.400000e+01</td>\n      <td>9.780000e+02</td>\n    </tr>\n    <tr>\n      <th>75%</th>\n      <td>1.170000e+02</td>\n      <td>1.170000e+02</td>\n      <td>1.512000e+03</td>\n    </tr>\n    <tr>\n      <th>max</th>\n      <td>2.320000e+02</td>\n      <td>2.320000e+02</td>\n      <td>1.981000e+03</td>\n    </tr>\n  </tbody>\n</table>\n</div>"
     },
     "execution_count": 70,
     "metadata": {},
     "output_type": "execute_result"
    }
   ],
   "source": [
    "dataCleaned4c.describe()"
   ],
   "metadata": {
    "collapsed": false
   }
  },
  {
   "cell_type": "code",
   "execution_count": 71,
   "outputs": [
    {
     "name": "stdout",
     "output_type": "stream",
     "text": [
      "<class 'pandas.core.frame.DataFrame'>\n",
      "Int64Index: 1313760 entries, 0 to 1313773\n",
      "Data columns (total 8 columns):\n",
      " #   Column              Non-Null Count    Dtype         \n",
      "---  ------              --------------    -----         \n",
      " 0   start_time          1313760 non-null  datetime64[ns]\n",
      " 1   end_time            1313760 non-null  datetime64[ns]\n",
      " 2   start_station_id    1313760 non-null  int64         \n",
      " 3   end_station_id      1313760 non-null  int64         \n",
      " 4   start_station_name  1313760 non-null  object        \n",
      " 5   end_station_name    1313760 non-null  object        \n",
      " 6   bike_id             1313760 non-null  int64         \n",
      " 7   user_type           1313760 non-null  object        \n",
      "dtypes: datetime64[ns](2), int64(3), object(3)\n",
      "memory usage: 90.2+ MB\n"
     ]
    }
   ],
   "source": [
    "dataCleaned5 = dataCleaned4c[dataCleaned4c['start_station_id'].notna()]\n",
    "dataCleaned5.info()"
   ],
   "metadata": {
    "collapsed": false
   }
  },
  {
   "cell_type": "markdown",
   "source": [
    "# Write cleaned Data"
   ],
   "metadata": {
    "collapsed": false
   }
  },
  {
   "cell_type": "code",
   "execution_count": 72,
   "outputs": [],
   "source": [
    "data_cleaned = dataCleaned4c"
   ],
   "metadata": {
    "collapsed": false
   }
  },
  {
   "cell_type": "code",
   "execution_count": 73,
   "outputs": [],
   "source": [
    "data_cleaned.to_csv(\"Boston_Data_Clean.csv\")"
   ],
   "metadata": {
    "collapsed": false
   }
  }
 ],
 "metadata": {
  "kernelspec": {
   "display_name": "Python 3",
   "language": "python",
   "name": "python3"
  },
  "language_info": {
   "codemirror_mode": {
    "name": "ipython",
    "version": 2
   },
   "file_extension": ".py",
   "mimetype": "text/x-python",
   "name": "python",
   "nbconvert_exporter": "python",
   "pygments_lexer": "ipython2",
   "version": "2.7.6"
  }
 },
 "nbformat": 4,
 "nbformat_minor": 0
}
