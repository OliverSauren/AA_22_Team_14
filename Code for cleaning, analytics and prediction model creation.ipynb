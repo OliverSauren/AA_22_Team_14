{
 "cells": [
  {
   "cell_type": "markdown",
   "id": "c4f240dd",
   "metadata": {},
   "source": [
    "In the following there is the code which is used for cleaning and analyzing the dataset as well as creating a prediction model. As the process follows the tasks given in the assignment, the task will be presented as an introduction to each new step."
   ]
  },
  {
   "cell_type": "markdown",
   "id": "4033315a",
   "metadata": {},
   "source": [
    "1.\tData Collection and Preparation\n",
    "\n",
    "Task: Clean the dataset for later use. Briefly describe how you proceeded and how you dealt with possible missing/erroneous data.\n",
    "\n",
    "    -\tDataset Boston 2017\n",
    "    -\tClean:\n",
    "          o\tNo missing values (search for blanks) → check for impact, but \n",
    "            should be fine\n",
    "          o\tCheck for correct formats\n",
    "          o\tStart time has to be smaller than end time\n",
    "          o\tIDs (bikes and stations) have to be numerical\n",
    "          o\tStation name has to be a string and a proper name for a station \n",
    "            (check for irritating values)\n",
    "    \n",
    "    -\tWeather dataset should be fine\n",
    "    \n",
    "    -\tHint: additional data, such as the locations of individual bike \n",
    "              stations may be available from the operator websites. You can \n",
    "              incorporate those in your analyses (e.g., for visualization \n",
    "              purposes) for extra marks but it is not a requirement.\n"
   ]
  },
  {
   "cell_type": "code",
   "execution_count": null,
   "id": "a1ce3fa8",
   "metadata": {},
   "outputs": [],
   "source": [
    "#Import of the dataset\n"
   ]
  }
 ],
 "metadata": {
  "kernelspec": {
   "display_name": "Python 3 (ipykernel)",
   "language": "python",
   "name": "python3"
  },
  "language_info": {
   "codemirror_mode": {
    "name": "ipython",
    "version": 3
   },
   "file_extension": ".py",
   "mimetype": "text/x-python",
   "name": "python",
   "nbconvert_exporter": "python",
   "pygments_lexer": "ipython3",
   "version": "3.9.13"
  }
 },
 "nbformat": 4,
 "nbformat_minor": 5
}
