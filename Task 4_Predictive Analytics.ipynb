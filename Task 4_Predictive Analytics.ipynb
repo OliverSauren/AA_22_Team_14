{
 "cells": [
  {
   "attachments": {},
   "cell_type": "markdown",
   "metadata": {},
   "source": [
    "# Prediction of hourly demand levels (in 2017)\n"
   ]
  },
  {
   "cell_type": "code",
   "execution_count": 1,
   "metadata": {},
   "outputs": [],
   "source": [
    "import pandas as pd\n",
    "import datetime as dt\n",
    "import numpy as np\n",
    "from datetime import datetime\n",
    "import warnings\n",
    "warnings.filterwarnings('ignore')"
   ]
  },
  {
   "cell_type": "code",
   "execution_count": 2,
   "metadata": {},
   "outputs": [
    {
     "data": {
      "text/html": [
       "<div>\n",
       "<style scoped>\n",
       "    .dataframe tbody tr th:only-of-type {\n",
       "        vertical-align: middle;\n",
       "    }\n",
       "\n",
       "    .dataframe tbody tr th {\n",
       "        vertical-align: top;\n",
       "    }\n",
       "\n",
       "    .dataframe thead th {\n",
       "        text-align: right;\n",
       "    }\n",
       "</style>\n",
       "<table border=\"1\" class=\"dataframe\">\n",
       "  <thead>\n",
       "    <tr style=\"text-align: right;\">\n",
       "      <th></th>\n",
       "      <th>Unnamed: 0</th>\n",
       "      <th>start_time</th>\n",
       "      <th>end_time</th>\n",
       "      <th>start_station_id</th>\n",
       "      <th>end_station_id</th>\n",
       "      <th>start_station_name</th>\n",
       "      <th>end_station_name</th>\n",
       "      <th>bike_id</th>\n",
       "      <th>user_type</th>\n",
       "    </tr>\n",
       "  </thead>\n",
       "  <tbody>\n",
       "    <tr>\n",
       "      <th>0</th>\n",
       "      <td>0</td>\n",
       "      <td>2017-01-01 00:06:58</td>\n",
       "      <td>2017-01-01 00:12:49</td>\n",
       "      <td>67</td>\n",
       "      <td>139</td>\n",
       "      <td>MIT at Mass Ave / Amherst St</td>\n",
       "      <td>Dana Park</td>\n",
       "      <td>644</td>\n",
       "      <td>Subscriber</td>\n",
       "    </tr>\n",
       "    <tr>\n",
       "      <th>1</th>\n",
       "      <td>1</td>\n",
       "      <td>2017-01-01 00:13:16</td>\n",
       "      <td>2017-01-01 00:28:07</td>\n",
       "      <td>36</td>\n",
       "      <td>10</td>\n",
       "      <td>Boston Public Library - 700 Boylston St.</td>\n",
       "      <td>B.U. Central - 725 Comm. Ave.</td>\n",
       "      <td>230</td>\n",
       "      <td>Subscriber</td>\n",
       "    </tr>\n",
       "    <tr>\n",
       "      <th>2</th>\n",
       "      <td>2</td>\n",
       "      <td>2017-01-01 00:16:17</td>\n",
       "      <td>2017-01-01 00:44:10</td>\n",
       "      <td>36</td>\n",
       "      <td>9</td>\n",
       "      <td>Boston Public Library - 700 Boylston St.</td>\n",
       "      <td>Agganis Arena - 925 Comm Ave.</td>\n",
       "      <td>980</td>\n",
       "      <td>Customer</td>\n",
       "    </tr>\n",
       "    <tr>\n",
       "      <th>3</th>\n",
       "      <td>3</td>\n",
       "      <td>2017-01-01 00:21:22</td>\n",
       "      <td>2017-01-01 00:33:50</td>\n",
       "      <td>46</td>\n",
       "      <td>19</td>\n",
       "      <td>Christian Science Plaza</td>\n",
       "      <td>Buswell St. at Park Dr.</td>\n",
       "      <td>1834</td>\n",
       "      <td>Subscriber</td>\n",
       "    </tr>\n",
       "    <tr>\n",
       "      <th>4</th>\n",
       "      <td>4</td>\n",
       "      <td>2017-01-01 00:30:06</td>\n",
       "      <td>2017-01-01 00:40:28</td>\n",
       "      <td>10</td>\n",
       "      <td>8</td>\n",
       "      <td>B.U. Central - 725 Comm. Ave.</td>\n",
       "      <td>Union Square - Brighton Ave. at Cambridge St.</td>\n",
       "      <td>230</td>\n",
       "      <td>Subscriber</td>\n",
       "    </tr>\n",
       "    <tr>\n",
       "      <th>...</th>\n",
       "      <td>...</td>\n",
       "      <td>...</td>\n",
       "      <td>...</td>\n",
       "      <td>...</td>\n",
       "      <td>...</td>\n",
       "      <td>...</td>\n",
       "      <td>...</td>\n",
       "      <td>...</td>\n",
       "      <td>...</td>\n",
       "    </tr>\n",
       "    <tr>\n",
       "      <th>1313751</th>\n",
       "      <td>1313769</td>\n",
       "      <td>2017-12-31 23:46:18</td>\n",
       "      <td>2017-12-31 23:50:27</td>\n",
       "      <td>117</td>\n",
       "      <td>141</td>\n",
       "      <td>Binney St / Sixth St</td>\n",
       "      <td>Kendall Street</td>\n",
       "      <td>1846</td>\n",
       "      <td>Subscriber</td>\n",
       "    </tr>\n",
       "    <tr>\n",
       "      <th>1313752</th>\n",
       "      <td>1313770</td>\n",
       "      <td>2017-12-29 16:11:56</td>\n",
       "      <td>2017-12-29 16:16:18</td>\n",
       "      <td>54</td>\n",
       "      <td>42</td>\n",
       "      <td>Tremont St at West St</td>\n",
       "      <td>Boylston St at Arlington St TEMPORARY WINTER L...</td>\n",
       "      <td>2</td>\n",
       "      <td>Subscriber</td>\n",
       "    </tr>\n",
       "    <tr>\n",
       "      <th>1313753</th>\n",
       "      <td>1313771</td>\n",
       "      <td>2017-12-30 08:09:44</td>\n",
       "      <td>2017-12-30 08:26:08</td>\n",
       "      <td>54</td>\n",
       "      <td>58</td>\n",
       "      <td>Tremont St at West St</td>\n",
       "      <td>Beacon St at Arlington St</td>\n",
       "      <td>1534</td>\n",
       "      <td>Subscriber</td>\n",
       "    </tr>\n",
       "    <tr>\n",
       "      <th>1313754</th>\n",
       "      <td>1313772</td>\n",
       "      <td>2017-12-30 12:20:01</td>\n",
       "      <td>2017-12-30 12:49:12</td>\n",
       "      <td>54</td>\n",
       "      <td>46</td>\n",
       "      <td>Tremont St at West St</td>\n",
       "      <td>Christian Science Plaza - Massachusetts Ave at...</td>\n",
       "      <td>1978</td>\n",
       "      <td>Subscriber</td>\n",
       "    </tr>\n",
       "    <tr>\n",
       "      <th>1313755</th>\n",
       "      <td>1313773</td>\n",
       "      <td>2017-12-30 18:27:39</td>\n",
       "      <td>2017-12-30 18:53:54</td>\n",
       "      <td>54</td>\n",
       "      <td>21</td>\n",
       "      <td>Tremont St at West St</td>\n",
       "      <td>Prudential Center - Belvedere St</td>\n",
       "      <td>15</td>\n",
       "      <td>Subscriber</td>\n",
       "    </tr>\n",
       "  </tbody>\n",
       "</table>\n",
       "<p>1313756 rows × 9 columns</p>\n",
       "</div>"
      ],
      "text/plain": [
       "         Unnamed: 0          start_time            end_time  start_station_id  \\\n",
       "0                 0 2017-01-01 00:06:58 2017-01-01 00:12:49                67   \n",
       "1                 1 2017-01-01 00:13:16 2017-01-01 00:28:07                36   \n",
       "2                 2 2017-01-01 00:16:17 2017-01-01 00:44:10                36   \n",
       "3                 3 2017-01-01 00:21:22 2017-01-01 00:33:50                46   \n",
       "4                 4 2017-01-01 00:30:06 2017-01-01 00:40:28                10   \n",
       "...             ...                 ...                 ...               ...   \n",
       "1313751     1313769 2017-12-31 23:46:18 2017-12-31 23:50:27               117   \n",
       "1313752     1313770 2017-12-29 16:11:56 2017-12-29 16:16:18                54   \n",
       "1313753     1313771 2017-12-30 08:09:44 2017-12-30 08:26:08                54   \n",
       "1313754     1313772 2017-12-30 12:20:01 2017-12-30 12:49:12                54   \n",
       "1313755     1313773 2017-12-30 18:27:39 2017-12-30 18:53:54                54   \n",
       "\n",
       "         end_station_id                        start_station_name  \\\n",
       "0                   139              MIT at Mass Ave / Amherst St   \n",
       "1                    10  Boston Public Library - 700 Boylston St.   \n",
       "2                     9  Boston Public Library - 700 Boylston St.   \n",
       "3                    19                   Christian Science Plaza   \n",
       "4                     8             B.U. Central - 725 Comm. Ave.   \n",
       "...                 ...                                       ...   \n",
       "1313751             141                      Binney St / Sixth St   \n",
       "1313752              42                     Tremont St at West St   \n",
       "1313753              58                     Tremont St at West St   \n",
       "1313754              46                     Tremont St at West St   \n",
       "1313755              21                     Tremont St at West St   \n",
       "\n",
       "                                          end_station_name  bike_id  \\\n",
       "0                                                Dana Park      644   \n",
       "1                            B.U. Central - 725 Comm. Ave.      230   \n",
       "2                            Agganis Arena - 925 Comm Ave.      980   \n",
       "3                                  Buswell St. at Park Dr.     1834   \n",
       "4            Union Square - Brighton Ave. at Cambridge St.      230   \n",
       "...                                                    ...      ...   \n",
       "1313751                                     Kendall Street     1846   \n",
       "1313752  Boylston St at Arlington St TEMPORARY WINTER L...        2   \n",
       "1313753                          Beacon St at Arlington St     1534   \n",
       "1313754  Christian Science Plaza - Massachusetts Ave at...     1978   \n",
       "1313755                   Prudential Center - Belvedere St       15   \n",
       "\n",
       "          user_type  \n",
       "0        Subscriber  \n",
       "1        Subscriber  \n",
       "2          Customer  \n",
       "3        Subscriber  \n",
       "4        Subscriber  \n",
       "...             ...  \n",
       "1313751  Subscriber  \n",
       "1313752  Subscriber  \n",
       "1313753  Subscriber  \n",
       "1313754  Subscriber  \n",
       "1313755  Subscriber  \n",
       "\n",
       "[1313756 rows x 9 columns]"
      ]
     },
     "execution_count": 2,
     "metadata": {},
     "output_type": "execute_result"
    }
   ],
   "source": [
    "#Importing the cleaned dataset\n",
    "data = pd.read_csv('Boston_2017_Cleaned_Data.csv')\n",
    "data['start_time'] = pd.to_datetime(data['start_time'], errors='coerce')\n",
    "data['end_time'] = pd.to_datetime(data['end_time'], errors='coerce')\n",
    "data"
   ]
  },
  {
   "cell_type": "code",
   "execution_count": 3,
   "metadata": {},
   "outputs": [
    {
     "data": {
      "text/html": [
       "<div>\n",
       "<style scoped>\n",
       "    .dataframe tbody tr th:only-of-type {\n",
       "        vertical-align: middle;\n",
       "    }\n",
       "\n",
       "    .dataframe tbody tr th {\n",
       "        vertical-align: top;\n",
       "    }\n",
       "\n",
       "    .dataframe thead th {\n",
       "        text-align: right;\n",
       "    }\n",
       "</style>\n",
       "<table border=\"1\" class=\"dataframe\">\n",
       "  <thead>\n",
       "    <tr style=\"text-align: right;\">\n",
       "      <th></th>\n",
       "      <th>start_time</th>\n",
       "      <th>hour</th>\n",
       "    </tr>\n",
       "  </thead>\n",
       "  <tbody>\n",
       "    <tr>\n",
       "      <th>0</th>\n",
       "      <td>2017-01-01 00:06:58</td>\n",
       "      <td>2017-01-01 00:00:00</td>\n",
       "    </tr>\n",
       "    <tr>\n",
       "      <th>1</th>\n",
       "      <td>2017-01-01 00:13:16</td>\n",
       "      <td>2017-01-01 00:00:00</td>\n",
       "    </tr>\n",
       "    <tr>\n",
       "      <th>2</th>\n",
       "      <td>2017-01-01 00:16:17</td>\n",
       "      <td>2017-01-01 00:00:00</td>\n",
       "    </tr>\n",
       "    <tr>\n",
       "      <th>3</th>\n",
       "      <td>2017-01-01 00:21:22</td>\n",
       "      <td>2017-01-01 00:00:00</td>\n",
       "    </tr>\n",
       "    <tr>\n",
       "      <th>4</th>\n",
       "      <td>2017-01-01 00:30:06</td>\n",
       "      <td>2017-01-01 00:00:00</td>\n",
       "    </tr>\n",
       "    <tr>\n",
       "      <th>...</th>\n",
       "      <td>...</td>\n",
       "      <td>...</td>\n",
       "    </tr>\n",
       "    <tr>\n",
       "      <th>1313751</th>\n",
       "      <td>2017-12-31 23:46:18</td>\n",
       "      <td>2017-12-31 23:00:00</td>\n",
       "    </tr>\n",
       "    <tr>\n",
       "      <th>1313752</th>\n",
       "      <td>2017-12-29 16:11:56</td>\n",
       "      <td>2017-12-29 16:00:00</td>\n",
       "    </tr>\n",
       "    <tr>\n",
       "      <th>1313753</th>\n",
       "      <td>2017-12-30 08:09:44</td>\n",
       "      <td>2017-12-30 08:00:00</td>\n",
       "    </tr>\n",
       "    <tr>\n",
       "      <th>1313754</th>\n",
       "      <td>2017-12-30 12:20:01</td>\n",
       "      <td>2017-12-30 12:00:00</td>\n",
       "    </tr>\n",
       "    <tr>\n",
       "      <th>1313755</th>\n",
       "      <td>2017-12-30 18:27:39</td>\n",
       "      <td>2017-12-30 18:00:00</td>\n",
       "    </tr>\n",
       "  </tbody>\n",
       "</table>\n",
       "<p>1313756 rows × 2 columns</p>\n",
       "</div>"
      ],
      "text/plain": [
       "                 start_time                hour\n",
       "0       2017-01-01 00:06:58 2017-01-01 00:00:00\n",
       "1       2017-01-01 00:13:16 2017-01-01 00:00:00\n",
       "2       2017-01-01 00:16:17 2017-01-01 00:00:00\n",
       "3       2017-01-01 00:21:22 2017-01-01 00:00:00\n",
       "4       2017-01-01 00:30:06 2017-01-01 00:00:00\n",
       "...                     ...                 ...\n",
       "1313751 2017-12-31 23:46:18 2017-12-31 23:00:00\n",
       "1313752 2017-12-29 16:11:56 2017-12-29 16:00:00\n",
       "1313753 2017-12-30 08:09:44 2017-12-30 08:00:00\n",
       "1313754 2017-12-30 12:20:01 2017-12-30 12:00:00\n",
       "1313755 2017-12-30 18:27:39 2017-12-30 18:00:00\n",
       "\n",
       "[1313756 rows x 2 columns]"
      ]
     },
     "execution_count": 3,
     "metadata": {},
     "output_type": "execute_result"
    }
   ],
   "source": [
    "data['hour'] = data['start_time'].dt.floor('h')\n",
    "data = data[[\"start_time\", \"hour\"]]\n",
    "data\n"
   ]
  },
  {
   "cell_type": "code",
   "execution_count": 4,
   "metadata": {},
   "outputs": [
    {
     "data": {
      "text/html": [
       "<div>\n",
       "<style scoped>\n",
       "    .dataframe tbody tr th:only-of-type {\n",
       "        vertical-align: middle;\n",
       "    }\n",
       "\n",
       "    .dataframe tbody tr th {\n",
       "        vertical-align: top;\n",
       "    }\n",
       "\n",
       "    .dataframe thead th {\n",
       "        text-align: right;\n",
       "    }\n",
       "</style>\n",
       "<table border=\"1\" class=\"dataframe\">\n",
       "  <thead>\n",
       "    <tr style=\"text-align: right;\">\n",
       "      <th></th>\n",
       "      <th>rides_counted</th>\n",
       "    </tr>\n",
       "    <tr>\n",
       "      <th>hour</th>\n",
       "      <th></th>\n",
       "    </tr>\n",
       "  </thead>\n",
       "  <tbody>\n",
       "    <tr>\n",
       "      <th>2017-01-01 00:00:00</th>\n",
       "      <td>13</td>\n",
       "    </tr>\n",
       "    <tr>\n",
       "      <th>2017-01-01 01:00:00</th>\n",
       "      <td>7</td>\n",
       "    </tr>\n",
       "    <tr>\n",
       "      <th>2017-01-01 02:00:00</th>\n",
       "      <td>4</td>\n",
       "    </tr>\n",
       "    <tr>\n",
       "      <th>2017-01-01 03:00:00</th>\n",
       "      <td>2</td>\n",
       "    </tr>\n",
       "    <tr>\n",
       "      <th>2017-01-01 04:00:00</th>\n",
       "      <td>6</td>\n",
       "    </tr>\n",
       "    <tr>\n",
       "      <th>...</th>\n",
       "      <td>...</td>\n",
       "    </tr>\n",
       "    <tr>\n",
       "      <th>2017-12-31 19:00:00</th>\n",
       "      <td>6</td>\n",
       "    </tr>\n",
       "    <tr>\n",
       "      <th>2017-12-31 20:00:00</th>\n",
       "      <td>5</td>\n",
       "    </tr>\n",
       "    <tr>\n",
       "      <th>2017-12-31 21:00:00</th>\n",
       "      <td>3</td>\n",
       "    </tr>\n",
       "    <tr>\n",
       "      <th>2017-12-31 22:00:00</th>\n",
       "      <td>7</td>\n",
       "    </tr>\n",
       "    <tr>\n",
       "      <th>2017-12-31 23:00:00</th>\n",
       "      <td>2</td>\n",
       "    </tr>\n",
       "  </tbody>\n",
       "</table>\n",
       "<p>8497 rows × 1 columns</p>\n",
       "</div>"
      ],
      "text/plain": [
       "                     rides_counted\n",
       "hour                              \n",
       "2017-01-01 00:00:00             13\n",
       "2017-01-01 01:00:00              7\n",
       "2017-01-01 02:00:00              4\n",
       "2017-01-01 03:00:00              2\n",
       "2017-01-01 04:00:00              6\n",
       "...                            ...\n",
       "2017-12-31 19:00:00              6\n",
       "2017-12-31 20:00:00              5\n",
       "2017-12-31 21:00:00              3\n",
       "2017-12-31 22:00:00              7\n",
       "2017-12-31 23:00:00              2\n",
       "\n",
       "[8497 rows x 1 columns]"
      ]
     },
     "execution_count": 4,
     "metadata": {},
     "output_type": "execute_result"
    }
   ],
   "source": [
    "data = data.groupby(\"hour\").count()\n",
    "data = data.rename(columns={\"start_time\": \"rides_counted\"})\n",
    "data\n"
   ]
  },
  {
   "cell_type": "markdown",
   "metadata": {},
   "source": [
    "# WEATHER DATA\n"
   ]
  },
  {
   "cell_type": "code",
   "execution_count": 5,
   "metadata": {},
   "outputs": [
    {
     "data": {
      "text/html": [
       "<div>\n",
       "<style scoped>\n",
       "    .dataframe tbody tr th:only-of-type {\n",
       "        vertical-align: middle;\n",
       "    }\n",
       "\n",
       "    .dataframe tbody tr th {\n",
       "        vertical-align: top;\n",
       "    }\n",
       "\n",
       "    .dataframe thead th {\n",
       "        text-align: right;\n",
       "    }\n",
       "</style>\n",
       "<table border=\"1\" class=\"dataframe\">\n",
       "  <thead>\n",
       "    <tr style=\"text-align: right;\">\n",
       "      <th></th>\n",
       "      <th>date_time</th>\n",
       "      <th>max_temp</th>\n",
       "      <th>min_temp</th>\n",
       "      <th>precip</th>\n",
       "    </tr>\n",
       "  </thead>\n",
       "  <tbody>\n",
       "    <tr>\n",
       "      <th>0</th>\n",
       "      <td>2017-01-01 01:00:00</td>\n",
       "      <td>4.4</td>\n",
       "      <td>4.4</td>\n",
       "      <td>0.0</td>\n",
       "    </tr>\n",
       "    <tr>\n",
       "      <th>1</th>\n",
       "      <td>2017-01-01 02:00:00</td>\n",
       "      <td>5.0</td>\n",
       "      <td>5.0</td>\n",
       "      <td>1.0</td>\n",
       "    </tr>\n",
       "    <tr>\n",
       "      <th>2</th>\n",
       "      <td>2017-01-01 03:00:00</td>\n",
       "      <td>5.0</td>\n",
       "      <td>5.0</td>\n",
       "      <td>1.0</td>\n",
       "    </tr>\n",
       "    <tr>\n",
       "      <th>3</th>\n",
       "      <td>2017-01-01 04:00:00</td>\n",
       "      <td>5.0</td>\n",
       "      <td>4.4</td>\n",
       "      <td>1.0</td>\n",
       "    </tr>\n",
       "    <tr>\n",
       "      <th>4</th>\n",
       "      <td>2017-01-01 05:00:00</td>\n",
       "      <td>4.4</td>\n",
       "      <td>4.4</td>\n",
       "      <td>1.0</td>\n",
       "    </tr>\n",
       "    <tr>\n",
       "      <th>...</th>\n",
       "      <td>...</td>\n",
       "      <td>...</td>\n",
       "      <td>...</td>\n",
       "      <td>...</td>\n",
       "    </tr>\n",
       "    <tr>\n",
       "      <th>8755</th>\n",
       "      <td>2017-12-31 19:00:00</td>\n",
       "      <td>-11.1</td>\n",
       "      <td>-11.1</td>\n",
       "      <td>0.0</td>\n",
       "    </tr>\n",
       "    <tr>\n",
       "      <th>8756</th>\n",
       "      <td>2017-12-31 20:00:00</td>\n",
       "      <td>-10.6</td>\n",
       "      <td>-10.6</td>\n",
       "      <td>0.0</td>\n",
       "    </tr>\n",
       "    <tr>\n",
       "      <th>8757</th>\n",
       "      <td>2017-12-31 21:00:00</td>\n",
       "      <td>-11.1</td>\n",
       "      <td>-11.1</td>\n",
       "      <td>0.0</td>\n",
       "    </tr>\n",
       "    <tr>\n",
       "      <th>8758</th>\n",
       "      <td>2017-12-31 22:00:00</td>\n",
       "      <td>-11.7</td>\n",
       "      <td>-11.7</td>\n",
       "      <td>0.0</td>\n",
       "    </tr>\n",
       "    <tr>\n",
       "      <th>8759</th>\n",
       "      <td>2017-12-31 23:00:00</td>\n",
       "      <td>-11.1</td>\n",
       "      <td>-11.1</td>\n",
       "      <td>0.0</td>\n",
       "    </tr>\n",
       "  </tbody>\n",
       "</table>\n",
       "<p>8760 rows × 4 columns</p>\n",
       "</div>"
      ],
      "text/plain": [
       "               date_time  max_temp  min_temp  precip\n",
       "0    2017-01-01 01:00:00       4.4       4.4     0.0\n",
       "1    2017-01-01 02:00:00       5.0       5.0     1.0\n",
       "2    2017-01-01 03:00:00       5.0       5.0     1.0\n",
       "3    2017-01-01 04:00:00       5.0       4.4     1.0\n",
       "4    2017-01-01 05:00:00       4.4       4.4     1.0\n",
       "...                  ...       ...       ...     ...\n",
       "8755 2017-12-31 19:00:00     -11.1     -11.1     0.0\n",
       "8756 2017-12-31 20:00:00     -10.6     -10.6     0.0\n",
       "8757 2017-12-31 21:00:00     -11.1     -11.1     0.0\n",
       "8758 2017-12-31 22:00:00     -11.7     -11.7     0.0\n",
       "8759 2017-12-31 23:00:00     -11.1     -11.1     0.0\n",
       "\n",
       "[8760 rows x 4 columns]"
      ]
     },
     "execution_count": 5,
     "metadata": {},
     "output_type": "execute_result"
    }
   ],
   "source": [
    "weather_data = pd.read_csv(\"weather_2017_data_cleaned.csv\", parse_dates=[\"date_time\"])\n",
    "weather_data = weather_data.drop('Unnamed: 0',axis=1)\n",
    "\n",
    "#replace NaNs with the values from the next columns (adds some slightly \"wrong\" data, but solves the problem of gaps in the time series)\n",
    "weather_data = weather_data.fillna(method='bfill')\n",
    "weather_data"
   ]
  },
  {
   "cell_type": "markdown",
   "metadata": {},
   "source": [
    "weather_data['hour_difference'] = np.nan\n",
    "\n",
    "date_format_str = '%Y-%m-%d %H:%M:%S'\n",
    "\n",
    "for i, row in weather_data.iterrows():\n",
    "    if i==0:\n",
    "        weather_data['hour_difference'] == 0\n",
    "    \n",
    "    weather_data.hour_difference.loc[i] = (datetime.strptime(str(weather_data.date_time[i]),date_format_str) - datetime.strptime(str(weather_data.date_time[i]),date_format_str)).total_seconds()/3600\n",
    "\n",
    "display(weather_data.loc(weather_data['hour_difference'] > 0))\n"
   ]
  },
  {
   "cell_type": "code",
   "execution_count": null,
   "metadata": {},
   "outputs": [],
   "source": []
  },
  {
   "cell_type": "markdown",
   "metadata": {},
   "source": [
    "replace NaNs with the values from the next columns (adds some slightly \"wrong\" data, but solves the problem of gaps in the time series)\n"
   ]
  },
  {
   "cell_type": "markdown",
   "metadata": {},
   "source": [
    "delete data not in 2016-2018\n"
   ]
  },
  {
   "cell_type": "markdown",
   "metadata": {},
   "source": [
    "weather_data = weather_data[(weather_data[\"date_time\"].dt.year > 2015) & (\n",
    "    weather_data[\"date_time\"].dt.year < 2019)]\n"
   ]
  },
  {
   "cell_type": "markdown",
   "metadata": {},
   "source": [
    "weather_data\n"
   ]
  },
  {
   "attachments": {},
   "cell_type": "markdown",
   "metadata": {},
   "source": [
    "fix weather_data order\n",
    "\n",
    "in the csv order is roughly like this:\n",
    "\n",
    "2020-01-02 01-05\n",
    "\n",
    "2020-01-01 06-23\n",
    "\n",
    "2020-01-03 01-05\n",
    "\n",
    "2020-01-02 06-23\n"
   ]
  },
  {
   "cell_type": "code",
   "execution_count": 6,
   "metadata": {},
   "outputs": [
    {
     "data": {
      "text/html": [
       "<div>\n",
       "<style scoped>\n",
       "    .dataframe tbody tr th:only-of-type {\n",
       "        vertical-align: middle;\n",
       "    }\n",
       "\n",
       "    .dataframe tbody tr th {\n",
       "        vertical-align: top;\n",
       "    }\n",
       "\n",
       "    .dataframe thead th {\n",
       "        text-align: right;\n",
       "    }\n",
       "</style>\n",
       "<table border=\"1\" class=\"dataframe\">\n",
       "  <thead>\n",
       "    <tr style=\"text-align: right;\">\n",
       "      <th></th>\n",
       "      <th>date_time</th>\n",
       "      <th>max_temp</th>\n",
       "      <th>min_temp</th>\n",
       "      <th>precip</th>\n",
       "    </tr>\n",
       "  </thead>\n",
       "  <tbody>\n",
       "    <tr>\n",
       "      <th>5</th>\n",
       "      <td>2017-01-01 00:00:00</td>\n",
       "      <td>3.9</td>\n",
       "      <td>3.9</td>\n",
       "      <td>0.0</td>\n",
       "    </tr>\n",
       "    <tr>\n",
       "      <th>0</th>\n",
       "      <td>2017-01-01 01:00:00</td>\n",
       "      <td>4.4</td>\n",
       "      <td>4.4</td>\n",
       "      <td>0.0</td>\n",
       "    </tr>\n",
       "    <tr>\n",
       "      <th>1</th>\n",
       "      <td>2017-01-01 02:00:00</td>\n",
       "      <td>5.0</td>\n",
       "      <td>5.0</td>\n",
       "      <td>1.0</td>\n",
       "    </tr>\n",
       "    <tr>\n",
       "      <th>2</th>\n",
       "      <td>2017-01-01 03:00:00</td>\n",
       "      <td>5.0</td>\n",
       "      <td>5.0</td>\n",
       "      <td>1.0</td>\n",
       "    </tr>\n",
       "    <tr>\n",
       "      <th>3</th>\n",
       "      <td>2017-01-01 04:00:00</td>\n",
       "      <td>5.0</td>\n",
       "      <td>4.4</td>\n",
       "      <td>1.0</td>\n",
       "    </tr>\n",
       "    <tr>\n",
       "      <th>...</th>\n",
       "      <td>...</td>\n",
       "      <td>...</td>\n",
       "      <td>...</td>\n",
       "      <td>...</td>\n",
       "    </tr>\n",
       "    <tr>\n",
       "      <th>8755</th>\n",
       "      <td>2017-12-31 19:00:00</td>\n",
       "      <td>-11.1</td>\n",
       "      <td>-11.1</td>\n",
       "      <td>0.0</td>\n",
       "    </tr>\n",
       "    <tr>\n",
       "      <th>8756</th>\n",
       "      <td>2017-12-31 20:00:00</td>\n",
       "      <td>-10.6</td>\n",
       "      <td>-10.6</td>\n",
       "      <td>0.0</td>\n",
       "    </tr>\n",
       "    <tr>\n",
       "      <th>8757</th>\n",
       "      <td>2017-12-31 21:00:00</td>\n",
       "      <td>-11.1</td>\n",
       "      <td>-11.1</td>\n",
       "      <td>0.0</td>\n",
       "    </tr>\n",
       "    <tr>\n",
       "      <th>8758</th>\n",
       "      <td>2017-12-31 22:00:00</td>\n",
       "      <td>-11.7</td>\n",
       "      <td>-11.7</td>\n",
       "      <td>0.0</td>\n",
       "    </tr>\n",
       "    <tr>\n",
       "      <th>8759</th>\n",
       "      <td>2017-12-31 23:00:00</td>\n",
       "      <td>-11.1</td>\n",
       "      <td>-11.1</td>\n",
       "      <td>0.0</td>\n",
       "    </tr>\n",
       "  </tbody>\n",
       "</table>\n",
       "<p>8760 rows × 4 columns</p>\n",
       "</div>"
      ],
      "text/plain": [
       "               date_time  max_temp  min_temp  precip\n",
       "5    2017-01-01 00:00:00       3.9       3.9     0.0\n",
       "0    2017-01-01 01:00:00       4.4       4.4     0.0\n",
       "1    2017-01-01 02:00:00       5.0       5.0     1.0\n",
       "2    2017-01-01 03:00:00       5.0       5.0     1.0\n",
       "3    2017-01-01 04:00:00       5.0       4.4     1.0\n",
       "...                  ...       ...       ...     ...\n",
       "8755 2017-12-31 19:00:00     -11.1     -11.1     0.0\n",
       "8756 2017-12-31 20:00:00     -10.6     -10.6     0.0\n",
       "8757 2017-12-31 21:00:00     -11.1     -11.1     0.0\n",
       "8758 2017-12-31 22:00:00     -11.7     -11.7     0.0\n",
       "8759 2017-12-31 23:00:00     -11.1     -11.1     0.0\n",
       "\n",
       "[8760 rows x 4 columns]"
      ]
     },
     "execution_count": 6,
     "metadata": {},
     "output_type": "execute_result"
    }
   ],
   "source": [
    "weather_data = weather_data.sort_values(\"date_time\")\n",
    "weather_data\n"
   ]
  },
  {
   "cell_type": "markdown",
   "metadata": {},
   "source": [
    "fix data where timestamps are incorrect (I assume timestamps were rounded to the closest hour, which leads to duplicates and missing values)\n"
   ]
  },
  {
   "cell_type": "code",
   "execution_count": 7,
   "metadata": {},
   "outputs": [],
   "source": [
    "curr_date = weather_data.iloc[0][\"date_time\"]\n",
    "dates = []\n",
    "for x in range(len(weather_data)):\n",
    "    dates.append(curr_date+dt.timedelta(hours=x))\n",
    "dates\n",
    "weather_data[\"date_time\"] = dates\n",
    "weather_data = weather_data.set_index(\"date_time\")\n"
   ]
  },
  {
   "cell_type": "code",
   "execution_count": 8,
   "metadata": {},
   "outputs": [
    {
     "data": {
      "text/html": [
       "<div>\n",
       "<style scoped>\n",
       "    .dataframe tbody tr th:only-of-type {\n",
       "        vertical-align: middle;\n",
       "    }\n",
       "\n",
       "    .dataframe tbody tr th {\n",
       "        vertical-align: top;\n",
       "    }\n",
       "\n",
       "    .dataframe thead th {\n",
       "        text-align: right;\n",
       "    }\n",
       "</style>\n",
       "<table border=\"1\" class=\"dataframe\">\n",
       "  <thead>\n",
       "    <tr style=\"text-align: right;\">\n",
       "      <th></th>\n",
       "      <th>max_temp</th>\n",
       "      <th>min_temp</th>\n",
       "      <th>precip</th>\n",
       "    </tr>\n",
       "    <tr>\n",
       "      <th>date_time</th>\n",
       "      <th></th>\n",
       "      <th></th>\n",
       "      <th></th>\n",
       "    </tr>\n",
       "  </thead>\n",
       "  <tbody>\n",
       "    <tr>\n",
       "      <th>2017-01-01 00:00:00</th>\n",
       "      <td>3.9</td>\n",
       "      <td>3.9</td>\n",
       "      <td>0.0</td>\n",
       "    </tr>\n",
       "    <tr>\n",
       "      <th>2017-01-01 01:00:00</th>\n",
       "      <td>4.4</td>\n",
       "      <td>4.4</td>\n",
       "      <td>0.0</td>\n",
       "    </tr>\n",
       "    <tr>\n",
       "      <th>2017-01-01 02:00:00</th>\n",
       "      <td>5.0</td>\n",
       "      <td>5.0</td>\n",
       "      <td>1.0</td>\n",
       "    </tr>\n",
       "    <tr>\n",
       "      <th>2017-01-01 03:00:00</th>\n",
       "      <td>5.0</td>\n",
       "      <td>5.0</td>\n",
       "      <td>1.0</td>\n",
       "    </tr>\n",
       "    <tr>\n",
       "      <th>2017-01-01 04:00:00</th>\n",
       "      <td>5.0</td>\n",
       "      <td>4.4</td>\n",
       "      <td>1.0</td>\n",
       "    </tr>\n",
       "    <tr>\n",
       "      <th>...</th>\n",
       "      <td>...</td>\n",
       "      <td>...</td>\n",
       "      <td>...</td>\n",
       "    </tr>\n",
       "    <tr>\n",
       "      <th>2017-12-31 19:00:00</th>\n",
       "      <td>-11.1</td>\n",
       "      <td>-11.1</td>\n",
       "      <td>0.0</td>\n",
       "    </tr>\n",
       "    <tr>\n",
       "      <th>2017-12-31 20:00:00</th>\n",
       "      <td>-10.6</td>\n",
       "      <td>-10.6</td>\n",
       "      <td>0.0</td>\n",
       "    </tr>\n",
       "    <tr>\n",
       "      <th>2017-12-31 21:00:00</th>\n",
       "      <td>-11.1</td>\n",
       "      <td>-11.1</td>\n",
       "      <td>0.0</td>\n",
       "    </tr>\n",
       "    <tr>\n",
       "      <th>2017-12-31 22:00:00</th>\n",
       "      <td>-11.7</td>\n",
       "      <td>-11.7</td>\n",
       "      <td>0.0</td>\n",
       "    </tr>\n",
       "    <tr>\n",
       "      <th>2017-12-31 23:00:00</th>\n",
       "      <td>-11.1</td>\n",
       "      <td>-11.1</td>\n",
       "      <td>0.0</td>\n",
       "    </tr>\n",
       "  </tbody>\n",
       "</table>\n",
       "<p>8760 rows × 3 columns</p>\n",
       "</div>"
      ],
      "text/plain": [
       "                     max_temp  min_temp  precip\n",
       "date_time                                      \n",
       "2017-01-01 00:00:00       3.9       3.9     0.0\n",
       "2017-01-01 01:00:00       4.4       4.4     0.0\n",
       "2017-01-01 02:00:00       5.0       5.0     1.0\n",
       "2017-01-01 03:00:00       5.0       5.0     1.0\n",
       "2017-01-01 04:00:00       5.0       4.4     1.0\n",
       "...                       ...       ...     ...\n",
       "2017-12-31 19:00:00     -11.1     -11.1     0.0\n",
       "2017-12-31 20:00:00     -10.6     -10.6     0.0\n",
       "2017-12-31 21:00:00     -11.1     -11.1     0.0\n",
       "2017-12-31 22:00:00     -11.7     -11.7     0.0\n",
       "2017-12-31 23:00:00     -11.1     -11.1     0.0\n",
       "\n",
       "[8760 rows x 3 columns]"
      ]
     },
     "execution_count": 8,
     "metadata": {},
     "output_type": "execute_result"
    }
   ],
   "source": [
    "weather_data\n"
   ]
  },
  {
   "cell_type": "markdown",
   "metadata": {},
   "source": [
    "## Join trip data with weather data\n"
   ]
  },
  {
   "cell_type": "code",
   "execution_count": 9,
   "metadata": {},
   "outputs": [
    {
     "data": {
      "text/html": [
       "<div>\n",
       "<style scoped>\n",
       "    .dataframe tbody tr th:only-of-type {\n",
       "        vertical-align: middle;\n",
       "    }\n",
       "\n",
       "    .dataframe tbody tr th {\n",
       "        vertical-align: top;\n",
       "    }\n",
       "\n",
       "    .dataframe thead th {\n",
       "        text-align: right;\n",
       "    }\n",
       "</style>\n",
       "<table border=\"1\" class=\"dataframe\">\n",
       "  <thead>\n",
       "    <tr style=\"text-align: right;\">\n",
       "      <th></th>\n",
       "      <th>max_temp</th>\n",
       "      <th>min_temp</th>\n",
       "      <th>precip</th>\n",
       "      <th>rides_counted</th>\n",
       "    </tr>\n",
       "  </thead>\n",
       "  <tbody>\n",
       "    <tr>\n",
       "      <th>2017-01-01 00:00:00</th>\n",
       "      <td>3.9</td>\n",
       "      <td>3.9</td>\n",
       "      <td>0.0</td>\n",
       "      <td>13.0</td>\n",
       "    </tr>\n",
       "    <tr>\n",
       "      <th>2017-01-01 01:00:00</th>\n",
       "      <td>4.4</td>\n",
       "      <td>4.4</td>\n",
       "      <td>0.0</td>\n",
       "      <td>7.0</td>\n",
       "    </tr>\n",
       "    <tr>\n",
       "      <th>2017-01-01 02:00:00</th>\n",
       "      <td>5.0</td>\n",
       "      <td>5.0</td>\n",
       "      <td>1.0</td>\n",
       "      <td>4.0</td>\n",
       "    </tr>\n",
       "    <tr>\n",
       "      <th>2017-01-01 03:00:00</th>\n",
       "      <td>5.0</td>\n",
       "      <td>5.0</td>\n",
       "      <td>1.0</td>\n",
       "      <td>2.0</td>\n",
       "    </tr>\n",
       "    <tr>\n",
       "      <th>2017-01-01 04:00:00</th>\n",
       "      <td>5.0</td>\n",
       "      <td>4.4</td>\n",
       "      <td>1.0</td>\n",
       "      <td>6.0</td>\n",
       "    </tr>\n",
       "    <tr>\n",
       "      <th>...</th>\n",
       "      <td>...</td>\n",
       "      <td>...</td>\n",
       "      <td>...</td>\n",
       "      <td>...</td>\n",
       "    </tr>\n",
       "    <tr>\n",
       "      <th>2017-12-31 19:00:00</th>\n",
       "      <td>-11.1</td>\n",
       "      <td>-11.1</td>\n",
       "      <td>0.0</td>\n",
       "      <td>6.0</td>\n",
       "    </tr>\n",
       "    <tr>\n",
       "      <th>2017-12-31 20:00:00</th>\n",
       "      <td>-10.6</td>\n",
       "      <td>-10.6</td>\n",
       "      <td>0.0</td>\n",
       "      <td>5.0</td>\n",
       "    </tr>\n",
       "    <tr>\n",
       "      <th>2017-12-31 21:00:00</th>\n",
       "      <td>-11.1</td>\n",
       "      <td>-11.1</td>\n",
       "      <td>0.0</td>\n",
       "      <td>3.0</td>\n",
       "    </tr>\n",
       "    <tr>\n",
       "      <th>2017-12-31 22:00:00</th>\n",
       "      <td>-11.7</td>\n",
       "      <td>-11.7</td>\n",
       "      <td>0.0</td>\n",
       "      <td>7.0</td>\n",
       "    </tr>\n",
       "    <tr>\n",
       "      <th>2017-12-31 23:00:00</th>\n",
       "      <td>-11.1</td>\n",
       "      <td>-11.1</td>\n",
       "      <td>0.0</td>\n",
       "      <td>2.0</td>\n",
       "    </tr>\n",
       "  </tbody>\n",
       "</table>\n",
       "<p>8760 rows × 4 columns</p>\n",
       "</div>"
      ],
      "text/plain": [
       "                     max_temp  min_temp  precip  rides_counted\n",
       "2017-01-01 00:00:00       3.9       3.9     0.0           13.0\n",
       "2017-01-01 01:00:00       4.4       4.4     0.0            7.0\n",
       "2017-01-01 02:00:00       5.0       5.0     1.0            4.0\n",
       "2017-01-01 03:00:00       5.0       5.0     1.0            2.0\n",
       "2017-01-01 04:00:00       5.0       4.4     1.0            6.0\n",
       "...                       ...       ...     ...            ...\n",
       "2017-12-31 19:00:00     -11.1     -11.1     0.0            6.0\n",
       "2017-12-31 20:00:00     -10.6     -10.6     0.0            5.0\n",
       "2017-12-31 21:00:00     -11.1     -11.1     0.0            3.0\n",
       "2017-12-31 22:00:00     -11.7     -11.7     0.0            7.0\n",
       "2017-12-31 23:00:00     -11.1     -11.1     0.0            2.0\n",
       "\n",
       "[8760 rows x 4 columns]"
      ]
     },
     "execution_count": 9,
     "metadata": {},
     "output_type": "execute_result"
    }
   ],
   "source": [
    "data = weather_data.join(data, how=\"outer\")\n",
    "data[\"rides_counted\"] = data[\"rides_counted\"].fillna(0)\n",
    "data\n"
   ]
  },
  {
   "cell_type": "code",
   "execution_count": 10,
   "metadata": {},
   "outputs": [],
   "source": [
    "data['dayofweek'] = data.index.dayofweek\n",
    "\n",
    "data['month'] = data.index.month\n",
    "\n",
    "data['hour'] = data.index.hour\n"
   ]
  },
  {
   "cell_type": "markdown",
   "metadata": {},
   "source": [
    "### add is_holiday_or_weekend column\n"
   ]
  },
  {
   "cell_type": "code",
   "execution_count": 11,
   "metadata": {},
   "outputs": [],
   "source": [
    "from datetime import date as date\n",
    "\n",
    "new_year = date(2018, 1, 1)\n",
    "martin_luther_king_day = date(2018, 1, 15)\n",
    "president_day = date(2018, 2, 19)\n",
    "memorial_day = date(2018, 5, 28)\n",
    "independece_day = date(2018, 7, 4)\n",
    "labor_day = date(2018, 9, 3)\n",
    "columbus_day = date(2018, 10, 8)\n",
    "veterans_day = date(2018, 11, 12)\n",
    "thanksgiving = date(2018, 11, 22)\n",
    "christmas = date(2018, 12, 25)\n",
    "holidays = [new_year, martin_luther_king_day, president_day, memorial_day,\n",
    "            independece_day, labor_day, columbus_day, veterans_day, thanksgiving, christmas]\n"
   ]
  },
  {
   "cell_type": "code",
   "execution_count": 12,
   "metadata": {},
   "outputs": [],
   "source": [
    "y = np.isin(data.index.date, holidays)\n",
    "x = data[\"dayofweek\"] >= 5\n",
    "data[\"is_holiday_or_weekend\"] = y | x\n"
   ]
  },
  {
   "cell_type": "code",
   "execution_count": 13,
   "metadata": {},
   "outputs": [
    {
     "data": {
      "text/html": [
       "<div>\n",
       "<style scoped>\n",
       "    .dataframe tbody tr th:only-of-type {\n",
       "        vertical-align: middle;\n",
       "    }\n",
       "\n",
       "    .dataframe tbody tr th {\n",
       "        vertical-align: top;\n",
       "    }\n",
       "\n",
       "    .dataframe thead th {\n",
       "        text-align: right;\n",
       "    }\n",
       "</style>\n",
       "<table border=\"1\" class=\"dataframe\">\n",
       "  <thead>\n",
       "    <tr style=\"text-align: right;\">\n",
       "      <th></th>\n",
       "      <th>max_temp</th>\n",
       "      <th>min_temp</th>\n",
       "      <th>precip</th>\n",
       "      <th>rides_counted</th>\n",
       "      <th>dayofweek</th>\n",
       "      <th>month</th>\n",
       "      <th>hour</th>\n",
       "      <th>is_holiday_or_weekend</th>\n",
       "    </tr>\n",
       "  </thead>\n",
       "  <tbody>\n",
       "  </tbody>\n",
       "</table>\n",
       "</div>"
      ],
      "text/plain": [
       "Empty DataFrame\n",
       "Columns: [max_temp, min_temp, precip, rides_counted, dayofweek, month, hour, is_holiday_or_weekend]\n",
       "Index: []"
      ]
     },
     "execution_count": 13,
     "metadata": {},
     "output_type": "execute_result"
    }
   ],
   "source": [
    "data[data.index >= dt.datetime(2018, 1, 1, 0)]\n"
   ]
  },
  {
   "cell_type": "code",
   "execution_count": 14,
   "metadata": {},
   "outputs": [
    {
     "data": {
      "text/html": [
       "<div>\n",
       "<style scoped>\n",
       "    .dataframe tbody tr th:only-of-type {\n",
       "        vertical-align: middle;\n",
       "    }\n",
       "\n",
       "    .dataframe tbody tr th {\n",
       "        vertical-align: top;\n",
       "    }\n",
       "\n",
       "    .dataframe thead th {\n",
       "        text-align: right;\n",
       "    }\n",
       "</style>\n",
       "<table border=\"1\" class=\"dataframe\">\n",
       "  <thead>\n",
       "    <tr style=\"text-align: right;\">\n",
       "      <th></th>\n",
       "      <th>max_temp</th>\n",
       "      <th>min_temp</th>\n",
       "      <th>precip</th>\n",
       "      <th>rides_counted</th>\n",
       "      <th>dayofweek</th>\n",
       "      <th>month</th>\n",
       "      <th>hour</th>\n",
       "      <th>is_holiday_or_weekend</th>\n",
       "    </tr>\n",
       "  </thead>\n",
       "  <tbody>\n",
       "    <tr>\n",
       "      <th>2017-01-01 00:00:00</th>\n",
       "      <td>3.9</td>\n",
       "      <td>3.9</td>\n",
       "      <td>0.0</td>\n",
       "      <td>13.0</td>\n",
       "      <td>6</td>\n",
       "      <td>1</td>\n",
       "      <td>0</td>\n",
       "      <td>True</td>\n",
       "    </tr>\n",
       "    <tr>\n",
       "      <th>2017-01-01 01:00:00</th>\n",
       "      <td>4.4</td>\n",
       "      <td>4.4</td>\n",
       "      <td>0.0</td>\n",
       "      <td>7.0</td>\n",
       "      <td>6</td>\n",
       "      <td>1</td>\n",
       "      <td>1</td>\n",
       "      <td>True</td>\n",
       "    </tr>\n",
       "    <tr>\n",
       "      <th>2017-01-01 02:00:00</th>\n",
       "      <td>5.0</td>\n",
       "      <td>5.0</td>\n",
       "      <td>1.0</td>\n",
       "      <td>4.0</td>\n",
       "      <td>6</td>\n",
       "      <td>1</td>\n",
       "      <td>2</td>\n",
       "      <td>True</td>\n",
       "    </tr>\n",
       "    <tr>\n",
       "      <th>2017-01-01 03:00:00</th>\n",
       "      <td>5.0</td>\n",
       "      <td>5.0</td>\n",
       "      <td>1.0</td>\n",
       "      <td>2.0</td>\n",
       "      <td>6</td>\n",
       "      <td>1</td>\n",
       "      <td>3</td>\n",
       "      <td>True</td>\n",
       "    </tr>\n",
       "    <tr>\n",
       "      <th>2017-01-01 04:00:00</th>\n",
       "      <td>5.0</td>\n",
       "      <td>4.4</td>\n",
       "      <td>1.0</td>\n",
       "      <td>6.0</td>\n",
       "      <td>6</td>\n",
       "      <td>1</td>\n",
       "      <td>4</td>\n",
       "      <td>True</td>\n",
       "    </tr>\n",
       "    <tr>\n",
       "      <th>...</th>\n",
       "      <td>...</td>\n",
       "      <td>...</td>\n",
       "      <td>...</td>\n",
       "      <td>...</td>\n",
       "      <td>...</td>\n",
       "      <td>...</td>\n",
       "      <td>...</td>\n",
       "      <td>...</td>\n",
       "    </tr>\n",
       "    <tr>\n",
       "      <th>2017-12-31 19:00:00</th>\n",
       "      <td>-11.1</td>\n",
       "      <td>-11.1</td>\n",
       "      <td>0.0</td>\n",
       "      <td>6.0</td>\n",
       "      <td>6</td>\n",
       "      <td>12</td>\n",
       "      <td>19</td>\n",
       "      <td>True</td>\n",
       "    </tr>\n",
       "    <tr>\n",
       "      <th>2017-12-31 20:00:00</th>\n",
       "      <td>-10.6</td>\n",
       "      <td>-10.6</td>\n",
       "      <td>0.0</td>\n",
       "      <td>5.0</td>\n",
       "      <td>6</td>\n",
       "      <td>12</td>\n",
       "      <td>20</td>\n",
       "      <td>True</td>\n",
       "    </tr>\n",
       "    <tr>\n",
       "      <th>2017-12-31 21:00:00</th>\n",
       "      <td>-11.1</td>\n",
       "      <td>-11.1</td>\n",
       "      <td>0.0</td>\n",
       "      <td>3.0</td>\n",
       "      <td>6</td>\n",
       "      <td>12</td>\n",
       "      <td>21</td>\n",
       "      <td>True</td>\n",
       "    </tr>\n",
       "    <tr>\n",
       "      <th>2017-12-31 22:00:00</th>\n",
       "      <td>-11.7</td>\n",
       "      <td>-11.7</td>\n",
       "      <td>0.0</td>\n",
       "      <td>7.0</td>\n",
       "      <td>6</td>\n",
       "      <td>12</td>\n",
       "      <td>22</td>\n",
       "      <td>True</td>\n",
       "    </tr>\n",
       "    <tr>\n",
       "      <th>2017-12-31 23:00:00</th>\n",
       "      <td>-11.1</td>\n",
       "      <td>-11.1</td>\n",
       "      <td>0.0</td>\n",
       "      <td>2.0</td>\n",
       "      <td>6</td>\n",
       "      <td>12</td>\n",
       "      <td>23</td>\n",
       "      <td>True</td>\n",
       "    </tr>\n",
       "  </tbody>\n",
       "</table>\n",
       "<p>8760 rows × 8 columns</p>\n",
       "</div>"
      ],
      "text/plain": [
       "                     max_temp  min_temp  precip  rides_counted  dayofweek  \\\n",
       "2017-01-01 00:00:00       3.9       3.9     0.0           13.0          6   \n",
       "2017-01-01 01:00:00       4.4       4.4     0.0            7.0          6   \n",
       "2017-01-01 02:00:00       5.0       5.0     1.0            4.0          6   \n",
       "2017-01-01 03:00:00       5.0       5.0     1.0            2.0          6   \n",
       "2017-01-01 04:00:00       5.0       4.4     1.0            6.0          6   \n",
       "...                       ...       ...     ...            ...        ...   \n",
       "2017-12-31 19:00:00     -11.1     -11.1     0.0            6.0          6   \n",
       "2017-12-31 20:00:00     -10.6     -10.6     0.0            5.0          6   \n",
       "2017-12-31 21:00:00     -11.1     -11.1     0.0            3.0          6   \n",
       "2017-12-31 22:00:00     -11.7     -11.7     0.0            7.0          6   \n",
       "2017-12-31 23:00:00     -11.1     -11.1     0.0            2.0          6   \n",
       "\n",
       "                     month  hour  is_holiday_or_weekend  \n",
       "2017-01-01 00:00:00      1     0                   True  \n",
       "2017-01-01 01:00:00      1     1                   True  \n",
       "2017-01-01 02:00:00      1     2                   True  \n",
       "2017-01-01 03:00:00      1     3                   True  \n",
       "2017-01-01 04:00:00      1     4                   True  \n",
       "...                    ...   ...                    ...  \n",
       "2017-12-31 19:00:00     12    19                   True  \n",
       "2017-12-31 20:00:00     12    20                   True  \n",
       "2017-12-31 21:00:00     12    21                   True  \n",
       "2017-12-31 22:00:00     12    22                   True  \n",
       "2017-12-31 23:00:00     12    23                   True  \n",
       "\n",
       "[8760 rows x 8 columns]"
      ]
     },
     "execution_count": 14,
     "metadata": {},
     "output_type": "execute_result"
    }
   ],
   "source": [
    "data\n"
   ]
  },
  {
   "cell_type": "markdown",
   "metadata": {},
   "source": [
    "# Prediction Models\n"
   ]
  },
  {
   "cell_type": "markdown",
   "metadata": {},
   "source": [
    "## ARIMA\n"
   ]
  },
  {
   "cell_type": "code",
   "execution_count": 15,
   "metadata": {},
   "outputs": [],
   "source": [
    "import numpy as np\n",
    "import matplotlib.pylab as plt\n",
    "%matplotlib inline\n",
    "\n",
    "from matplotlib.pylab import rcParams\n",
    "rcParams['figure.figsize'] = 12,10\n"
   ]
  },
  {
   "cell_type": "code",
   "execution_count": 16,
   "metadata": {},
   "outputs": [
    {
     "data": {
      "text/html": [
       "<div>\n",
       "<style scoped>\n",
       "    .dataframe tbody tr th:only-of-type {\n",
       "        vertical-align: middle;\n",
       "    }\n",
       "\n",
       "    .dataframe tbody tr th {\n",
       "        vertical-align: top;\n",
       "    }\n",
       "\n",
       "    .dataframe thead th {\n",
       "        text-align: right;\n",
       "    }\n",
       "</style>\n",
       "<table border=\"1\" class=\"dataframe\">\n",
       "  <thead>\n",
       "    <tr style=\"text-align: right;\">\n",
       "      <th></th>\n",
       "      <th>rides_counted</th>\n",
       "    </tr>\n",
       "    <tr>\n",
       "      <th>time_stamp</th>\n",
       "      <th></th>\n",
       "    </tr>\n",
       "  </thead>\n",
       "  <tbody>\n",
       "    <tr>\n",
       "      <th>2017-01-01 00:00:00</th>\n",
       "      <td>13.0</td>\n",
       "    </tr>\n",
       "    <tr>\n",
       "      <th>2017-01-01 01:00:00</th>\n",
       "      <td>7.0</td>\n",
       "    </tr>\n",
       "    <tr>\n",
       "      <th>2017-01-01 02:00:00</th>\n",
       "      <td>4.0</td>\n",
       "    </tr>\n",
       "    <tr>\n",
       "      <th>2017-01-01 03:00:00</th>\n",
       "      <td>2.0</td>\n",
       "    </tr>\n",
       "    <tr>\n",
       "      <th>2017-01-01 04:00:00</th>\n",
       "      <td>6.0</td>\n",
       "    </tr>\n",
       "    <tr>\n",
       "      <th>...</th>\n",
       "      <td>...</td>\n",
       "    </tr>\n",
       "    <tr>\n",
       "      <th>2017-12-31 19:00:00</th>\n",
       "      <td>6.0</td>\n",
       "    </tr>\n",
       "    <tr>\n",
       "      <th>2017-12-31 20:00:00</th>\n",
       "      <td>5.0</td>\n",
       "    </tr>\n",
       "    <tr>\n",
       "      <th>2017-12-31 21:00:00</th>\n",
       "      <td>3.0</td>\n",
       "    </tr>\n",
       "    <tr>\n",
       "      <th>2017-12-31 22:00:00</th>\n",
       "      <td>7.0</td>\n",
       "    </tr>\n",
       "    <tr>\n",
       "      <th>2017-12-31 23:00:00</th>\n",
       "      <td>2.0</td>\n",
       "    </tr>\n",
       "  </tbody>\n",
       "</table>\n",
       "<p>8760 rows × 1 columns</p>\n",
       "</div>"
      ],
      "text/plain": [
       "                     rides_counted\n",
       "time_stamp                        \n",
       "2017-01-01 00:00:00           13.0\n",
       "2017-01-01 01:00:00            7.0\n",
       "2017-01-01 02:00:00            4.0\n",
       "2017-01-01 03:00:00            2.0\n",
       "2017-01-01 04:00:00            6.0\n",
       "...                            ...\n",
       "2017-12-31 19:00:00            6.0\n",
       "2017-12-31 20:00:00            5.0\n",
       "2017-12-31 21:00:00            3.0\n",
       "2017-12-31 22:00:00            7.0\n",
       "2017-12-31 23:00:00            2.0\n",
       "\n",
       "[8760 rows x 1 columns]"
      ]
     },
     "execution_count": 16,
     "metadata": {},
     "output_type": "execute_result"
    }
   ],
   "source": [
    "arimaData = data\n",
    "arimaData = pd.DataFrame(arimaData[\"rides_counted\"])\n",
    "arimaData.index.name = \"time_stamp\"\n",
    "\n",
    "fullArimaData = arimaData\n",
    "# define train and test split\n",
    "# test data (data to predict) is data from 2018\n",
    "testArimaData = arimaData.tail(8760)\n",
    "# training data is data from 2016 & 2017\n",
    "arimaData = arimaData.head(17544)\n",
    "\n",
    "\n",
    "testArimaData\n"
   ]
  },
  {
   "cell_type": "code",
   "execution_count": 17,
   "metadata": {},
   "outputs": [
    {
     "data": {
      "text/html": [
       "<div>\n",
       "<style scoped>\n",
       "    .dataframe tbody tr th:only-of-type {\n",
       "        vertical-align: middle;\n",
       "    }\n",
       "\n",
       "    .dataframe tbody tr th {\n",
       "        vertical-align: top;\n",
       "    }\n",
       "\n",
       "    .dataframe thead th {\n",
       "        text-align: right;\n",
       "    }\n",
       "</style>\n",
       "<table border=\"1\" class=\"dataframe\">\n",
       "  <thead>\n",
       "    <tr style=\"text-align: right;\">\n",
       "      <th></th>\n",
       "      <th>max_temp</th>\n",
       "      <th>min_temp</th>\n",
       "      <th>precip</th>\n",
       "      <th>rides_counted</th>\n",
       "      <th>dayofweek</th>\n",
       "      <th>month</th>\n",
       "      <th>hour</th>\n",
       "      <th>is_holiday_or_weekend</th>\n",
       "    </tr>\n",
       "    <tr>\n",
       "      <th>time_stamp</th>\n",
       "      <th></th>\n",
       "      <th></th>\n",
       "      <th></th>\n",
       "      <th></th>\n",
       "      <th></th>\n",
       "      <th></th>\n",
       "      <th></th>\n",
       "      <th></th>\n",
       "    </tr>\n",
       "  </thead>\n",
       "  <tbody>\n",
       "    <tr>\n",
       "      <th>2017-01-01 00:00:00</th>\n",
       "      <td>3.9</td>\n",
       "      <td>3.9</td>\n",
       "      <td>0.0</td>\n",
       "      <td>13.0</td>\n",
       "      <td>6</td>\n",
       "      <td>1</td>\n",
       "      <td>0</td>\n",
       "      <td>True</td>\n",
       "    </tr>\n",
       "    <tr>\n",
       "      <th>2017-01-01 01:00:00</th>\n",
       "      <td>4.4</td>\n",
       "      <td>4.4</td>\n",
       "      <td>0.0</td>\n",
       "      <td>7.0</td>\n",
       "      <td>6</td>\n",
       "      <td>1</td>\n",
       "      <td>1</td>\n",
       "      <td>True</td>\n",
       "    </tr>\n",
       "    <tr>\n",
       "      <th>2017-01-01 02:00:00</th>\n",
       "      <td>5.0</td>\n",
       "      <td>5.0</td>\n",
       "      <td>1.0</td>\n",
       "      <td>4.0</td>\n",
       "      <td>6</td>\n",
       "      <td>1</td>\n",
       "      <td>2</td>\n",
       "      <td>True</td>\n",
       "    </tr>\n",
       "    <tr>\n",
       "      <th>2017-01-01 03:00:00</th>\n",
       "      <td>5.0</td>\n",
       "      <td>5.0</td>\n",
       "      <td>1.0</td>\n",
       "      <td>2.0</td>\n",
       "      <td>6</td>\n",
       "      <td>1</td>\n",
       "      <td>3</td>\n",
       "      <td>True</td>\n",
       "    </tr>\n",
       "    <tr>\n",
       "      <th>2017-01-01 04:00:00</th>\n",
       "      <td>5.0</td>\n",
       "      <td>4.4</td>\n",
       "      <td>1.0</td>\n",
       "      <td>6.0</td>\n",
       "      <td>6</td>\n",
       "      <td>1</td>\n",
       "      <td>4</td>\n",
       "      <td>True</td>\n",
       "    </tr>\n",
       "    <tr>\n",
       "      <th>...</th>\n",
       "      <td>...</td>\n",
       "      <td>...</td>\n",
       "      <td>...</td>\n",
       "      <td>...</td>\n",
       "      <td>...</td>\n",
       "      <td>...</td>\n",
       "      <td>...</td>\n",
       "      <td>...</td>\n",
       "    </tr>\n",
       "    <tr>\n",
       "      <th>2017-12-31 19:00:00</th>\n",
       "      <td>-11.1</td>\n",
       "      <td>-11.1</td>\n",
       "      <td>0.0</td>\n",
       "      <td>6.0</td>\n",
       "      <td>6</td>\n",
       "      <td>12</td>\n",
       "      <td>19</td>\n",
       "      <td>True</td>\n",
       "    </tr>\n",
       "    <tr>\n",
       "      <th>2017-12-31 20:00:00</th>\n",
       "      <td>-10.6</td>\n",
       "      <td>-10.6</td>\n",
       "      <td>0.0</td>\n",
       "      <td>5.0</td>\n",
       "      <td>6</td>\n",
       "      <td>12</td>\n",
       "      <td>20</td>\n",
       "      <td>True</td>\n",
       "    </tr>\n",
       "    <tr>\n",
       "      <th>2017-12-31 21:00:00</th>\n",
       "      <td>-11.1</td>\n",
       "      <td>-11.1</td>\n",
       "      <td>0.0</td>\n",
       "      <td>3.0</td>\n",
       "      <td>6</td>\n",
       "      <td>12</td>\n",
       "      <td>21</td>\n",
       "      <td>True</td>\n",
       "    </tr>\n",
       "    <tr>\n",
       "      <th>2017-12-31 22:00:00</th>\n",
       "      <td>-11.7</td>\n",
       "      <td>-11.7</td>\n",
       "      <td>0.0</td>\n",
       "      <td>7.0</td>\n",
       "      <td>6</td>\n",
       "      <td>12</td>\n",
       "      <td>22</td>\n",
       "      <td>True</td>\n",
       "    </tr>\n",
       "    <tr>\n",
       "      <th>2017-12-31 23:00:00</th>\n",
       "      <td>-11.1</td>\n",
       "      <td>-11.1</td>\n",
       "      <td>0.0</td>\n",
       "      <td>2.0</td>\n",
       "      <td>6</td>\n",
       "      <td>12</td>\n",
       "      <td>23</td>\n",
       "      <td>True</td>\n",
       "    </tr>\n",
       "  </tbody>\n",
       "</table>\n",
       "<p>8760 rows × 8 columns</p>\n",
       "</div>"
      ],
      "text/plain": [
       "                     max_temp  min_temp  precip  rides_counted  dayofweek  \\\n",
       "time_stamp                                                                  \n",
       "2017-01-01 00:00:00       3.9       3.9     0.0           13.0          6   \n",
       "2017-01-01 01:00:00       4.4       4.4     0.0            7.0          6   \n",
       "2017-01-01 02:00:00       5.0       5.0     1.0            4.0          6   \n",
       "2017-01-01 03:00:00       5.0       5.0     1.0            2.0          6   \n",
       "2017-01-01 04:00:00       5.0       4.4     1.0            6.0          6   \n",
       "...                       ...       ...     ...            ...        ...   \n",
       "2017-12-31 19:00:00     -11.1     -11.1     0.0            6.0          6   \n",
       "2017-12-31 20:00:00     -10.6     -10.6     0.0            5.0          6   \n",
       "2017-12-31 21:00:00     -11.1     -11.1     0.0            3.0          6   \n",
       "2017-12-31 22:00:00     -11.7     -11.7     0.0            7.0          6   \n",
       "2017-12-31 23:00:00     -11.1     -11.1     0.0            2.0          6   \n",
       "\n",
       "                     month  hour  is_holiday_or_weekend  \n",
       "time_stamp                                               \n",
       "2017-01-01 00:00:00      1     0                   True  \n",
       "2017-01-01 01:00:00      1     1                   True  \n",
       "2017-01-01 02:00:00      1     2                   True  \n",
       "2017-01-01 03:00:00      1     3                   True  \n",
       "2017-01-01 04:00:00      1     4                   True  \n",
       "...                    ...   ...                    ...  \n",
       "2017-12-31 19:00:00     12    19                   True  \n",
       "2017-12-31 20:00:00     12    20                   True  \n",
       "2017-12-31 21:00:00     12    21                   True  \n",
       "2017-12-31 22:00:00     12    22                   True  \n",
       "2017-12-31 23:00:00     12    23                   True  \n",
       "\n",
       "[8760 rows x 8 columns]"
      ]
     },
     "execution_count": 17,
     "metadata": {},
     "output_type": "execute_result"
    }
   ],
   "source": [
    "data\n"
   ]
  },
  {
   "cell_type": "code",
   "execution_count": 18,
   "metadata": {},
   "outputs": [
    {
     "data": {
      "text/html": [
       "<div>\n",
       "<style scoped>\n",
       "    .dataframe tbody tr th:only-of-type {\n",
       "        vertical-align: middle;\n",
       "    }\n",
       "\n",
       "    .dataframe tbody tr th {\n",
       "        vertical-align: top;\n",
       "    }\n",
       "\n",
       "    .dataframe thead th {\n",
       "        text-align: right;\n",
       "    }\n",
       "</style>\n",
       "<table border=\"1\" class=\"dataframe\">\n",
       "  <thead>\n",
       "    <tr style=\"text-align: right;\">\n",
       "      <th></th>\n",
       "      <th>rides_counted</th>\n",
       "    </tr>\n",
       "    <tr>\n",
       "      <th>time_stamp</th>\n",
       "      <th></th>\n",
       "    </tr>\n",
       "  </thead>\n",
       "  <tbody>\n",
       "    <tr>\n",
       "      <th>2017-01-01 00:00:00</th>\n",
       "      <td>13.0</td>\n",
       "    </tr>\n",
       "    <tr>\n",
       "      <th>2017-01-01 01:00:00</th>\n",
       "      <td>7.0</td>\n",
       "    </tr>\n",
       "    <tr>\n",
       "      <th>2017-01-01 02:00:00</th>\n",
       "      <td>4.0</td>\n",
       "    </tr>\n",
       "    <tr>\n",
       "      <th>2017-01-01 03:00:00</th>\n",
       "      <td>2.0</td>\n",
       "    </tr>\n",
       "    <tr>\n",
       "      <th>2017-01-01 04:00:00</th>\n",
       "      <td>6.0</td>\n",
       "    </tr>\n",
       "    <tr>\n",
       "      <th>...</th>\n",
       "      <td>...</td>\n",
       "    </tr>\n",
       "    <tr>\n",
       "      <th>2017-12-31 19:00:00</th>\n",
       "      <td>6.0</td>\n",
       "    </tr>\n",
       "    <tr>\n",
       "      <th>2017-12-31 20:00:00</th>\n",
       "      <td>5.0</td>\n",
       "    </tr>\n",
       "    <tr>\n",
       "      <th>2017-12-31 21:00:00</th>\n",
       "      <td>3.0</td>\n",
       "    </tr>\n",
       "    <tr>\n",
       "      <th>2017-12-31 22:00:00</th>\n",
       "      <td>7.0</td>\n",
       "    </tr>\n",
       "    <tr>\n",
       "      <th>2017-12-31 23:00:00</th>\n",
       "      <td>2.0</td>\n",
       "    </tr>\n",
       "  </tbody>\n",
       "</table>\n",
       "<p>8760 rows × 1 columns</p>\n",
       "</div>"
      ],
      "text/plain": [
       "                     rides_counted\n",
       "time_stamp                        \n",
       "2017-01-01 00:00:00           13.0\n",
       "2017-01-01 01:00:00            7.0\n",
       "2017-01-01 02:00:00            4.0\n",
       "2017-01-01 03:00:00            2.0\n",
       "2017-01-01 04:00:00            6.0\n",
       "...                            ...\n",
       "2017-12-31 19:00:00            6.0\n",
       "2017-12-31 20:00:00            5.0\n",
       "2017-12-31 21:00:00            3.0\n",
       "2017-12-31 22:00:00            7.0\n",
       "2017-12-31 23:00:00            2.0\n",
       "\n",
       "[8760 rows x 1 columns]"
      ]
     },
     "execution_count": 18,
     "metadata": {},
     "output_type": "execute_result"
    }
   ],
   "source": [
    "arimaData\n"
   ]
  },
  {
   "cell_type": "code",
   "execution_count": 19,
   "metadata": {},
   "outputs": [
    {
     "data": {
      "text/plain": [
       "<AxesSubplot: xlabel='time_stamp'>"
      ]
     },
     "execution_count": 19,
     "metadata": {},
     "output_type": "execute_result"
    },
    {
     "data": {
      "image/png": "[encoded data removed]",
      "text/plain": [
       "<Figure size 864x720 with 1 Axes>"
      ]
     },
     "metadata": {
      "needs_background": "light"
     },
     "output_type": "display_data"
    }
   ],
   "source": [
    "arimaData.plot(y=\"rides_counted\")\n"
   ]
  },
  {
   "cell_type": "code",
   "execution_count": 20,
   "metadata": {},
   "outputs": [
    {
     "ename": "ModuleNotFoundError",
     "evalue": "No module named 'statsmodels'",
     "output_type": "error",
     "traceback": [
      "\u001b[1;31m---------------------------------------------------------------------------\u001b[0m",
      "\u001b[1;31mModuleNotFoundError\u001b[0m                       Traceback (most recent call last)",
      "\u001b[1;32mc:\\Users\\patri\\Documents\\GitHub\\AA_22_Team_14\\Task 4_Predictive Analytics.ipynb Cell 34\u001b[0m in \u001b[0;36m<cell line: 1>\u001b[1;34m()\u001b[0m\n\u001b[1;32m----> <a href='vscode-notebook-cell:/c%3A/Users/patri/Documents/GitHub/AA_22_Team_14/Task%204_Predictive%20Analytics.ipynb#X45sZmlsZQ%3D%3D?line=0'>1</a>\u001b[0m \u001b[39mfrom\u001b[39;00m \u001b[39mstatsmodels\u001b[39;00m\u001b[39m.\u001b[39;00m\u001b[39mtsa\u001b[39;00m\u001b[39m.\u001b[39;00m\u001b[39mstattools\u001b[39;00m \u001b[39mimport\u001b[39;00m adfuller\n\u001b[0;32m      <a href='vscode-notebook-cell:/c%3A/Users/patri/Documents/GitHub/AA_22_Team_14/Task%204_Predictive%20Analytics.ipynb#X45sZmlsZQ%3D%3D?line=3'>4</a>\u001b[0m \u001b[39mdef\u001b[39;00m \u001b[39mtest_stationarity\u001b[39m(timeseries):\n\u001b[0;32m      <a href='vscode-notebook-cell:/c%3A/Users/patri/Documents/GitHub/AA_22_Team_14/Task%204_Predictive%20Analytics.ipynb#X45sZmlsZQ%3D%3D?line=4'>5</a>\u001b[0m \n\u001b[0;32m      <a href='vscode-notebook-cell:/c%3A/Users/patri/Documents/GitHub/AA_22_Team_14/Task%204_Predictive%20Analytics.ipynb#X45sZmlsZQ%3D%3D?line=5'>6</a>\u001b[0m     \u001b[39m# Determing rolling statistics (168 window => weekly)\u001b[39;00m\n\u001b[0;32m      <a href='vscode-notebook-cell:/c%3A/Users/patri/Documents/GitHub/AA_22_Team_14/Task%204_Predictive%20Analytics.ipynb#X45sZmlsZQ%3D%3D?line=6'>7</a>\u001b[0m     rolmean \u001b[39m=\u001b[39m timeseries\u001b[39m.\u001b[39mrolling(window\u001b[39m=\u001b[39m\u001b[39m168\u001b[39m)\u001b[39m.\u001b[39mmean()\n",
      "\u001b[1;31mModuleNotFoundError\u001b[0m: No module named 'statsmodels'"
     ]
    }
   ],
   "source": [
    "from statsmodels.tsa.stattools import adfuller\n",
    "\n",
    "\n",
    "def test_stationarity(timeseries):\n",
    "\n",
    "    # Determing rolling statistics (168 window => weekly)\n",
    "    rolmean = timeseries.rolling(window=168).mean()\n",
    "    rolstd = timeseries.rolling(window=168).std()\n",
    "\n",
    "    # Plot rolling statistics:\n",
    "    orig = plt.plot(timeseries, color='blue', label='Original')\n",
    "    mean = plt.plot(rolmean, color='red', label='Rolling Mean')\n",
    "    std = plt.plot(rolstd, color='black', label='Rolling Std')\n",
    "    plt.legend(loc='best')\n",
    "    plt.title('Rolling Mean & Standard Deviation')\n",
    "    plt.show(block=False)\n",
    "\n",
    "    # Perform Dickey-Fuller test:\n",
    "    print('Results of Dickey-Fuller Test:\\n')\n",
    "    dftest = adfuller(timeseries)\n",
    "    dfoutput = pd.Series(dftest[0:4], index=[\n",
    "                         'Test Statistic', 'p-value', '#Lags Used', 'Number of Observations Used'])\n",
    "    for key, value in dftest[4].items():\n",
    "        dfoutput['Critical Value (%s)' % key] = value\n",
    "    print(dfoutput)\n"
   ]
  },
  {
   "cell_type": "code",
   "execution_count": null,
   "metadata": {},
   "outputs": [
    {
     "data": {
      "text/plain": [
       "(-7.2273566936970814,\n",
       " 2.0365894048235332e-10,\n",
       " 44,\n",
       " 17499,\n",
       " {'1%': -3.430723750472268,\n",
       "  '5%': -2.8617051832726124,\n",
       "  '10%': -2.5668579227683557},\n",
       " 167199.01623403025)"
      ]
     },
     "execution_count": 104,
     "metadata": {},
     "output_type": "execute_result"
    }
   ],
   "source": [
    "adfuller(arimaData['rides_counted'])\n"
   ]
  },
  {
   "cell_type": "code",
   "execution_count": null,
   "metadata": {},
   "outputs": [
    {
     "data": {
      "image/png": "[encoded data removed]",
      "text/plain": [
       "<Figure size 432x288 with 1 Axes>"
      ]
     },
     "metadata": {
      "needs_background": "light"
     },
     "output_type": "display_data"
    },
    {
     "name": "stdout",
     "output_type": "stream",
     "text": [
      "Results of Dickey-Fuller Test:\n",
      "\n",
      "Test Statistic                -7.227357e+00\n",
      "p-value                        2.036589e-10\n",
      "#Lags Used                     4.400000e+01\n",
      "Number of Observations Used    1.749900e+04\n",
      "Critical Value (1%)           -3.430724e+00\n",
      "Critical Value (5%)           -2.861705e+00\n",
      "Critical Value (10%)          -2.566858e+00\n",
      "dtype: float64\n"
     ]
    }
   ],
   "source": [
    "test_stationarity(arimaData['rides_counted'])\n"
   ]
  },
  {
   "cell_type": "markdown",
   "metadata": {},
   "source": [
    "p value is basically 0, no matter what size of rolling mean/std/number of years in data, so this data seems to be stationary. Overall (yearly) trend does seem to be 0.\n"
   ]
  },
  {
   "cell_type": "code",
   "execution_count": null,
   "metadata": {},
   "outputs": [
    {
     "data": {
      "text/plain": [
       "[<matplotlib.lines.Line2D at 0x242743b4160>]"
      ]
     },
     "execution_count": 106,
     "metadata": {},
     "output_type": "execute_result"
    },
    {
     "data": {
      "image/png": "[encoded data removed]",
      "text/plain": [
       "<Figure size 432x288 with 1 Axes>"
      ]
     },
     "metadata": {
      "needs_background": "light"
     },
     "output_type": "display_data"
    }
   ],
   "source": [
    "moving_avg = arimaData.rolling(168).mean()\n",
    "plt.plot(arimaData)\n",
    "plt.plot(moving_avg, color='red')\n"
   ]
  },
  {
   "cell_type": "markdown",
   "metadata": {},
   "source": [
    "### moving average\n"
   ]
  },
  {
   "cell_type": "code",
   "execution_count": null,
   "metadata": {},
   "outputs": [
    {
     "data": {
      "text/html": [
       "<div>\n",
       "<style scoped>\n",
       "    .dataframe tbody tr th:only-of-type {\n",
       "        vertical-align: middle;\n",
       "    }\n",
       "\n",
       "    .dataframe tbody tr th {\n",
       "        vertical-align: top;\n",
       "    }\n",
       "\n",
       "    .dataframe thead th {\n",
       "        text-align: right;\n",
       "    }\n",
       "</style>\n",
       "<table border=\"1\" class=\"dataframe\">\n",
       "  <thead>\n",
       "    <tr style=\"text-align: right;\">\n",
       "      <th></th>\n",
       "      <th>number_of_trips</th>\n",
       "    </tr>\n",
       "    <tr>\n",
       "      <th>time_stamp</th>\n",
       "      <th></th>\n",
       "    </tr>\n",
       "  </thead>\n",
       "  <tbody>\n",
       "    <tr>\n",
       "      <th>2016-01-07 23:00:00</th>\n",
       "      <td>-16.470238</td>\n",
       "    </tr>\n",
       "    <tr>\n",
       "      <th>2016-01-08 00:00:00</th>\n",
       "      <td>-21.351190</td>\n",
       "    </tr>\n",
       "    <tr>\n",
       "      <th>2016-01-08 01:00:00</th>\n",
       "      <td>-23.136905</td>\n",
       "    </tr>\n",
       "    <tr>\n",
       "      <th>2016-01-08 02:00:00</th>\n",
       "      <td>-26.940476</td>\n",
       "    </tr>\n",
       "    <tr>\n",
       "      <th>2016-01-08 03:00:00</th>\n",
       "      <td>-26.904762</td>\n",
       "    </tr>\n",
       "    <tr>\n",
       "      <th>...</th>\n",
       "      <td>...</td>\n",
       "    </tr>\n",
       "    <tr>\n",
       "      <th>2017-12-31 19:00:00</th>\n",
       "      <td>-3.833333</td>\n",
       "    </tr>\n",
       "    <tr>\n",
       "      <th>2017-12-31 20:00:00</th>\n",
       "      <td>-13.797619</td>\n",
       "    </tr>\n",
       "    <tr>\n",
       "      <th>2017-12-31 21:00:00</th>\n",
       "      <td>-9.815476</td>\n",
       "    </tr>\n",
       "    <tr>\n",
       "      <th>2017-12-31 22:00:00</th>\n",
       "      <td>-7.857143</td>\n",
       "    </tr>\n",
       "    <tr>\n",
       "      <th>2017-12-31 23:00:00</th>\n",
       "      <td>-11.863095</td>\n",
       "    </tr>\n",
       "  </tbody>\n",
       "</table>\n",
       "<p>17377 rows × 1 columns</p>\n",
       "</div>"
      ],
      "text/plain": [
       "                     number_of_trips\n",
       "time_stamp                          \n",
       "2016-01-07 23:00:00       -16.470238\n",
       "2016-01-08 00:00:00       -21.351190\n",
       "2016-01-08 01:00:00       -23.136905\n",
       "2016-01-08 02:00:00       -26.940476\n",
       "2016-01-08 03:00:00       -26.904762\n",
       "...                              ...\n",
       "2017-12-31 19:00:00        -3.833333\n",
       "2017-12-31 20:00:00       -13.797619\n",
       "2017-12-31 21:00:00        -9.815476\n",
       "2017-12-31 22:00:00        -7.857143\n",
       "2017-12-31 23:00:00       -11.863095\n",
       "\n",
       "[17377 rows x 1 columns]"
      ]
     },
     "execution_count": 107,
     "metadata": {},
     "output_type": "execute_result"
    }
   ],
   "source": [
    "moving_avg_diff = arimaData - moving_avg\n",
    "moving_avg_diff.dropna(inplace=True)\n",
    "moving_avg_diff\n"
   ]
  },
  {
   "cell_type": "code",
   "execution_count": null,
   "metadata": {},
   "outputs": [
    {
     "data": {
      "image/png": "[encoded data removed]",
      "text/plain": [
       "<Figure size 432x288 with 1 Axes>"
      ]
     },
     "metadata": {
      "needs_background": "light"
     },
     "output_type": "display_data"
    },
    {
     "name": "stdout",
     "output_type": "stream",
     "text": [
      "Results of Dickey-Fuller Test:\n",
      "\n",
      "Test Statistic                -1.666078e+01\n",
      "p-value                        1.574821e-29\n",
      "#Lags Used                     4.200000e+01\n",
      "Number of Observations Used    1.733400e+04\n",
      "Critical Value (1%)           -3.430727e+00\n",
      "Critical Value (5%)           -2.861707e+00\n",
      "Critical Value (10%)          -2.566859e+00\n",
      "dtype: float64\n"
     ]
    }
   ],
   "source": [
    "test_stationarity(moving_avg_diff)\n"
   ]
  },
  {
   "cell_type": "markdown",
   "metadata": {},
   "source": [
    "test statistic is now even lower, leading to a p-value of 0\n"
   ]
  },
  {
   "cell_type": "markdown",
   "metadata": {},
   "source": [
    "### weighted moving average\n"
   ]
  },
  {
   "cell_type": "code",
   "execution_count": null,
   "metadata": {},
   "outputs": [
    {
     "data": {
      "text/plain": [
       "[<matplotlib.lines.Line2D at 0x24244601d20>]"
      ]
     },
     "execution_count": 109,
     "metadata": {},
     "output_type": "execute_result"
    },
    {
     "data": {
      "image/png": "[encoded data removed]",
      "text/plain": [
       "<Figure size 432x288 with 1 Axes>"
      ]
     },
     "metadata": {
      "needs_background": "light"
     },
     "output_type": "display_data"
    }
   ],
   "source": [
    "# Provides exponential weighted functions\n",
    "expwighted_avg = arimaData.ewm(halflife=168).mean()\n",
    "plt.plot(arimaData)\n",
    "plt.plot(expwighted_avg, color='red')\n"
   ]
  },
  {
   "cell_type": "code",
   "execution_count": null,
   "metadata": {},
   "outputs": [
    {
     "data": {
      "image/png": "[encoded data removed]",
      "text/plain": [
       "<Figure size 432x288 with 1 Axes>"
      ]
     },
     "metadata": {
      "needs_background": "light"
     },
     "output_type": "display_data"
    },
    {
     "name": "stdout",
     "output_type": "stream",
     "text": [
      "Results of Dickey-Fuller Test:\n",
      "\n",
      "Test Statistic                -1.508228e+01\n",
      "p-value                        8.421029e-28\n",
      "#Lags Used                     4.400000e+01\n",
      "Number of Observations Used    1.749900e+04\n",
      "Critical Value (1%)           -3.430724e+00\n",
      "Critical Value (5%)           -2.861705e+00\n",
      "Critical Value (10%)          -2.566858e+00\n",
      "dtype: float64\n"
     ]
    }
   ],
   "source": [
    "ewma_diff = arimaData - expwighted_avg\n",
    "test_stationarity(ewma_diff)\n"
   ]
  },
  {
   "cell_type": "markdown",
   "metadata": {},
   "source": [
    "results are slightly worse than \"normal\" moving average, but p value is still 0\n"
   ]
  },
  {
   "cell_type": "markdown",
   "metadata": {},
   "source": [
    "### differencing\n"
   ]
  },
  {
   "cell_type": "code",
   "execution_count": null,
   "metadata": {},
   "outputs": [
    {
     "data": {
      "text/plain": [
       "[<matplotlib.lines.Line2D at 0x2426d252e60>]"
      ]
     },
     "execution_count": 111,
     "metadata": {},
     "output_type": "execute_result"
    },
    {
     "data": {
      "image/png": "[encoded data removed]",
      "text/plain": [
       "<Figure size 432x288 with 1 Axes>"
      ]
     },
     "metadata": {
      "needs_background": "light"
     },
     "output_type": "display_data"
    }
   ],
   "source": [
    "diff = arimaData - arimaData.shift()\n",
    "plt.plot(diff)\n"
   ]
  },
  {
   "cell_type": "code",
   "execution_count": null,
   "metadata": {},
   "outputs": [
    {
     "data": {
      "image/png": "[encoded data removed]",
      "text/plain": [
       "<Figure size 432x288 with 1 Axes>"
      ]
     },
     "metadata": {
      "needs_background": "light"
     },
     "output_type": "display_data"
    },
    {
     "name": "stdout",
     "output_type": "stream",
     "text": [
      "Results of Dickey-Fuller Test:\n",
      "\n",
      "Test Statistic                   -29.860974\n",
      "p-value                            0.000000\n",
      "#Lags Used                        44.000000\n",
      "Number of Observations Used    17498.000000\n",
      "Critical Value (1%)               -3.430724\n",
      "Critical Value (5%)               -2.861705\n",
      "Critical Value (10%)              -2.566858\n",
      "dtype: float64\n"
     ]
    }
   ],
   "source": [
    "diff.dropna(inplace=True)\n",
    "test_stationarity(diff)\n"
   ]
  },
  {
   "cell_type": "markdown",
   "metadata": {},
   "source": [
    "best result so far\n"
   ]
  },
  {
   "cell_type": "markdown",
   "metadata": {},
   "source": [
    "### Decomposing\n"
   ]
  },
  {
   "cell_type": "code",
   "execution_count": null,
   "metadata": {},
   "outputs": [
    {
     "data": {
      "image/png": "[encoded data removed]",
      "text/plain": [
       "<Figure size 432x288 with 4 Axes>"
      ]
     },
     "metadata": {
      "needs_background": "light"
     },
     "output_type": "display_data"
    }
   ],
   "source": [
    "from statsmodels.tsa.seasonal import seasonal_decompose\n",
    "\n",
    "# Seasonal decomposition using moving averages\n",
    "decomposition = seasonal_decompose(arimaData)\n",
    "\n",
    "trend = decomposition.trend\n",
    "seasonal = decomposition.seasonal\n",
    "residual = decomposition.resid\n",
    "\n",
    "plt.subplot(411)\n",
    "plt.plot(arimaData, label='Original')\n",
    "plt.legend(loc='best')\n",
    "plt.subplot(412)\n",
    "plt.plot(trend, label='Trend')\n",
    "plt.legend(loc='best')\n",
    "plt.subplot(413)\n",
    "plt.plot(seasonal, label='Seasonality')\n",
    "plt.legend(loc='best')\n",
    "plt.subplot(414)\n",
    "plt.plot(residual, label='Residuals')\n",
    "plt.legend(loc='best')\n",
    "plt.tight_layout()\n"
   ]
  },
  {
   "cell_type": "code",
   "execution_count": null,
   "metadata": {},
   "outputs": [
    {
     "data": {
      "image/png": "[encoded data removed]",
      "text/plain": [
       "<Figure size 432x288 with 1 Axes>"
      ]
     },
     "metadata": {
      "needs_background": "light"
     },
     "output_type": "display_data"
    },
    {
     "name": "stdout",
     "output_type": "stream",
     "text": [
      "Results of Dickey-Fuller Test:\n",
      "\n",
      "Test Statistic                   -36.054996\n",
      "p-value                            0.000000\n",
      "#Lags Used                        44.000000\n",
      "Number of Observations Used    17475.000000\n",
      "Critical Value (1%)               -3.430724\n",
      "Critical Value (5%)               -2.861705\n",
      "Critical Value (10%)              -2.566858\n",
      "dtype: float64\n"
     ]
    }
   ],
   "source": [
    "decompose = residual\n",
    "decompose.dropna(inplace=True)\n",
    "test_stationarity(decompose)\n"
   ]
  },
  {
   "cell_type": "markdown",
   "metadata": {},
   "source": [
    "decomposing leads to the overall best result regarding the Dickey-Fuller Test. Therefore, the decomposed values will be used for the ARIMA model\n"
   ]
  },
  {
   "cell_type": "markdown",
   "metadata": {},
   "source": [
    "### ACF / PACF\n"
   ]
  },
  {
   "cell_type": "code",
   "execution_count": null,
   "metadata": {},
   "outputs": [],
   "source": [
    "from statsmodels.tsa.stattools import acf, pacf\n"
   ]
  },
  {
   "cell_type": "code",
   "execution_count": null,
   "metadata": {},
   "outputs": [],
   "source": [
    "lag_acf = acf(diff, nlags=5)\n",
    "lag_pacf = pacf(diff, nlags=5, method='ols')\n"
   ]
  },
  {
   "cell_type": "code",
   "execution_count": null,
   "metadata": {},
   "outputs": [
    {
     "data": {
      "text/plain": [
       "Text(0.5, 1.0, 'Autocorrelation Function')"
      ]
     },
     "execution_count": 117,
     "metadata": {},
     "output_type": "execute_result"
    },
    {
     "data": {
      "image/png": "[encoded data removed]",
      "text/plain": [
       "<Figure size 432x288 with 1 Axes>"
      ]
     },
     "metadata": {
      "needs_background": "light"
     },
     "output_type": "display_data"
    }
   ],
   "source": [
    "plt.subplot(121)\n",
    "plt.plot(lag_acf)\n",
    "plt.axhline(y=0, linestyle='--', color='gray')\n",
    "# the axis lines are at around 0.01 so they are not that visible\n",
    "plt.axhline(y=-1.96/np.sqrt(len(diff)), linestyle='--', color='gray')\n",
    "plt.axhline(y=1.96/np.sqrt(len(diff)), linestyle='--', color='gray')\n",
    "plt.title('Autocorrelation Function')\n"
   ]
  },
  {
   "cell_type": "code",
   "execution_count": null,
   "metadata": {},
   "outputs": [
    {
     "data": {
      "image/png": "[encoded data removed]",
      "text/plain": [
       "<Figure size 432x288 with 1 Axes>"
      ]
     },
     "metadata": {
      "needs_background": "light"
     },
     "output_type": "display_data"
    }
   ],
   "source": [
    "plt.subplot(122)\n",
    "plt.plot(lag_pacf)\n",
    "plt.axhline(y=0, linestyle='--', color='gray')\n",
    "# the axis lines are at around 0.01 so they are not that visible\n",
    "plt.axhline(y=-1.96/np.sqrt(len(diff)), linestyle='--', color='gray')\n",
    "plt.axhline(y=1.96/np.sqrt(len(diff)), linestyle='--', color='gray')\n",
    "plt.title('Partial Autocorrelation Function')\n",
    "plt.tight_layout()\n"
   ]
  },
  {
   "cell_type": "markdown",
   "metadata": {},
   "source": [
    "The lag value where acf crosse the upper confidence interval for the first time is around 1.7 so q=2\n",
    "\n",
    "The lag value where pacf crosse the upper confidence interval for the first time is around 1.6 so p=2\n"
   ]
  },
  {
   "cell_type": "markdown",
   "metadata": {},
   "source": [
    "## ARIMA model\n"
   ]
  },
  {
   "cell_type": "code",
   "execution_count": null,
   "metadata": {},
   "outputs": [],
   "source": [
    "from statsmodels.tsa.arima.model import ARIMA\n"
   ]
  },
  {
   "cell_type": "code",
   "execution_count": null,
   "metadata": {},
   "outputs": [
    {
     "data": {
      "text/html": [
       "<table class=\"simpletable\">\n",
       "<caption>SARIMAX Results</caption>\n",
       "<tr>\n",
       "  <th>Dep. Variable:</th>         <td>resid</td>      <th>  No. Observations:  </th>    <td>17520</td>  \n",
       "</tr>\n",
       "<tr>\n",
       "  <th>Model:</th>            <td>ARIMA(2, 1, 2)</td>  <th>  Log Likelihood     </th> <td>-84594.907</td>\n",
       "</tr>\n",
       "<tr>\n",
       "  <th>Date:</th>            <td>Mon, 24 Jan 2022</td> <th>  AIC                </th> <td>169199.814</td>\n",
       "</tr>\n",
       "<tr>\n",
       "  <th>Time:</th>                <td>18:12:49</td>     <th>  BIC                </th> <td>169238.670</td>\n",
       "</tr>\n",
       "<tr>\n",
       "  <th>Sample:</th>             <td>01-01-2016</td>    <th>  HQIC               </th> <td>169212.609</td>\n",
       "</tr>\n",
       "<tr>\n",
       "  <th></th>                   <td>- 12-31-2017</td>   <th>                     </th>      <td> </td>    \n",
       "</tr>\n",
       "<tr>\n",
       "  <th>Covariance Type:</th>        <td>opg</td>       <th>                     </th>      <td> </td>    \n",
       "</tr>\n",
       "</table>\n",
       "<table class=\"simpletable\">\n",
       "<tr>\n",
       "     <td></td>       <th>coef</th>     <th>std err</th>      <th>z</th>      <th>P>|z|</th>  <th>[0.025</th>    <th>0.975]</th>  \n",
       "</tr>\n",
       "<tr>\n",
       "  <th>ar.L1</th>  <td>   -0.3006</td> <td>    0.004</td> <td>  -79.602</td> <td> 0.000</td> <td>   -0.308</td> <td>   -0.293</td>\n",
       "</tr>\n",
       "<tr>\n",
       "  <th>ar.L2</th>  <td>    0.6994</td> <td>    0.004</td> <td>  185.121</td> <td> 0.000</td> <td>    0.692</td> <td>    0.707</td>\n",
       "</tr>\n",
       "<tr>\n",
       "  <th>ma.L1</th>  <td>   -0.0003</td> <td>    0.006</td> <td>   -0.052</td> <td> 0.958</td> <td>   -0.013</td> <td>    0.012</td>\n",
       "</tr>\n",
       "<tr>\n",
       "  <th>ma.L2</th>  <td>   -0.9997</td> <td>    0.006</td> <td> -157.012</td> <td> 0.000</td> <td>   -1.012</td> <td>   -0.987</td>\n",
       "</tr>\n",
       "<tr>\n",
       "  <th>sigma2</th> <td>  915.0641</td> <td> 1.39e-05</td> <td> 6.61e+07</td> <td> 0.000</td> <td>  915.064</td> <td>  915.064</td>\n",
       "</tr>\n",
       "</table>\n",
       "<table class=\"simpletable\">\n",
       "<tr>\n",
       "  <th>Ljung-Box (L1) (Q):</th>     <td>647.35</td> <th>  Jarque-Bera (JB):  </th> <td>10993.38</td>\n",
       "</tr>\n",
       "<tr>\n",
       "  <th>Prob(Q):</th>                 <td>0.00</td>  <th>  Prob(JB):          </th>   <td>0.00</td>  \n",
       "</tr>\n",
       "<tr>\n",
       "  <th>Heteroskedasticity (H):</th>  <td>1.74</td>  <th>  Skew:              </th>   <td>0.34</td>  \n",
       "</tr>\n",
       "<tr>\n",
       "  <th>Prob(H) (two-sided):</th>     <td>0.00</td>  <th>  Kurtosis:          </th>   <td>6.82</td>  \n",
       "</tr>\n",
       "</table><br/><br/>Warnings:<br/>[1] Covariance matrix calculated using the outer product of gradients (complex-step).<br/>[2] Covariance matrix is singular or near-singular, with condition number 1.29e+22. Standard errors may be unstable."
      ],
      "text/plain": [
       "<class 'statsmodels.iolib.summary.Summary'>\n",
       "\"\"\"\n",
       "                               SARIMAX Results                                \n",
       "==============================================================================\n",
       "Dep. Variable:                  resid   No. Observations:                17520\n",
       "Model:                 ARIMA(2, 1, 2)   Log Likelihood              -84594.907\n",
       "Date:                Mon, 24 Jan 2022   AIC                         169199.814\n",
       "Time:                        18:12:49   BIC                         169238.670\n",
       "Sample:                    01-01-2016   HQIC                        169212.609\n",
       "                         - 12-31-2017                                         \n",
       "Covariance Type:                  opg                                         \n",
       "==============================================================================\n",
       "                 coef    std err          z      P>|z|      [0.025      0.975]\n",
       "------------------------------------------------------------------------------\n",
       "ar.L1         -0.3006      0.004    -79.602      0.000      -0.308      -0.293\n",
       "ar.L2          0.6994      0.004    185.121      0.000       0.692       0.707\n",
       "ma.L1         -0.0003      0.006     -0.052      0.958      -0.013       0.012\n",
       "ma.L2         -0.9997      0.006   -157.012      0.000      -1.012      -0.987\n",
       "sigma2       915.0641   1.39e-05   6.61e+07      0.000     915.064     915.064\n",
       "===================================================================================\n",
       "Ljung-Box (L1) (Q):                 647.35   Jarque-Bera (JB):             10993.38\n",
       "Prob(Q):                              0.00   Prob(JB):                         0.00\n",
       "Heteroskedasticity (H):               1.74   Skew:                             0.34\n",
       "Prob(H) (two-sided):                  0.00   Kurtosis:                         6.82\n",
       "===================================================================================\n",
       "\n",
       "Warnings:\n",
       "[1] Covariance matrix calculated using the outer product of gradients (complex-step).\n",
       "[2] Covariance matrix is singular or near-singular, with condition number 1.29e+22. Standard errors may be unstable.\n",
       "\"\"\""
      ]
     },
     "execution_count": 120,
     "metadata": {},
     "output_type": "execute_result"
    }
   ],
   "source": [
    "warnings.filterwarnings(\"ignore\")\n",
    "# p and q from above\n",
    "model = ARIMA(decompose, order=(2, 1, 2))\n",
    "model_fit = model.fit()\n",
    "model_fit.summary()\n"
   ]
  },
  {
   "cell_type": "markdown",
   "metadata": {},
   "source": [
    "### ARIMA Forecasting\n"
   ]
  },
  {
   "cell_type": "code",
   "execution_count": null,
   "metadata": {},
   "outputs": [],
   "source": [
    "decomposition = seasonal_decompose(testArimaData)\n",
    "trend = decomposition.trend\n",
    "seasonal = decomposition.seasonal\n"
   ]
  },
  {
   "cell_type": "code",
   "execution_count": null,
   "metadata": {},
   "outputs": [
    {
     "data": {
      "text/html": [
       "<div>\n",
       "<style scoped>\n",
       "    .dataframe tbody tr th:only-of-type {\n",
       "        vertical-align: middle;\n",
       "    }\n",
       "\n",
       "    .dataframe tbody tr th {\n",
       "        vertical-align: top;\n",
       "    }\n",
       "\n",
       "    .dataframe thead th {\n",
       "        text-align: right;\n",
       "    }\n",
       "</style>\n",
       "<table border=\"1\" class=\"dataframe\">\n",
       "  <thead>\n",
       "    <tr style=\"text-align: right;\">\n",
       "      <th></th>\n",
       "      <th>trend</th>\n",
       "      <th>residual_prediction</th>\n",
       "      <th>seasonal</th>\n",
       "      <th>prediction</th>\n",
       "    </tr>\n",
       "    <tr>\n",
       "      <th>time_stamp</th>\n",
       "      <th></th>\n",
       "      <th></th>\n",
       "      <th></th>\n",
       "      <th></th>\n",
       "    </tr>\n",
       "  </thead>\n",
       "  <tbody>\n",
       "    <tr>\n",
       "      <th>2018-01-01 12:00:00</th>\n",
       "      <td>8.541667</td>\n",
       "      <td>-0.240389</td>\n",
       "      <td>19.259868</td>\n",
       "      <td>27.561146</td>\n",
       "    </tr>\n",
       "    <tr>\n",
       "      <th>2018-01-01 13:00:00</th>\n",
       "      <td>8.416667</td>\n",
       "      <td>0.255252</td>\n",
       "      <td>20.674417</td>\n",
       "      <td>29.346336</td>\n",
       "    </tr>\n",
       "    <tr>\n",
       "      <th>2018-01-01 14:00:00</th>\n",
       "      <td>8.166667</td>\n",
       "      <td>-0.240733</td>\n",
       "      <td>24.169266</td>\n",
       "      <td>32.095200</td>\n",
       "    </tr>\n",
       "    <tr>\n",
       "      <th>2018-01-01 15:00:00</th>\n",
       "      <td>7.958333</td>\n",
       "      <td>0.255007</td>\n",
       "      <td>35.721636</td>\n",
       "      <td>43.934976</td>\n",
       "    </tr>\n",
       "    <tr>\n",
       "      <th>2018-01-01 16:00:00</th>\n",
       "      <td>7.916667</td>\n",
       "      <td>-0.240900</td>\n",
       "      <td>64.196739</td>\n",
       "      <td>71.872505</td>\n",
       "    </tr>\n",
       "    <tr>\n",
       "      <th>...</th>\n",
       "      <td>...</td>\n",
       "      <td>...</td>\n",
       "      <td>...</td>\n",
       "      <td>...</td>\n",
       "    </tr>\n",
       "    <tr>\n",
       "      <th>2018-12-31 07:00:00</th>\n",
       "      <td>23.979167</td>\n",
       "      <td>0.245138</td>\n",
       "      <td>16.210074</td>\n",
       "      <td>40.434378</td>\n",
       "    </tr>\n",
       "    <tr>\n",
       "      <th>2018-12-31 08:00:00</th>\n",
       "      <td>23.020833</td>\n",
       "      <td>-0.231425</td>\n",
       "      <td>77.045010</td>\n",
       "      <td>99.834418</td>\n",
       "    </tr>\n",
       "    <tr>\n",
       "      <th>2018-12-31 09:00:00</th>\n",
       "      <td>21.854167</td>\n",
       "      <td>0.245135</td>\n",
       "      <td>17.979305</td>\n",
       "      <td>40.078607</td>\n",
       "    </tr>\n",
       "    <tr>\n",
       "      <th>2018-12-31 10:00:00</th>\n",
       "      <td>20.916667</td>\n",
       "      <td>-0.231423</td>\n",
       "      <td>-0.805894</td>\n",
       "      <td>19.879350</td>\n",
       "    </tr>\n",
       "    <tr>\n",
       "      <th>2018-12-31 11:00:00</th>\n",
       "      <td>20.666667</td>\n",
       "      <td>0.245133</td>\n",
       "      <td>6.688726</td>\n",
       "      <td>27.600526</td>\n",
       "    </tr>\n",
       "  </tbody>\n",
       "</table>\n",
       "<p>8736 rows × 4 columns</p>\n",
       "</div>"
      ],
      "text/plain": [
       "                         trend  residual_prediction   seasonal  prediction\n",
       "time_stamp                                                                \n",
       "2018-01-01 12:00:00   8.541667            -0.240389  19.259868   27.561146\n",
       "2018-01-01 13:00:00   8.416667             0.255252  20.674417   29.346336\n",
       "2018-01-01 14:00:00   8.166667            -0.240733  24.169266   32.095200\n",
       "2018-01-01 15:00:00   7.958333             0.255007  35.721636   43.934976\n",
       "2018-01-01 16:00:00   7.916667            -0.240900  64.196739   71.872505\n",
       "...                        ...                  ...        ...         ...\n",
       "2018-12-31 07:00:00  23.979167             0.245138  16.210074   40.434378\n",
       "2018-12-31 08:00:00  23.020833            -0.231425  77.045010   99.834418\n",
       "2018-12-31 09:00:00  21.854167             0.245135  17.979305   40.078607\n",
       "2018-12-31 10:00:00  20.916667            -0.231423  -0.805894   19.879350\n",
       "2018-12-31 11:00:00  20.666667             0.245133   6.688726   27.600526\n",
       "\n",
       "[8736 rows x 4 columns]"
      ]
     },
     "execution_count": 122,
     "metadata": {},
     "output_type": "execute_result"
    }
   ],
   "source": [
    "validation_df = pd.DataFrame(trend)\n",
    "# forecast 2018 data only\n",
    "validation_df[\"residual_prediction\"] = model_fit.forecast(\n",
    "    steps=dt.datetime(2019, 1, 1, 0))\n",
    "validation_df[\"seasonal\"] = seasonal\n",
    "# add back seasonal and trend to compare prediction to actual values\n",
    "validation_df[\"prediction\"] = validation_df[\"trend\"] + \\\n",
    "    validation_df[\"seasonal\"]+validation_df[\"residual_prediction\"]\n",
    "validation_df.dropna()\n"
   ]
  },
  {
   "cell_type": "code",
   "execution_count": null,
   "metadata": {},
   "outputs": [
    {
     "data": {
      "text/html": [
       "<div>\n",
       "<style scoped>\n",
       "    .dataframe tbody tr th:only-of-type {\n",
       "        vertical-align: middle;\n",
       "    }\n",
       "\n",
       "    .dataframe tbody tr th {\n",
       "        vertical-align: top;\n",
       "    }\n",
       "\n",
       "    .dataframe thead th {\n",
       "        text-align: right;\n",
       "    }\n",
       "</style>\n",
       "<table border=\"1\" class=\"dataframe\">\n",
       "  <thead>\n",
       "    <tr style=\"text-align: right;\">\n",
       "      <th></th>\n",
       "      <th>number_of_trips</th>\n",
       "      <th>prediction</th>\n",
       "      <th>prediction_abs_error</th>\n",
       "    </tr>\n",
       "    <tr>\n",
       "      <th>time_stamp</th>\n",
       "      <th></th>\n",
       "      <th></th>\n",
       "      <th></th>\n",
       "    </tr>\n",
       "  </thead>\n",
       "  <tbody>\n",
       "    <tr>\n",
       "      <th>2018-01-01 12:00:00</th>\n",
       "      <td>8.0</td>\n",
       "      <td>28.0</td>\n",
       "      <td>20.0</td>\n",
       "    </tr>\n",
       "    <tr>\n",
       "      <th>2018-01-01 13:00:00</th>\n",
       "      <td>9.0</td>\n",
       "      <td>29.0</td>\n",
       "      <td>20.0</td>\n",
       "    </tr>\n",
       "    <tr>\n",
       "      <th>2018-01-01 14:00:00</th>\n",
       "      <td>21.0</td>\n",
       "      <td>32.0</td>\n",
       "      <td>11.0</td>\n",
       "    </tr>\n",
       "    <tr>\n",
       "      <th>2018-01-01 15:00:00</th>\n",
       "      <td>15.0</td>\n",
       "      <td>44.0</td>\n",
       "      <td>29.0</td>\n",
       "    </tr>\n",
       "    <tr>\n",
       "      <th>2018-01-01 16:00:00</th>\n",
       "      <td>18.0</td>\n",
       "      <td>72.0</td>\n",
       "      <td>54.0</td>\n",
       "    </tr>\n",
       "    <tr>\n",
       "      <th>...</th>\n",
       "      <td>...</td>\n",
       "      <td>...</td>\n",
       "      <td>...</td>\n",
       "    </tr>\n",
       "    <tr>\n",
       "      <th>2018-12-31 07:00:00</th>\n",
       "      <td>20.0</td>\n",
       "      <td>40.0</td>\n",
       "      <td>20.0</td>\n",
       "    </tr>\n",
       "    <tr>\n",
       "      <th>2018-12-31 08:00:00</th>\n",
       "      <td>61.0</td>\n",
       "      <td>100.0</td>\n",
       "      <td>39.0</td>\n",
       "    </tr>\n",
       "    <tr>\n",
       "      <th>2018-12-31 09:00:00</th>\n",
       "      <td>51.0</td>\n",
       "      <td>40.0</td>\n",
       "      <td>11.0</td>\n",
       "    </tr>\n",
       "    <tr>\n",
       "      <th>2018-12-31 10:00:00</th>\n",
       "      <td>35.0</td>\n",
       "      <td>20.0</td>\n",
       "      <td>15.0</td>\n",
       "    </tr>\n",
       "    <tr>\n",
       "      <th>2018-12-31 11:00:00</th>\n",
       "      <td>67.0</td>\n",
       "      <td>28.0</td>\n",
       "      <td>39.0</td>\n",
       "    </tr>\n",
       "  </tbody>\n",
       "</table>\n",
       "<p>8736 rows × 3 columns</p>\n",
       "</div>"
      ],
      "text/plain": [
       "                     number_of_trips  prediction  prediction_abs_error\n",
       "time_stamp                                                            \n",
       "2018-01-01 12:00:00              8.0        28.0                  20.0\n",
       "2018-01-01 13:00:00              9.0        29.0                  20.0\n",
       "2018-01-01 14:00:00             21.0        32.0                  11.0\n",
       "2018-01-01 15:00:00             15.0        44.0                  29.0\n",
       "2018-01-01 16:00:00             18.0        72.0                  54.0\n",
       "...                              ...         ...                   ...\n",
       "2018-12-31 07:00:00             20.0        40.0                  20.0\n",
       "2018-12-31 08:00:00             61.0       100.0                  39.0\n",
       "2018-12-31 09:00:00             51.0        40.0                  11.0\n",
       "2018-12-31 10:00:00             35.0        20.0                  15.0\n",
       "2018-12-31 11:00:00             67.0        28.0                  39.0\n",
       "\n",
       "[8736 rows x 3 columns]"
      ]
     },
     "execution_count": 123,
     "metadata": {},
     "output_type": "execute_result"
    }
   ],
   "source": [
    "testArimaData[\"prediction\"] = validation_df[\"prediction\"]\n",
    "# set negative predictions to 0, since demand can't be negative\n",
    "testArimaData[\"prediction\"][testArimaData[\"prediction\"] < 0] = 0\n",
    "# round prediction to nearest integer, since bikes can't be half rented (does not affect error significantly)\n",
    "testArimaData = testArimaData.round({\"prediction\": 0})\n",
    "testArimaData[\"prediction_abs_error\"] = abs(testArimaData[\"prediction\"] -\n",
    "                                            testArimaData[\"rides_counted\"])\n",
    "# the first and last 12 values are not predicted\n",
    "testArimaData.dropna()\n"
   ]
  },
  {
   "cell_type": "markdown",
   "metadata": {},
   "source": [
    "#### calculate prediction errors"
   ]
  },
  {
   "cell_type": "code",
   "execution_count": null,
   "metadata": {},
   "outputs": [
    {
     "data": {
      "text/plain": [
       "Text(0.5, 1.0, 'absolute error in forecasting')"
      ]
     },
     "execution_count": 124,
     "metadata": {},
     "output_type": "execute_result"
    },
    {
     "data": {
      "image/png": "[encoded data removed]",
      "text/plain": [
       "<Figure size 432x288 with 1 Axes>"
      ]
     },
     "metadata": {
      "needs_background": "light"
     },
     "output_type": "display_data"
    }
   ],
   "source": [
    "plt.plot(testArimaData[\"prediction_abs_error\"])\n",
    "plt.title(\"absolute error in forecasting\")\n"
   ]
  },
  {
   "cell_type": "code",
   "execution_count": null,
   "metadata": {},
   "outputs": [
    {
     "name": "stdout",
     "output_type": "stream",
     "text": [
      "mean squared error: 1305.0184294871794\n",
      "mean absolute error: 25.421130952380953\n"
     ]
    }
   ],
   "source": [
    "print(\"mean squared error: \" +\n",
    "      str((testArimaData[\"prediction_abs_error\"]**2).mean()))\n",
    "print(\"mean absolute error: \" +\n",
    "      str(testArimaData[\"prediction_abs_error\"].mean()))\n"
   ]
  },
  {
   "cell_type": "code",
   "execution_count": null,
   "metadata": {},
   "outputs": [
    {
     "data": {
      "text/plain": [
       "76.32237442922374"
      ]
     },
     "execution_count": 126,
     "metadata": {},
     "output_type": "execute_result"
    }
   ],
   "source": [
    "testArimaData[\"rides_counted\"].mean()\n"
   ]
  },
  {
   "cell_type": "code",
   "execution_count": null,
   "metadata": {},
   "outputs": [
    {
     "data": {
      "text/plain": [
       "<matplotlib.legend.Legend at 0x24243dc9ed0>"
      ]
     },
     "execution_count": 127,
     "metadata": {},
     "output_type": "execute_result"
    },
    {
     "data": {
      "image/png": "[encoded data removed]",
      "text/plain": [
       "<Figure size 432x288 with 1 Axes>"
      ]
     },
     "metadata": {
      "needs_background": "light"
     },
     "output_type": "display_data"
    }
   ],
   "source": [
    "plt.plot(testArimaData[\"rides_counted\"], label=\"actual value\")\n",
    "plt.plot(testArimaData[\"prediction\"], label=\"prediction\")\n",
    "plt.title(\"Prediction of demand\")\n",
    "plt.legend()\n"
   ]
  },
  {
   "cell_type": "markdown",
   "metadata": {},
   "source": [
    "## Random Forest\n"
   ]
  },
  {
   "cell_type": "markdown",
   "metadata": {},
   "source": [
    "Only include data data from 2018\n"
   ]
  },
  {
   "cell_type": "code",
   "execution_count": null,
   "metadata": {},
   "outputs": [],
   "source": [
    "data_random_forest = data[data.index.year == 2018]\n"
   ]
  },
  {
   "attachments": {},
   "cell_type": "markdown",
   "metadata": {},
   "source": [
    "Remove target 'rides_counted' to retrieve the features\n"
   ]
  },
  {
   "cell_type": "code",
   "execution_count": null,
   "metadata": {},
   "outputs": [
    {
     "data": {
      "text/html": [
       "<div>\n",
       "<style scoped>\n",
       "    .dataframe tbody tr th:only-of-type {\n",
       "        vertical-align: middle;\n",
       "    }\n",
       "\n",
       "    .dataframe tbody tr th {\n",
       "        vertical-align: top;\n",
       "    }\n",
       "\n",
       "    .dataframe thead th {\n",
       "        text-align: right;\n",
       "    }\n",
       "</style>\n",
       "<table border=\"1\" class=\"dataframe\">\n",
       "  <thead>\n",
       "    <tr style=\"text-align: right;\">\n",
       "      <th></th>\n",
       "      <th>max_temp</th>\n",
       "      <th>min_temp</th>\n",
       "      <th>precip</th>\n",
       "      <th>dayofweek</th>\n",
       "      <th>month</th>\n",
       "      <th>hour</th>\n",
       "      <th>is_holiday_or_weekend</th>\n",
       "    </tr>\n",
       "    <tr>\n",
       "      <th>time_stamp</th>\n",
       "      <th></th>\n",
       "      <th></th>\n",
       "      <th></th>\n",
       "      <th></th>\n",
       "      <th></th>\n",
       "      <th></th>\n",
       "      <th></th>\n",
       "    </tr>\n",
       "  </thead>\n",
       "  <tbody>\n",
       "    <tr>\n",
       "      <th>2018-01-01 00:00:00</th>\n",
       "      <td>-10.6</td>\n",
       "      <td>-10.6</td>\n",
       "      <td>0.0</td>\n",
       "      <td>0</td>\n",
       "      <td>1</td>\n",
       "      <td>0</td>\n",
       "      <td>True</td>\n",
       "    </tr>\n",
       "    <tr>\n",
       "      <th>2018-01-01 01:00:00</th>\n",
       "      <td>-10.6</td>\n",
       "      <td>-10.6</td>\n",
       "      <td>0.0</td>\n",
       "      <td>0</td>\n",
       "      <td>1</td>\n",
       "      <td>1</td>\n",
       "      <td>True</td>\n",
       "    </tr>\n",
       "    <tr>\n",
       "      <th>2018-01-01 02:00:00</th>\n",
       "      <td>-11.1</td>\n",
       "      <td>-11.1</td>\n",
       "      <td>0.0</td>\n",
       "      <td>0</td>\n",
       "      <td>1</td>\n",
       "      <td>2</td>\n",
       "      <td>True</td>\n",
       "    </tr>\n",
       "    <tr>\n",
       "      <th>2018-01-01 03:00:00</th>\n",
       "      <td>-12.2</td>\n",
       "      <td>-12.2</td>\n",
       "      <td>0.0</td>\n",
       "      <td>0</td>\n",
       "      <td>1</td>\n",
       "      <td>3</td>\n",
       "      <td>True</td>\n",
       "    </tr>\n",
       "    <tr>\n",
       "      <th>2018-01-01 04:00:00</th>\n",
       "      <td>-11.7</td>\n",
       "      <td>-11.7</td>\n",
       "      <td>0.0</td>\n",
       "      <td>0</td>\n",
       "      <td>1</td>\n",
       "      <td>4</td>\n",
       "      <td>True</td>\n",
       "    </tr>\n",
       "  </tbody>\n",
       "</table>\n",
       "</div>"
      ],
      "text/plain": [
       "                     max_temp  min_temp  precip  dayofweek  month  hour  \\\n",
       "time_stamp                                                                \n",
       "2018-01-01 00:00:00     -10.6     -10.6     0.0          0      1     0   \n",
       "2018-01-01 01:00:00     -10.6     -10.6     0.0          0      1     1   \n",
       "2018-01-01 02:00:00     -11.1     -11.1     0.0          0      1     2   \n",
       "2018-01-01 03:00:00     -12.2     -12.2     0.0          0      1     3   \n",
       "2018-01-01 04:00:00     -11.7     -11.7     0.0          0      1     4   \n",
       "\n",
       "                     is_holiday_or_weekend  \n",
       "time_stamp                                  \n",
       "2018-01-01 00:00:00                   True  \n",
       "2018-01-01 01:00:00                   True  \n",
       "2018-01-01 02:00:00                   True  \n",
       "2018-01-01 03:00:00                   True  \n",
       "2018-01-01 04:00:00                   True  "
      ]
     },
     "execution_count": 129,
     "metadata": {},
     "output_type": "execute_result"
    }
   ],
   "source": [
    "target = data_random_forest['rides_counted']\n",
    "features = data_random_forest.drop(['rides_counted'], axis=1)\n",
    "feature_list = list(features.columns)\n",
    "features.head(5)\n"
   ]
  },
  {
   "cell_type": "markdown",
   "metadata": {},
   "source": [
    "Split the data sets\n"
   ]
  },
  {
   "cell_type": "code",
   "execution_count": null,
   "metadata": {},
   "outputs": [],
   "source": [
    "from sklearn.model_selection import train_test_split\n",
    "# Split the data into training and testing sets\n",
    "train_features, test_features, train_labels, test_labels = train_test_split(\n",
    "    features, target,  random_state=0)\n"
   ]
  },
  {
   "cell_type": "code",
   "execution_count": null,
   "metadata": {},
   "outputs": [
    {
     "name": "stdout",
     "output_type": "stream",
     "text": [
      "Training Features Shape: (6570, 7)\n",
      "Training Labels Shape: (6570,)\n",
      "Testing Features Shape: (2190, 7)\n",
      "Testing Labels Shape: (2190,)\n"
     ]
    }
   ],
   "source": [
    "print('Training Features Shape:', train_features.shape)\n",
    "print('Training Labels Shape:', train_labels.shape)\n",
    "print('Testing Features Shape:', test_features.shape)\n",
    "print('Testing Labels Shape:', test_labels.shape)\n"
   ]
  },
  {
   "cell_type": "markdown",
   "metadata": {},
   "source": [
    "Train Model\n"
   ]
  },
  {
   "cell_type": "code",
   "execution_count": null,
   "metadata": {},
   "outputs": [
    {
     "data": {
      "text/plain": [
       "RandomForestRegressor(n_estimators=1000, random_state=42)"
      ]
     },
     "execution_count": 132,
     "metadata": {},
     "output_type": "execute_result"
    }
   ],
   "source": [
    "from sklearn.ensemble import RandomForestRegressor\n",
    "# Instantiate model with 1000 decision trees\n",
    "rf = RandomForestRegressor(n_estimators=1000, random_state=42)\n",
    "# Train the model on training data\n",
    "rf.fit(train_features, train_labels)\n"
   ]
  },
  {
   "cell_type": "code",
   "execution_count": null,
   "metadata": {},
   "outputs": [
    {
     "data": {
      "text/plain": [
       "array([], dtype=float64)"
      ]
     },
     "execution_count": 133,
     "metadata": {},
     "output_type": "execute_result"
    }
   ],
   "source": [
    "predictions = rf.predict(test_features)\n",
    "predictions[predictions < 0]\n"
   ]
  },
  {
   "cell_type": "code",
   "execution_count": null,
   "metadata": {},
   "outputs": [
    {
     "name": "stdout",
     "output_type": "stream",
     "text": [
      "Mean Absolute Error: 16.56  rented bikes.\n"
     ]
    }
   ],
   "source": [
    "errors = abs(predictions - test_labels)\n",
    "print('Mean Absolute Error:', round(np.mean(errors), 2), ' rented bikes.')\n"
   ]
  },
  {
   "cell_type": "code",
   "execution_count": null,
   "metadata": {},
   "outputs": [
    {
     "data": {
      "text/plain": [
       "[<matplotlib.lines.Line2D at 0x2426569f070>]"
      ]
     },
     "execution_count": 135,
     "metadata": {},
     "output_type": "execute_result"
    },
    {
     "data": {
      "image/png": "[encoded data removed]",
      "text/plain": [
       "<Figure size 432x288 with 1 Axes>"
      ]
     },
     "metadata": {
      "needs_background": "light"
     },
     "output_type": "display_data"
    }
   ],
   "source": [
    "errors = errors.sort_index()\n",
    "plt.plot(errors)\n"
   ]
  },
  {
   "cell_type": "markdown",
   "metadata": {},
   "source": [
    "## Polynomial regression\n"
   ]
  },
  {
   "cell_type": "code",
   "execution_count": null,
   "metadata": {},
   "outputs": [],
   "source": [
    "from sklearn.preprocessing import PolynomialFeatures\n",
    "from sklearn.linear_model import LinearRegression\n"
   ]
  },
  {
   "cell_type": "markdown",
   "metadata": {},
   "source": [
    "only include data from 2018\n"
   ]
  },
  {
   "cell_type": "code",
   "execution_count": null,
   "metadata": {},
   "outputs": [],
   "source": [
    "data_polynomial_regression = data[data.index.year == 2018]\n"
   ]
  },
  {
   "cell_type": "markdown",
   "metadata": {},
   "source": [
    "Function that transforms the input features to the wanted dimension\n"
   ]
  },
  {
   "cell_type": "code",
   "execution_count": null,
   "metadata": {},
   "outputs": [],
   "source": [
    "def fit_and_transform_features_to_new_dimension(new_dim, features):\n",
    "    poly_reg = PolynomialFeatures(degree=new_dim)\n",
    "    return poly_reg.fit_transform(features)\n"
   ]
  },
  {
   "cell_type": "markdown",
   "metadata": {},
   "source": [
    "PCA to reduce some noise before applying linear regression"
   ]
  },
  {
   "cell_type": "code",
   "execution_count": null,
   "metadata": {},
   "outputs": [],
   "source": [
    "from sklearn.decomposition import PCA\n",
    "from sklearn.preprocessing import StandardScaler\n",
    "scaler = StandardScaler()\n",
    "scaler.fit(features)\n",
    "features_scaled = scaler.transform(features)\n",
    "pca = PCA(n_components=1)\n",
    "X_pca = pca.fit_transform(features_scaled)"
   ]
  },
  {
   "cell_type": "code",
   "execution_count": null,
   "metadata": {},
   "outputs": [
    {
     "name": "stdout",
     "output_type": "stream",
     "text": [
      "0.30582824583324714\n"
     ]
    }
   ],
   "source": [
    "print(pca.explained_variance_ratio_[0])"
   ]
  },
  {
   "cell_type": "markdown",
   "metadata": {},
   "source": [
    "Using only one component does not supply a sufficient explained variance ratio of 95%."
   ]
  },
  {
   "cell_type": "markdown",
   "metadata": {},
   "source": [
    "Next we increase the number to five components"
   ]
  },
  {
   "cell_type": "code",
   "execution_count": null,
   "metadata": {},
   "outputs": [],
   "source": [
    "pca5 = PCA(n_components=5)\n",
    "X_pca5 = pca5.fit_transform(features_scaled)"
   ]
  },
  {
   "cell_type": "code",
   "execution_count": null,
   "metadata": {},
   "outputs": [
    {
     "name": "stdout",
     "output_type": "stream",
     "text": [
      "0.9572898418368267\n"
     ]
    }
   ],
   "source": [
    "print(sum(pca5.explained_variance_ratio_))"
   ]
  },
  {
   "cell_type": "markdown",
   "metadata": {},
   "source": [
    "Using five components we reach an explained variance over 95%. Thus, we decide to use five components in the following regression."
   ]
  },
  {
   "cell_type": "markdown",
   "metadata": {},
   "source": [
    "new train-test split as we have the new variables with the pca "
   ]
  },
  {
   "cell_type": "code",
   "execution_count": null,
   "metadata": {},
   "outputs": [],
   "source": [
    "train_features, test_features, train_labels, test_labels = train_test_split(\n",
    "    X_pca5, target,  random_state=0)"
   ]
  },
  {
   "cell_type": "markdown",
   "metadata": {},
   "source": [
    "Function that creates a new regression model and fits it with input features\n"
   ]
  },
  {
   "cell_type": "code",
   "execution_count": null,
   "metadata": {},
   "outputs": [],
   "source": [
    "def create_and_fit_model(test_features, test_labels):\n",
    "    # normalization is redundant as features are already normalized for PCA, but to be on the safe side we normalize once more\n",
    "    lin_reg_2 = LinearRegression(normalize=True)\n",
    "    lin_reg_2.fit(test_features, test_labels)\n",
    "    return lin_reg_2\n"
   ]
  },
  {
   "cell_type": "markdown",
   "metadata": {},
   "source": [
    "Function to compute mean average error for a regression model\n"
   ]
  },
  {
   "cell_type": "code",
   "execution_count": null,
   "metadata": {},
   "outputs": [],
   "source": [
    "def compute_mean_average_error(polynomial_regression, test_features, test_labels):\n",
    "    predictions = polynomial_regression.predict(test_features)\n",
    "    abs_error = abs(predictions - test_labels)\n",
    "    return round(np.mean(abs_error), 2)\n"
   ]
  },
  {
   "cell_type": "markdown",
   "metadata": {},
   "source": [
    "Compute mean average error for degree one to ten for test and training data set.\n"
   ]
  },
  {
   "cell_type": "code",
   "execution_count": null,
   "metadata": {},
   "outputs": [],
   "source": [
    "# quick for range(1,8), 3min for range(1,11), compute time rises exponentially for higher ranges\n",
    "test_errors = pd.Series([], dtype='float64')\n",
    "training_errors = pd.Series([], dtype='float64')\n",
    "for i in range(1, 11):\n",
    "    train_features_dim_i = fit_and_transform_features_to_new_dimension(\n",
    "        i, train_features)\n",
    "    test_features_dim_i = fit_and_transform_features_to_new_dimension(\n",
    "        i, test_features)\n",
    "    regression_model_dim_i = create_and_fit_model(\n",
    "        train_features_dim_i, train_labels)\n",
    "    mean_avg_error_test = compute_mean_average_error(\n",
    "        regression_model_dim_i, test_features_dim_i, test_labels)\n",
    "    mean_avg_error_train = compute_mean_average_error(\n",
    "        regression_model_dim_i, train_features_dim_i, train_labels)\n",
    "    test_errors[i] = mean_avg_error_test\n",
    "    training_errors[i] = mean_avg_error_train\n"
   ]
  },
  {
   "cell_type": "markdown",
   "metadata": {},
   "source": [
    "Plot mean average error for the different degrees.\n"
   ]
  },
  {
   "cell_type": "code",
   "execution_count": null,
   "metadata": {},
   "outputs": [
    {
     "data": {
      "text/plain": [
       "Text(0, 0.5, 'Mean squared error')"
      ]
     },
     "execution_count": 147,
     "metadata": {},
     "output_type": "execute_result"
    },
    {
     "data": {
      "image/png": "[encoded data removed]",
      "text/plain": [
       "<Figure size 432x288 with 1 Axes>"
      ]
     },
     "metadata": {
      "needs_background": "light"
     },
     "output_type": "display_data"
    }
   ],
   "source": [
    "plt.semilogy(range(len(training_errors)), training_errors,\n",
    "             range(len(test_errors)), test_errors)\n",
    "plt.legend([\"Training\", \"Validation\"])\n",
    "plt.xlabel(\"Polynomial degree\")\n",
    "plt.ylabel(\"Mean squared error\")\n"
   ]
  },
  {
   "cell_type": "markdown",
   "metadata": {},
   "source": [
    "Show the five degrees with the lowest average error in the predction.\n"
   ]
  },
  {
   "cell_type": "code",
   "execution_count": null,
   "metadata": {},
   "outputs": [
    {
     "data": {
      "text/plain": [
       "7    28.19\n",
       "6    30.26\n",
       "4    31.22\n",
       "5    31.26\n",
       "3    33.12\n",
       "dtype: float64"
      ]
     },
     "execution_count": 148,
     "metadata": {},
     "output_type": "execute_result"
    }
   ],
   "source": [
    "test_errors.sort_values().head(n=5)\n"
   ]
  },
  {
   "cell_type": "markdown",
   "metadata": {},
   "source": [
    "We take the model with degree = 4.\n"
   ]
  },
  {
   "cell_type": "markdown",
   "metadata": {},
   "source": [
    "## Regularization\n"
   ]
  },
  {
   "cell_type": "markdown",
   "metadata": {},
   "source": [
    "Retrieve the five highest coefficients for our features\n"
   ]
  },
  {
   "cell_type": "code",
   "execution_count": null,
   "metadata": {},
   "outputs": [
    {
     "data": {
      "text/plain": [
       "array([ 9155.77916672, 15031.27780523, 15403.38426416, 32682.44078868,\n",
       "       58285.65517623])"
      ]
     },
     "execution_count": 149,
     "metadata": {},
     "output_type": "execute_result"
    }
   ],
   "source": [
    "train_features_dim_4 = fit_and_transform_features_to_new_dimension(\n",
    "    4, train_features)\n",
    "test_features_dim_4 = fit_and_transform_features_to_new_dimension(\n",
    "    4, test_features)\n",
    "regression_model_dim_4 = create_and_fit_model(\n",
    "    train_features_dim_4, train_labels)\n",
    "sorted_index_array = np.argsort(regression_model_dim_4.coef_)\n",
    "regression_model_dim_4.coef_[sorted_index_array[-5:]]\n"
   ]
  },
  {
   "cell_type": "markdown",
   "metadata": {},
   "source": [
    "Retrieve the five lowest coeffecients for out features\n"
   ]
  },
  {
   "cell_type": "code",
   "execution_count": null,
   "metadata": {},
   "outputs": [
    {
     "data": {
      "text/plain": [
       "array([-52038.12606313, -24848.47531517, -19417.4568345 , -11818.18039256,\n",
       "       -11128.98415731])"
      ]
     },
     "execution_count": 150,
     "metadata": {},
     "output_type": "execute_result"
    }
   ],
   "source": [
    "regression_model_dim_4.coef_[sorted_index_array[1:6]]\n"
   ]
  },
  {
   "cell_type": "markdown",
   "metadata": {},
   "source": [
    "#### Ridge regression\n"
   ]
  },
  {
   "cell_type": "markdown",
   "metadata": {},
   "source": [
    "Search for a good and appropriate alpha value.\n"
   ]
  },
  {
   "cell_type": "code",
   "execution_count": null,
   "metadata": {},
   "outputs": [],
   "source": [
    "from sklearn.linear_model import Ridge\n",
    "alphas = np.logspace(-10, 10, 100)\n",
    "test_errors_l2 = pd.Series([], dtype='float64')\n",
    "training_errors_l2 = pd.Series([], dtype='float64')\n",
    "for alpha in alphas:\n",
    "    model_L2 = Ridge(alpha=alpha, normalize=True, solver='lsqr')\n",
    "    model_L2.fit(train_features_dim_4, train_labels)\n",
    "    test_errors_l2[alpha] = compute_mean_average_error(\n",
    "        model_L2, test_features_dim_4, test_labels)\n",
    "    training_errors_l2[alpha] = compute_mean_average_error(\n",
    "        model_L2, train_features_dim_4, train_labels)\n"
   ]
  },
  {
   "cell_type": "markdown",
   "metadata": {},
   "source": [
    "Plot mean average error for the different alpha values\n"
   ]
  },
  {
   "cell_type": "code",
   "execution_count": null,
   "metadata": {},
   "outputs": [
    {
     "data": {
      "text/plain": [
       "Text(0.5, 1.0, 'Ridge regression')"
      ]
     },
     "execution_count": 152,
     "metadata": {},
     "output_type": "execute_result"
    },
    {
     "data": {
      "image/png": "[encoded data removed]",
      "text/plain": [
       "<Figure size 432x288 with 1 Axes>"
      ]
     },
     "metadata": {
      "needs_background": "light"
     },
     "output_type": "display_data"
    }
   ],
   "source": [
    "plt.loglog(alphas, training_errors_l2, alphas, test_errors_l2)\n",
    "plt.legend([\"Training\", \"Validation\"])\n",
    "plt.xlabel(\"Regularization parameter alpha\")\n",
    "plt.ylabel(\"Mean average error L2\")\n",
    "plt.title(\"Ridge regression\")"
   ]
  },
  {
   "cell_type": "code",
   "execution_count": null,
   "metadata": {},
   "outputs": [
    {
     "name": "stdout",
     "output_type": "stream",
     "text": [
      "We have the lowest mean average error of 31.28 for alpha = 1e-10\n"
     ]
    }
   ],
   "source": [
    "print(\"We have the lowest mean average error of {0} for alpha = {1}\".format(test_errors_l2[test_errors_l2.sort_values(\n",
    ").head(n=1).index].values[0], str(test_errors_l2.sort_values().head(n=1).index)[14:19]))\n"
   ]
  },
  {
   "cell_type": "markdown",
   "metadata": {},
   "source": [
    "Thus with the regularization we could improve our mean average error slightly.\n"
   ]
  },
  {
   "cell_type": "markdown",
   "metadata": {},
   "source": [
    "#### Lasso regression\n"
   ]
  },
  {
   "cell_type": "code",
   "execution_count": null,
   "metadata": {},
   "outputs": [],
   "source": [
    "# takes 2 minutes\n",
    "from sklearn.linear_model import Lasso\n",
    "alphas = np.logspace(-10, 10, 100)\n",
    "test_errors_l1 = pd.Series([], dtype='float64')\n",
    "training_errors_l1 = pd.Series([], dtype='float64')\n",
    "for alpha in alphas:\n",
    "    model_L1 = Lasso(alpha=alpha)\n",
    "    model_L1.fit(train_features_dim_4, train_labels)\n",
    "    test_errors_l1[alpha] = compute_mean_average_error(\n",
    "        model_L1, test_features_dim_4, test_labels)\n",
    "    training_errors_l1[alpha] = compute_mean_average_error(\n",
    "        model_L1, train_features_dim_4, train_labels)\n"
   ]
  },
  {
   "cell_type": "code",
   "execution_count": null,
   "metadata": {},
   "outputs": [
    {
     "data": {
      "text/plain": [
       "Text(0.5, 1.0, 'Lasso regression')"
      ]
     },
     "execution_count": 155,
     "metadata": {},
     "output_type": "execute_result"
    },
    {
     "data": {
      "image/png": "[encoded data removed]",
      "text/plain": [
       "<Figure size 432x288 with 1 Axes>"
      ]
     },
     "metadata": {
      "needs_background": "light"
     },
     "output_type": "display_data"
    }
   ],
   "source": [
    "plt.loglog(alphas, training_errors_l1, alphas, test_errors_l1)\n",
    "plt.legend([\"Training\", \"Validation\"])\n",
    "plt.xlabel(\"Regularization parameter alpha\")\n",
    "plt.ylabel(\"Mean average error L1\")\n",
    "plt.title(\"Lasso regression\")\n"
   ]
  },
  {
   "cell_type": "code",
   "execution_count": null,
   "metadata": {},
   "outputs": [
    {
     "name": "stdout",
     "output_type": "stream",
     "text": [
      "We have the lowest mean average error of 31.19 for alpha = 1e-10\n"
     ]
    }
   ],
   "source": [
    "print(\"We have the lowest mean average error of {0} for alpha = {1}\".format(test_errors_l1[test_errors_l1.sort_values(\n",
    ").head(n=1).index].values[0], str(test_errors_l1.sort_values().head(n=1).index)[14:19]))\n"
   ]
  }
 ],
 "metadata": {
  "kernelspec": {
   "display_name": "Python 3",
   "language": "python",
   "name": "python3"
  },
  "language_info": {
   "codemirror_mode": {
    "name": "ipython",
    "version": 3
   },
   "file_extension": ".py",
   "mimetype": "text/x-python",
   "name": "python",
   "nbconvert_exporter": "python",
   "pygments_lexer": "ipython3",
   "version": "3.10.6"
  },
  "orig_nbformat": 4,
  "vscode": {
   "interpreter": {
    "hash": "237413fe4cf554e3e1b344a6b2b1fc3866fe88e2661eca425fbc1ab3bd331ffe"
   }
  }
 },
 "nbformat": 4,
 "nbformat_minor": 2
}
